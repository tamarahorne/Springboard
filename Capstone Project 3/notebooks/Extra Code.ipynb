{
 "cells": [
  {
   "cell_type": "code",
   "execution_count": null,
   "id": "3f9171f5",
   "metadata": {},
   "outputs": [],
   "source": [
    "#This works.  Don't delete it.\n",
    "\n",
    "#high_single = data_corr_high['gene_20397'][data_corr_high['gene_20397']!=0][data_corr_high['gene_20397']!=1]\n",
    "#high_single"
   ]
  },
  {
   "cell_type": "code",
   "execution_count": null,
   "id": "b9c76259",
   "metadata": {},
   "outputs": [],
   "source": [
    "# Don't delete this - this shows promise but still needs alteration\n",
    "\n",
    "#for i in data_corr_high:\n",
    "#    high[i] = data_corr_high[i][data_corr_high[i]!=0][data_corr_high[i]!=1]\n",
    "#    print(high)"
   ]
  },
  {
   "cell_type": "code",
   "execution_count": null,
   "id": "8dabe66a",
   "metadata": {},
   "outputs": [],
   "source": [
    "# This is getting really close - don't delete\n",
    "\n",
    "high_single_df2 = pd.DataFrame()\n",
    "\n",
    "high_single = data_corr_high['gene_20397'][data_corr_high['gene_20397']!=0][data_corr_high['gene_20397']!=1]\n",
    "\n",
    "high_single_df2['corr'] = high_single\n",
    "high_single_df2 = high_single_df2.reset_index()\n",
    "high_single_df2.rename(columns={'index': 'gene_B'}, inplace=True)\n",
    "high_single_df2['gene_A'] = 'gene_20397'\n",
    "high_single_df2 = high_single_df2[['gene_A','gene_B','corr']]\n",
    "high_single_df2"
   ]
  },
  {
   "cell_type": "code",
   "execution_count": null,
   "id": "11be59c9",
   "metadata": {},
   "outputs": [],
   "source": [
    "high_single_df5 = pd.DataFrame()\n",
    "\n",
    "high_single = data_corr_high['gene_13442'][data_corr_high['gene_13442']!=0][data_corr_high['gene_13442']!=1]\n",
    "\n",
    "high_single_df5['corr'] = high_single\n",
    "high_single_df5 = high_single_df5.reset_index()\n",
    "high_single_df5.rename(columns={'index': 'gene_B'}, inplace=True)\n",
    "high_single_df5['gene_A'] = 'gene_13442'\n",
    "high_single_df5 = high_single_df5[['gene_A','gene_B','corr']]\n",
    "high_single_df5"
   ]
  },
  {
   "cell_type": "code",
   "execution_count": null,
   "id": "3f3d2b30",
   "metadata": {},
   "outputs": [],
   "source": [
    "#frames = [high_single_df2, high_single_df5]\n",
    "\n",
    "result = pd.concat([high_single_df2, high_single_df5])\n",
    "result"
   ]
  },
  {
   "cell_type": "code",
   "execution_count": null,
   "id": "83fa0117",
   "metadata": {},
   "outputs": [],
   "source": []
  },
  {
   "cell_type": "code",
   "execution_count": null,
   "id": "75a5f663",
   "metadata": {},
   "outputs": [],
   "source": [
    "#if i in all_gene_df:\n",
    "#    for j in all_gene_df:\n",
    "#        if (i[0], i[1], i[2]) == (j[1], j[0], j[2]):\n",
    "#            if j != i:\n",
    "#                print('same')\n",
    "#            else:\n",
    "#                print('remove')\n",
    "#        else:\n",
    "#            print('nothing happened')"
   ]
  },
  {
   "cell_type": "code",
   "execution_count": null,
   "id": "2111d189",
   "metadata": {},
   "outputs": [],
   "source": [
    "#reverse_gene_df = all_gene_df.copy()\n",
    "#reverse_gene_df.rename(columns={'gene_A': 'gene_B', 'gene_B': 'gene_A'}, inplace=True)\n",
    "#reverse_gene_df"
   ]
  },
  {
   "cell_type": "code",
   "execution_count": null,
   "id": "fa4ff99f",
   "metadata": {},
   "outputs": [],
   "source": [
    "# perform anti-join on all_gene_df to exclude duplicate correlation pairs.\n",
    "\n",
    "#outer = all_gene_df.merge(reverse_gene_df, on=['gene_A','gene_B','corr'], how='outer', indicator=True)\n",
    "#final_gene_df = outer[(outer._merge=='left_only')].drop('_merge', axis=1)\n",
    "#final_gene_df"
   ]
  },
  {
   "cell_type": "code",
   "execution_count": null,
   "id": "fe3f83fa",
   "metadata": {},
   "outputs": [],
   "source": [
    "\n",
    "#fig, ax =plt.subplots(1,1,figsize=(20,500))\n",
    "\n",
    "\n",
    "#ax1 = sns.barplot(data=df_max_min, y = 'index', x = 'max', alpha=0.5)\n",
    "#ax2 = sns.barplot(data=df_max_min, y = 'index', x = 'min')\n",
    "#ax1.set_title('Max and Min for Each Column', fontsize=20, pad=20)\n",
    "#ax1.set_xlabel('Max and Min', fontsize=14)\n",
    "#ax1.set_ylabel('Column', fontsize=14)\n",
    "#plt.show()"
   ]
  },
  {
   "cell_type": "code",
   "execution_count": null,
   "id": "3c5c6a8c",
   "metadata": {},
   "outputs": [],
   "source": [
    "# Do PCA (or other dimensional reduction) before fitting the model"
   ]
  },
  {
   "cell_type": "code",
   "execution_count": null,
   "id": "0c0f1d26",
   "metadata": {},
   "outputs": [],
   "source": []
  },
  {
   "cell_type": "markdown",
   "id": "510b4314",
   "metadata": {},
   "source": [
    "Could possibly need this later....creat a scatterplot of 5 classes"
   ]
  },
  {
   "cell_type": "code",
   "execution_count": null,
   "id": "b59e3205",
   "metadata": {},
   "outputs": [],
   "source": [
    "data_temp = data.iloc[:, [0,2,3,4,5,6]].copy()\n",
    "data_temp.head()"
   ]
  },
  {
   "cell_type": "code",
   "execution_count": null,
   "id": "d60f7bcc",
   "metadata": {},
   "outputs": [],
   "source": [
    "labels.head()"
   ]
  },
  {
   "cell_type": "code",
   "execution_count": null,
   "id": "dba30603",
   "metadata": {},
   "outputs": [],
   "source": [
    "labels['Unnamed: 0'].dtype"
   ]
  },
  {
   "cell_type": "code",
   "execution_count": null,
   "id": "b4a1ac80",
   "metadata": {},
   "outputs": [],
   "source": [
    "data_temp['Unnamed: 0'].dtype"
   ]
  },
  {
   "cell_type": "code",
   "execution_count": null,
   "id": "939227df",
   "metadata": {},
   "outputs": [],
   "source": [
    "temp_joined = data_temp.merge(labels)\n",
    "\n",
    "#temp_joined = data_temp.join(labels, how='left', on = 'Unnamed: 0')"
   ]
  },
  {
   "cell_type": "code",
   "execution_count": null,
   "id": "a9cccb66",
   "metadata": {},
   "outputs": [],
   "source": [
    "temp_joined.head()"
   ]
  },
  {
   "cell_type": "code",
   "execution_count": null,
   "id": "f532db66",
   "metadata": {},
   "outputs": [],
   "source": [
    "X = temp_joined.drop(['Unnamed: 0', 'Class'], axis = 1)\n",
    "y = temp_joined['Class']"
   ]
  },
  {
   "cell_type": "code",
   "execution_count": null,
   "id": "22dfd972",
   "metadata": {},
   "outputs": [],
   "source": [
    "#Defining X and y\n",
    "\n",
    "#X = data.drop(['Unnamed: 0'], axis = 1)\n",
    "#y = labels"
   ]
  },
  {
   "cell_type": "code",
   "execution_count": null,
   "id": "8745c1ca",
   "metadata": {},
   "outputs": [],
   "source": [
    "Model = RandomForestClassifier()"
   ]
  },
  {
   "cell_type": "code",
   "execution_count": null,
   "id": "5ddc20f9",
   "metadata": {},
   "outputs": [],
   "source": [
    "Model.fit(X, y)"
   ]
  },
  {
   "cell_type": "code",
   "execution_count": null,
   "id": "2fba03b0",
   "metadata": {},
   "outputs": [],
   "source": [
    "X.head()"
   ]
  },
  {
   "cell_type": "code",
   "execution_count": null,
   "id": "03b06f4d",
   "metadata": {},
   "outputs": [],
   "source": [
    "counter=Counter(y)\n",
    "counter"
   ]
  },
  {
   "cell_type": "code",
   "execution_count": null,
   "id": "20799b31",
   "metadata": {},
   "outputs": [],
   "source": [
    "### I need to get X to be an array like it is with x in the make_classifiction data below\n"
   ]
  },
  {
   "cell_type": "code",
   "execution_count": null,
   "id": "0e572717",
   "metadata": {},
   "outputs": [],
   "source": [
    "X_array = X.to_numpy\n",
    "X_array"
   ]
  },
  {
   "cell_type": "code",
   "execution_count": null,
   "id": "6be5a552",
   "metadata": {},
   "outputs": [],
   "source": [
    "PRAD_rows = []\n",
    "LUAD_rows = []\n",
    "BRCA_rows = []\n",
    "KIRC_rows = []\n",
    "COAD_rows = []\n",
    "\n",
    "for label, quantity in counter.items():\n",
    "    row_id = where (y == label)[0]\n",
    "    if label == 'PRAD':\n",
    "        PRAD_rows.append(row_id)\n",
    "    if label == 'LUAD':\n",
    "        LUAD_rows.append(row_id)\n",
    "    if label == 'BRCA':\n",
    "        BRCA_rows.append(row_id)\n",
    "    if label == 'KIRC':\n",
    "        KIRC_rows.append(row_id)\n",
    "    if label == 'COAD':\n",
    "        COAD_rows.append(row_id)\n",
    "print('PRAD_rows:', PRAD_rows)\n",
    "print('LUAD_rows:', LUAD_rows)\n",
    "print('BRCA_rows:', BRCA_rows)    \n",
    "print('KIRC_rows:', KIRC_rows)\n",
    "print('COAD_rows:', COAD_rows)"
   ]
  },
  {
   "cell_type": "code",
   "execution_count": null,
   "id": "6428eaab",
   "metadata": {},
   "outputs": [],
   "source": [
    "temp_joined.head()\n",
    "temp_2 = temp_joined.drop(['Unnamed: 0'], axis=1)\n",
    "temp_3 = temp_joined.drop(['Unnamed: 0', 'gene_2', 'gene_3', 'gene_4', 'gene_5'], axis=1)\n",
    "temp_3"
   ]
  },
  {
   "cell_type": "code",
   "execution_count": null,
   "id": "2eaaee41",
   "metadata": {},
   "outputs": [],
   "source": [
    "# Can only use two feature, three with hue, 4 with style\n",
    "\n",
    "sns.scatterplot(data=temp_2, x=\"gene_1\", y=\"gene_2\", hue=\"Class\")"
   ]
  },
  {
   "cell_type": "code",
   "execution_count": null,
   "id": "ea787d5e",
   "metadata": {},
   "outputs": [],
   "source": [
    "#for label, _ in counter.items():\n",
    "#    row_id = where (y == label)[0]\n",
    "#    plt.scatter(X[row_id,'PRAD'], X[row_id,'LUAD'], X[row_id,'BRCA'], X[row_id,'KIRC'], X[row_id,'COAD'])\n",
    "#    #plt.scatter(X[2,0], label=str(label))\n",
    "#    plt.legend()\n",
    "#    plt.show()"
   ]
  },
  {
   "cell_type": "code",
   "execution_count": null,
   "id": "24f98cdf",
   "metadata": {},
   "outputs": [],
   "source": []
  },
  {
   "cell_type": "code",
   "execution_count": null,
   "id": "26367e7d",
   "metadata": {},
   "outputs": [],
   "source": [
    "#count = 0\n",
    "\n",
    "#for i in data_var:  \n",
    "#    if i>0 and i<1:\n",
    "#        count += 1\n",
    "#print('Number of columns whose values have variance greater than 0 but less than 1:', count)"
   ]
  },
  {
   "cell_type": "code",
   "execution_count": null,
   "id": "b9ac4cc8",
   "metadata": {},
   "outputs": [],
   "source": []
  },
  {
   "cell_type": "code",
   "execution_count": null,
   "id": "f9987e8b",
   "metadata": {},
   "outputs": [],
   "source": []
  },
  {
   "cell_type": "code",
   "execution_count": null,
   "id": "4cdd2c18",
   "metadata": {},
   "outputs": [],
   "source": []
  },
  {
   "cell_type": "code",
   "execution_count": null,
   "id": "483b1ca1",
   "metadata": {},
   "outputs": [],
   "source": []
  },
  {
   "cell_type": "code",
   "execution_count": null,
   "id": "5a03fce6",
   "metadata": {},
   "outputs": [],
   "source": []
  },
  {
   "cell_type": "code",
   "execution_count": null,
   "id": "7022cdf9",
   "metadata": {},
   "outputs": [],
   "source": []
  },
  {
   "cell_type": "code",
   "execution_count": null,
   "id": "da7f8d2a",
   "metadata": {},
   "outputs": [],
   "source": []
  }
 ],
 "metadata": {
  "kernelspec": {
   "display_name": "Python 3 (ipykernel)",
   "language": "python",
   "name": "python3"
  },
  "language_info": {
   "codemirror_mode": {
    "name": "ipython",
    "version": 3
   },
   "file_extension": ".py",
   "mimetype": "text/x-python",
   "name": "python",
   "nbconvert_exporter": "python",
   "pygments_lexer": "ipython3",
   "version": "3.9.12"
  }
 },
 "nbformat": 4,
 "nbformat_minor": 5
}
