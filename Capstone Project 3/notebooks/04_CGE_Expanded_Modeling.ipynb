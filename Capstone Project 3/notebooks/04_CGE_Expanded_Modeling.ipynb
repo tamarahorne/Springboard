{
 "cells": [
  {
   "cell_type": "markdown",
   "id": "cc584a79",
   "metadata": {},
   "source": [
    "# Capstone 3: *Cancer Gene Expression Classification*\n",
    "## *Expanded Modeling*\n",
    "***"
   ]
  },
  {
   "cell_type": "markdown",
   "id": "7f11c392",
   "metadata": {},
   "source": [
    "## 3.1 Table of Contents<a id='3.1_Contents'></a>\n",
    "* [3 Preprocessing, Training, and Modeling](#3_Data_wrangling)\n",
    "  * [3.1 Table of Contents](#3.1_Contents)\n",
    "  * [3.2 Introduction](#3.2_Introduction)\n",
    "  * [3.3 Importing the Dependencies](#3.3_Importing_the_Dependencies)\n",
    "  * [3.4 Importing the Data](#3.4_Importing_the_Data)\n",
    "\n",
    "  "
   ]
  },
  {
   "cell_type": "markdown",
   "id": "81e6033f",
   "metadata": {},
   "source": [
    "## 3.2 Introduction\n",
    "<a id='3.2_Introduction'></a>"
   ]
  },
  {
   "cell_type": "markdown",
   "id": "9a444437",
   "metadata": {},
   "source": [
    "Intro text"
   ]
  },
  {
   "cell_type": "markdown",
   "id": "8a0b3963",
   "metadata": {},
   "source": [
    "## 3.3 Importing the Dependencies\n",
    "<a id='3.3_Importing_the_Dependencies'></a>"
   ]
  },
  {
   "cell_type": "code",
   "execution_count": 1,
   "id": "5e996281",
   "metadata": {},
   "outputs": [],
   "source": [
    "import matplotlib.pyplot as plt\n",
    "import numpy as np\n",
    "import pandas as pd\n",
    "import seaborn as sns\n",
    "import xgboost as xgb\n",
    "\n",
    "from matplotlib.lines import Line2D\n",
    "from sklearn.decomposition import PCA\n",
    "from sklearn.ensemble import RandomForestClassifier\n",
    "from sklearn.linear_model import LogisticRegression\n",
    "from sklearn.metrics import classification_report, roc_auc_score, RocCurveDisplay, confusion_matrix, roc_curve, auc\n",
    "from sklearn.model_selection import train_test_split\n",
    "from sklearn.multiclass import OneVsRestClassifier\n",
    "from sklearn.pipeline import Pipeline\n",
    "from sklearn.pipeline import make_pipeline\n",
    "from sklearn.preprocessing import StandardScaler\n",
    "from sklearn.preprocessing import label_binarize\n",
    "from sklearn.svm import LinearSVC\n",
    "\n",
    "#pd.set_option('display.max_rows', 70)"
   ]
  },
  {
   "cell_type": "markdown",
   "id": "5eb66c75",
   "metadata": {},
   "source": [
    "## 3.4 Importing the Data\n",
    "<a id='3.4_Importing_the_Data'></a>"
   ]
  },
  {
   "cell_type": "code",
   "execution_count": 2,
   "id": "cbeb71c8",
   "metadata": {},
   "outputs": [],
   "source": [
    "data = pd.read_csv(\"../source_data/data.csv\")\n",
    "labels = pd.read_csv(\"../source_data/labels.csv\")"
   ]
  },
  {
   "cell_type": "code",
   "execution_count": 3,
   "id": "c2d64c65",
   "metadata": {},
   "outputs": [],
   "source": [
    "X = pd.read_csv(\"X.csv\")\n",
    "X_train = pd.read_csv(\"X_train.csv\")\n",
    "X_test = pd.read_csv(\"X_test.csv\")"
   ]
  },
  {
   "cell_type": "code",
   "execution_count": 4,
   "id": "844777b4",
   "metadata": {},
   "outputs": [],
   "source": [
    "#y = np.loadtxt('y.txt')\n",
    "#y_train = np.loadtxt('y_train.txt')\n",
    "#y_test = np.loadtxt('y_test.txt')\n",
    "\n",
    "y = pd.read_csv(\"y.csv\")\n",
    "y_train = pd.read_csv(\"y_train.csv\")\n",
    "y_test = pd.read_csv(\"y_test.csv\")"
   ]
  },
  {
   "cell_type": "code",
   "execution_count": null,
   "id": "6091c677",
   "metadata": {},
   "outputs": [],
   "source": []
  },
  {
   "cell_type": "code",
   "execution_count": null,
   "id": "9aff2cf5",
   "metadata": {},
   "outputs": [],
   "source": []
  },
  {
   "cell_type": "markdown",
   "id": "6dd768ca",
   "metadata": {},
   "source": [
    "## 2.8 Overfitting\n",
    "<a id='2.8_Overfitting'></a>\n",
    "The model above is fitting 100% of the training data and that is not necessarily a good thing.  The multi_class option 'auto' is choosing 'multinomial' for our data.  I'd like to see how choosing 'ovr' affects prediction on the training and testing data."
   ]
  },
  {
   "cell_type": "code",
   "execution_count": 5,
   "id": "af8c11a3",
   "metadata": {},
   "outputs": [],
   "source": [
    "# Create a pipeline with PCA, and Logistic Regression where multi_class=ovr\n",
    "steps_ovr = [('pca', PCA(n_components=7)),\n",
    "         ('clf', LogisticRegression(max_iter = 5000, multi_class='ovr'))]\n",
    "\n",
    "pipe_lr_ovr = Pipeline(steps_ovr)\n",
    "\n",
    "pipe_lr_ovr.fit(X_train, y_train.values.ravel())\n",
    "          \n",
    "y_pred_test_lr_ovr = pipe_lr_ovr.predict(X_test)\n",
    "y_pred_train_lr_ovr = pipe_lr_ovr.predict(X_train)\n",
    "\n",
    "# https://machinelearningmastery.com/multinomial-logistic-regression-with-python/"
   ]
  },
  {
   "cell_type": "code",
   "execution_count": 6,
   "id": "6ce9140a",
   "metadata": {},
   "outputs": [
    {
     "name": "stdout",
     "output_type": "stream",
     "text": [
      "Train set classification report:\n",
      "               precision    recall  f1-score   support\n",
      "\n",
      "           0       1.00      1.00      1.00       240\n",
      "           1       1.00      1.00      1.00        62\n",
      "           2       1.00      1.00      1.00       116\n",
      "           3       1.00      1.00      1.00       113\n",
      "           4       1.00      1.00      1.00       109\n",
      "\n",
      "    accuracy                           1.00       640\n",
      "   macro avg       1.00      1.00      1.00       640\n",
      "weighted avg       1.00      1.00      1.00       640\n",
      "\n"
     ]
    }
   ],
   "source": [
    "# Print the classification report for the training data\n",
    "print(\"Train set classification report:\\n\", classification_report(y_train, y_pred_train_lr_ovr))"
   ]
  },
  {
   "cell_type": "code",
   "execution_count": 7,
   "id": "92e4e51b",
   "metadata": {},
   "outputs": [
    {
     "name": "stdout",
     "output_type": "stream",
     "text": [
      "Test set classification report:\n",
      "               precision    recall  f1-score   support\n",
      "\n",
      "           0       0.98      1.00      0.99        60\n",
      "           1       1.00      1.00      1.00        16\n",
      "           2       1.00      1.00      1.00        30\n",
      "           3       1.00      0.96      0.98        28\n",
      "           4       1.00      1.00      1.00        27\n",
      "\n",
      "    accuracy                           0.99       161\n",
      "   macro avg       1.00      0.99      0.99       161\n",
      "weighted avg       0.99      0.99      0.99       161\n",
      "\n"
     ]
    }
   ],
   "source": [
    "# Print the classification report for the testing data\n",
    "print(\"Test set classification report:\\n\", classification_report(y_test, y_pred_test_lr_ovr))"
   ]
  },
  {
   "cell_type": "markdown",
   "id": "1ca40c7f",
   "metadata": {},
   "source": [
    "Changing the multi_class option to 'ovr' lowers the predictive power in the training data ever so slightly but it increases the macro-avg f1 score for the testing data."
   ]
  },
  {
   "cell_type": "code",
   "execution_count": 8,
   "id": "ff39e8b3",
   "metadata": {},
   "outputs": [
    {
     "data": {
      "image/png": "[encoded data removed]",
      "text/plain": [
       "<Figure size 1400x600 with 4 Axes>"
      ]
     },
     "metadata": {},
     "output_type": "display_data"
    }
   ],
   "source": [
    "# Create confusion matrix for logistic regression model\n",
    "#multilabel_confusion_matrix_not_scaled_ovr = confusion_matrix(y_test, y_pred_test_lr_ovr)\n",
    "# Create a pipeline with PCA and Logistic Regression\n",
    "steps = [('pca', PCA(n_components=7)),\n",
    "         ('clf', LogisticRegression(max_iter = 5000, multi_class='auto'))]\n",
    "pipe_lr = Pipeline(steps)\n",
    "\n",
    "pipe_lr.fit(X_train, y_train.values.ravel())\n",
    "          \n",
    "y_pred_test_lr = pipe_lr.predict(X_test)\n",
    "y_pred_train_lr = pipe_lr.predict(X_train)\n",
    "\n",
    "multilabel_confusion_matrix = confusion_matrix(y_test, y_pred_test_lr)\n",
    "multilabel_confusion_matrix_ovr = confusion_matrix(y_test, y_pred_test_lr_ovr)\n",
    "\n",
    "# Plot the confusion matrix\n",
    "fig, ax = plt.subplots(1,2,figsize=(14,6))\n",
    "fig.suptitle(\"Confusion Matrix for Baseline Model: Logistic Regression\", fontsize=20, y=1.0)\n",
    "\n",
    "sns.heatmap(multilabel_confusion_matrix, cmap='crest', annot=True, ax=ax[0])\n",
    "ax[0].set_title(\"multi_class = multinomial/auto\", fontsize=15)\n",
    "ax[0].set(ylabel=\"True\", xlabel=\"Predicted\")\n",
    "\n",
    "sns.heatmap(multilabel_confusion_matrix_ovr, cmap='crest', annot=True, ax=ax[1])\n",
    "ax[1].set_title(\"multi_class = ovr\", fontsize=15)\n",
    "ax[1].set(ylabel=\"True\", xlabel=\"Predicted\");"
   ]
  },
  {
   "cell_type": "code",
   "execution_count": null,
   "id": "96d30515",
   "metadata": {},
   "outputs": [],
   "source": []
  },
  {
   "cell_type": "code",
   "execution_count": null,
   "id": "60c1cfa4",
   "metadata": {},
   "outputs": [],
   "source": []
  },
  {
   "cell_type": "code",
   "execution_count": null,
   "id": "7c58e222",
   "metadata": {},
   "outputs": [],
   "source": []
  },
  {
   "cell_type": "code",
   "execution_count": null,
   "id": "8c8bf52d",
   "metadata": {},
   "outputs": [],
   "source": []
  },
  {
   "cell_type": "code",
   "execution_count": null,
   "id": "8d711aff",
   "metadata": {},
   "outputs": [],
   "source": []
  },
  {
   "cell_type": "code",
   "execution_count": null,
   "id": "63554d5b",
   "metadata": {},
   "outputs": [],
   "source": [
    "def execute_model (scaler, dim_red, model):\n",
    "    # execute a model pipeline and print the classification reports for\n",
    "    # both the training and testing data\n",
    "    \n",
    "    steps = [('scaler', scaler),\n",
    "             ('pca', dim_red),\n",
    "             ('clf', model)]\n",
    "    pipe = Pipeline(steps)\n",
    "\n",
    "    pipe.fit(X_train, y_train.values.ravel())\n",
    "          \n",
    "    y_pred_test = pipe.predict(X_test)\n",
    "    y_pred_train = pipe.predict(X_train)\n",
    "    \n",
    "    # get individual values from training data classification report\n",
    "    report_train = classification_report(y_train, y_pred_train, output_dict=True)\n",
    "    macro_precision_train =  report_train['macro avg']['precision'] \n",
    "    macro_recall_train = report_train['macro avg']['recall']    \n",
    "    macro_f1_train = report_train['macro avg']['f1-score']\n",
    "    \n",
    "    # get inidividual values from test data classification report\n",
    "    report_test = classification_report(y_test, y_pred_test, output_dict=True)\n",
    "    macro_precision_test =  report_test['macro avg']['precision'] \n",
    "    macro_recall_test = report_test['macro avg']['recall']    \n",
    "    macro_f1_test = report_test['macro avg']['f1-score']\n",
    "    \n",
    "    print('macro_f1_train: ', macro_f1_train)\n",
    "    print('macro_f1_test: ', macro_f1_test)    \n",
    "\n",
    "    print(\"Train set classification report:\\n\", classification_report(y_train, y_pred_train))\n",
    "    print(\"Test set classification report:\\n\", classification_report(y_test, y_pred_test))\n",
    "\n",
    "    return\n"
   ]
  },
  {
   "cell_type": "code",
   "execution_count": null,
   "id": "98447588",
   "metadata": {},
   "outputs": [],
   "source": [
    "get_roc_curve_plots (OneVsRestClassifier(LinearSVC(max_iter=5000, random_state=0)))"
   ]
  },
  {
   "cell_type": "code",
   "execution_count": null,
   "id": "b46eba58",
   "metadata": {},
   "outputs": [],
   "source": [
    "execute_model(StandardScaler(), PCA(n_components=7), xgb.XGBClassifier())"
   ]
  },
  {
   "cell_type": "code",
   "execution_count": null,
   "id": "380256f2",
   "metadata": {},
   "outputs": [],
   "source": [
    "execute_model(StandardScaler(), PCA(n_components=7), RandomForestClassifier())"
   ]
  },
  {
   "cell_type": "code",
   "execution_count": null,
   "id": "d6b5cad7",
   "metadata": {},
   "outputs": [],
   "source": []
  },
  {
   "cell_type": "code",
   "execution_count": null,
   "id": "4fdb875f",
   "metadata": {},
   "outputs": [],
   "source": []
  },
  {
   "cell_type": "code",
   "execution_count": null,
   "id": "736f4b9b",
   "metadata": {},
   "outputs": [],
   "source": [
    "# https://stackoverflow.com/questions/48417867/access-to-numbers-in-classification-report-sklearn\n",
    "\n",
    "#report = classification_report(y_train, y_pred_train, output_dict=True)\n",
    "#macro_precision =  report['macro avg']['precision'] \n",
    "#macro_recall = report['macro avg']['recall']    \n",
    "#macro_f1 = report['macro avg']['f1-score']\n"
   ]
  },
  {
   "cell_type": "code",
   "execution_count": null,
   "id": "08f97a28",
   "metadata": {},
   "outputs": [],
   "source": [
    "### make a loop - \n",
    "### dict of all model types \n",
    "### for every model, grab the macro_f1_score and then append them to a dataframe\n"
   ]
  },
  {
   "cell_type": "code",
   "execution_count": null,
   "id": "5c3dc364",
   "metadata": {},
   "outputs": [],
   "source": [
    "#y = y.to_numpy()"
   ]
  },
  {
   "cell_type": "code",
   "execution_count": null,
   "id": "a3754742",
   "metadata": {},
   "outputs": [],
   "source": [
    "#xgbcl = xgb.XGBClassifier()\n",
    "#xgbcl.fit(X_train, y_train)\n"
   ]
  },
  {
   "cell_type": "code",
   "execution_count": null,
   "id": "d4b91c14",
   "metadata": {},
   "outputs": [],
   "source": [
    "#y_pred_test = xgbcl.predict(X_test)\n",
    "#y_pred_train = xgbcl.predict(X_train)"
   ]
  },
  {
   "cell_type": "code",
   "execution_count": null,
   "id": "947f0cb1",
   "metadata": {},
   "outputs": [],
   "source": [
    "#print(classification_report(y_train, y_pred_train))"
   ]
  },
  {
   "cell_type": "code",
   "execution_count": null,
   "id": "01036a05",
   "metadata": {},
   "outputs": [],
   "source": [
    "#print(classification_report(y_test, y_pred_test))"
   ]
  },
  {
   "cell_type": "code",
   "execution_count": null,
   "id": "501015b7",
   "metadata": {},
   "outputs": [],
   "source": [
    "steps = [('scaler', StandardScaler()),\n",
    "         ('pca', PCA(n_components=7)),\n",
    "         ('clf', xgb.XGBClassifier())]\n",
    "#         ('clf', LogisticRegression())]\n",
    "pipe_xgbcl = Pipeline(steps)\n",
    "\n",
    "pipe_xgbcl.fit(X_train, y_train)\n",
    "          \n",
    "y_pred_test_xgbcl = pipe_xgbcl.predict(X_test)\n",
    "y_pred_train_xgbcl = pipe_xgbcl.predict(X_train)\n",
    "\n",
    "### XGB is overfitting"
   ]
  },
  {
   "cell_type": "code",
   "execution_count": null,
   "id": "fa26de04",
   "metadata": {},
   "outputs": [],
   "source": [
    "print(\"Train set classification report:\\n\", classification_report(y_train, y_pred_train_xgbcl))"
   ]
  },
  {
   "cell_type": "code",
   "execution_count": null,
   "id": "0672b8af",
   "metadata": {},
   "outputs": [],
   "source": [
    "print(\"Test set classification report:\\n\", classification_report(y_test, y_pred_test_xgbcl))"
   ]
  },
  {
   "cell_type": "code",
   "execution_count": null,
   "id": "fec36f32",
   "metadata": {},
   "outputs": [],
   "source": [
    "### Code adapted from https://stackoverflow.com/questions/45332410/roc-for-multiclass-classification\n",
    "\n",
    "def get_roc_curve_plots (CLF):\n",
    "    \n",
    "    y_bin = label_binarize(y, classes=[0,1,2,3,4])\n",
    "    n_classes = 5\n",
    "\n",
    "    # split training and test sets\n",
    "    X_train, X_test, y_train, y_test = train_test_split(X, y_bin, test_size=0.2, stratify=y, random_state=42)\n",
    "\n",
    "    # classifier\n",
    "    clf = CLF\n",
    "    y_score = clf.fit(X_train, y_train).decision_function(X_test)\n",
    "\n",
    "    # Compute ROC curve and ROC area for each class\n",
    "    fpr = dict()\n",
    "    tpr = dict()\n",
    "    roc_auc = dict()\n",
    "    for i in range(n_classes):\n",
    "        fpr[i], tpr[i], _ = roc_curve(y_test[:, i], y_score[:, i])\n",
    "        roc_auc[i] = auc(fpr[i], tpr[i])\n",
    "\n",
    "    # Plot of a ROC curve for a specific class\n",
    "    for i in range(n_classes):\n",
    "        plt.figure()\n",
    "        plt.plot(fpr[i], tpr[i], label='ROC curve (area = %0.2f)' % roc_auc[i])\n",
    "        plt.plot([0, 1], [0, 1], 'k--')\n",
    "        plt.xlim([0.0, 1.0])\n",
    "        plt.ylim([0.0, 1.05])\n",
    "        plt.xlabel('False Positive Rate')\n",
    "        plt.ylabel('True Positive Rate')\n",
    "        plt.title('ROC for Class ' + str(i))\n",
    "        plt.legend(loc=\"lower right\")\n",
    "        plt.show()\n",
    "        \n",
    "    return"
   ]
  },
  {
   "cell_type": "code",
   "execution_count": null,
   "id": "f7867b26",
   "metadata": {},
   "outputs": [],
   "source": [
    "# One vs the rest\n",
    "#roc_auc_score(y, clf.predict_proba(X), multi_class='ovr')"
   ]
  },
  {
   "cell_type": "code",
   "execution_count": null,
   "id": "2a3a2905",
   "metadata": {},
   "outputs": [],
   "source": [
    "# ROC Area Under the Curve\n",
    "# One vs the rest\n",
    "roc_auc_score(y, pipe_lr.predict_proba(X), multi_class='ovr')"
   ]
  },
  {
   "cell_type": "code",
   "execution_count": null,
   "id": "d3faee32",
   "metadata": {},
   "outputs": [],
   "source": [
    "#y_proba = pipe_lr.predict_proba(X_test)\n",
    "#classes = pipe_lr.classes_\n",
    "#for i in range(len(classes)):\n",
    "#    # Gets the class\n",
    "#    c = classes[i]\n",
    "\n",
    "#    df_aux = X_test.copy()\n",
    "#    for y in y_test.values.ravel():\n",
    "#        if y == c:\n",
    "#            df_aux['class'] = 1\n",
    "#        else:\n",
    "#            df_aux['class'] = 0\n",
    "#    #df_aux['class'] = [1 if y == c else 0 for y in y_test]\n",
    "#    df_aux['prob'] = y_proba[:, i]\n",
    "#    df_aux = df_aux.reset_index(drop = True)\n",
    "    \n",
    "\n",
    "#roc_auc_ovr[c] = roc_auc_score(df_aux['class'], df_aux['prob'])"
   ]
  },
  {
   "cell_type": "code",
   "execution_count": null,
   "id": "3d5d8ff0",
   "metadata": {},
   "outputs": [],
   "source": [
    "#RocCurveDisplay.from_predictions(y_test, y_pred_test_lr)\n",
    "#plt.show()"
   ]
  },
  {
   "cell_type": "code",
   "execution_count": null,
   "id": "577b5131",
   "metadata": {},
   "outputs": [],
   "source": [
    "### Not my code\n",
    "\n",
    "#y_proba = pipe_lr.predict_proba(X_test)"
   ]
  },
  {
   "cell_type": "markdown",
   "id": "6e619487",
   "metadata": {},
   "source": [
    "https://scikit-learn.org/stable/auto_examples/model_selection/plot_roc.html\n",
    "\n",
    "https://medium.com/@kennymiyasato/classification-report-precision-recall-f1-score-accuracy-16a245a437a5\n",
    "\n",
    "https://stephenallwright.com/f1-score-vs-auc/\n",
    "\n",
    "https://www.mariakhalusova.com/posts/2019-04-17-ml-model-evaluation-metrics-p2/"
   ]
  },
  {
   "cell_type": "code",
   "execution_count": null,
   "id": "fd2f97f0",
   "metadata": {},
   "outputs": [],
   "source": [
    "# https://www.kaggle.com/code/pouryaayria/a-complete-ml-pipeline-tutorial-acu-86"
   ]
  },
  {
   "cell_type": "code",
   "execution_count": null,
   "id": "b3dffecf",
   "metadata": {},
   "outputs": [],
   "source": []
  },
  {
   "cell_type": "code",
   "execution_count": null,
   "id": "25ffb7ec",
   "metadata": {},
   "outputs": [],
   "source": []
  },
  {
   "cell_type": "code",
   "execution_count": null,
   "id": "565477fc",
   "metadata": {},
   "outputs": [],
   "source": []
  },
  {
   "cell_type": "code",
   "execution_count": null,
   "id": "aef595d5",
   "metadata": {},
   "outputs": [],
   "source": []
  },
  {
   "cell_type": "code",
   "execution_count": null,
   "id": "7ada9475",
   "metadata": {},
   "outputs": [],
   "source": []
  },
  {
   "cell_type": "code",
   "execution_count": null,
   "id": "71b75988",
   "metadata": {},
   "outputs": [],
   "source": []
  },
  {
   "cell_type": "code",
   "execution_count": null,
   "id": "276d7d6d",
   "metadata": {},
   "outputs": [],
   "source": []
  }
 ],
 "metadata": {
  "kernelspec": {
   "display_name": "Python 3 (ipykernel)",
   "language": "python",
   "name": "python3"
  },
  "language_info": {
   "codemirror_mode": {
    "name": "ipython",
    "version": 3
   },
   "file_extension": ".py",
   "mimetype": "text/x-python",
   "name": "python",
   "nbconvert_exporter": "python",
   "pygments_lexer": "ipython3",
   "version": "3.8.13"
  }
 },
 "nbformat": 4,
 "nbformat_minor": 5
}
