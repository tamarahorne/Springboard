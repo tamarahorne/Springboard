{
 "cells": [
  {
   "cell_type": "markdown",
   "id": "34bc128b",
   "metadata": {},
   "source": [
    "<a id='Capstone 2: National Transit Database'></a>"
   ]
  },
  {
   "cell_type": "markdown",
   "id": "7987e150",
   "metadata": {},
   "source": [
    "# Capstone 2: *National Transit Database*"
   ]
  },
  {
   "cell_type": "markdown",
   "id": "adc2e80d",
   "metadata": {},
   "source": [
    "## 1.1 Table of Contents<a id='1.1_Contents'></a>\n",
    "* [1 Data wrangling](#1_Data_wrangling)\n",
    "  * [1.1 Table of Contents](#1.1_Contents)\n",
    "  * [1.2 Introduction](#1.2_Introduction)\n",
    "    * [1.2.1 The Data Science Problem](#1.2.1_The_Data_Science_Problem)\n",
    "    * [1.2.2 Introduction To Notebook](#1.2.2_Introduction_To_Notebook)\n",
    "  * [1.3 Data Dictionary](#1.3_Data_Dictionary)\n",
    "  * [1.4 Importing the Dependencies](#1.4_Importing_the_Dependencies)\n",
    "  * [1.5 Importing the Data](#1.5_Importing_the_Data)\n",
    "  * [1.6 Exploring the Data](#1.6_Exploring_the_Data)\n",
    "      * [1.6.1 Missing Data by Column](#1.6.1_Missing_Data_by_Column)\n",
    "          * [1.6.1.1 Overview of Missing Data](#1.6.1.1_Overview_of_Missing_Data)\n",
    "          * [1.6.1.2 Visualizing Missing Data](#1.6.1.2_Visualizing_Missing_Data)\n",
    "          * [1.6.1.3 The Three Unique Identifier Columns](#1.6.1.3_The_Three_Unique_Identifier_Columns)\n",
    "              * [1.6.1.3.1 Finding NaNs and Other Forms of Missing Data](#1.6.1.3.1_Finding_NaNs_and_Other_Forms_of_Missing_Data)\n",
    "              * [1.6.1.3.2 Removing the Rows of Data](#1.6.1.3.2_Removing_the_Rows_of_Data)\n",
    "          * [1.6.1.4 Primary UZA Population, Name, and Sq Miles](#1.6.1.4_Primary_UZA_Population_Name_and_Sq_Miles)\n",
    "              * [1.6.1.4.1 TBD1](#1.6.1.4.1_TBD1)\n",
    "              * [1.6.1.4.2 TBD2](#1.6.1.4.2_TBD2)\n",
    "          * [1.6.1.5 (TBD) Org Type, Service Area Pop and Sq Miles](#1.6.1.5_(TBD)_Org_Type_Service_Area_Pop_and_Sq_Miles)\n",
    "              * [1.6.1.5.1 How are these fields looking after 1.6.1.4 is done?](#1.6.1.5.1_TBD3)\n",
    "              * [1.6.1.5.2 Do we need to address these further?](#1.6.1.5.2_TBD4)\n",
    "      * [1.6.2 Examining the '5 DIgit NTD ID', '4 Digit NTD ID', and 'Agency' columns](#1.6.2_Examining_the_5_DIgit_NTD_ID_4_Digit_NTD_ID_and_Agency_columns)\n",
    "          * [1.6.2.1 Counting Unique Values](#1.6.2.1_Counting_Unique_Values)\n",
    "          * [1.6.2.2 (Which 5 digs don't have 4 digs?)](#1.6.2.1_Looking_for_Irregularities)\n",
    "          * [1.6.2.3 (Which 5 digs are more than one character different from 4 dig?  Ex: 20008/2008 vs 20008/2T08)](#1.6.2.1_Looking_for_Irregularities)     \n",
    "          * [1.6.2.4 (What about the letters?  Let's explore those.)](#1.6.2.1_Looking_for_Irregularities)\n",
    "      * [1.6.3 Ridership](#1.6.3_Ridership)      \n",
    "      * [1.6.4 TOS TN](#1.6.4_TOS_TN)\n",
    "      * [1.6.5 Changing Data Type of 'Rail (Y/N)' Column](#1.6.5_Rail)"
   ]
  },
  {
   "cell_type": "markdown",
   "id": "a4b06abb",
   "metadata": {},
   "source": [
    "## 1.2 Introduction\n",
    "<a id='1.2_Introduction'></a>"
   ]
  },
  {
   "cell_type": "markdown",
   "id": "50d6e6f6",
   "metadata": {},
   "source": [
    "When states find their metropolitan areas growing both in population and in spread, they often begin to consider additions to or expansions of their public transportation options.  The National Transit Database contains a wealth of information about accidents, injuries, and fatalities involving various forms of public transportation throughout the United States from 2014-present day.  The state departments of transportation would like to know which features have the greatest influence on safety for the various modes of transportation, so they can better understand which modes of public transportation would be good candidates for their growing metropolitan areas in the future. \n",
    "\n",
    "The National Transit Database is a Monthly Modal Time Series database from the Federal Transit Administration containing accidnets, injuries, and fatalities reported by all participating transit agencies from across the United States from 2014 to present day. Each row of data contains the number of events which occurred in each category during a given month for a particular agency.  \n",
    "\n",
    "Note to Self: FTA regions [FTA Regions](https://www.transit.dot.gov/about/regional-offices/regional-offices) This addition resource may or may not be useful later."
   ]
  },
  {
   "cell_type": "markdown",
   "id": "dd8e5817",
   "metadata": {},
   "source": [
    "## 1.3 Data Dictionary\n",
    "<a id='1.3_Data_Dictionary'></a>"
   ]
  },
  {
   "cell_type": "markdown",
   "id": "d0e1aff3",
   "metadata": {},
   "source": [
    "**Note:** *This table contains only the columns which benefitted from further explanation.  For a complete list of columns, please refer to section 1.5 of this notebook.*\n",
    "\n",
    "\n",
    "\n",
    "| Column Name | Definition      [NTD Glossary link](https://www.transit.dot.gov/ntd/national-transit-database-ntd-glossary)|\n",
    "|:---------|:-------------|\n",
    "|5 DIgit NTD ID|National Transit Database ID number currently in use|\n",
    "|4 Digit NTD ID|Legacy ID number|\n",
    "|Agency| Name of the Reporting Agency|\n",
    "|Organization Type|Distinguishes between government, private, and independent public agencies|\n",
    "|Mode|AR: Alaska Railroad|\n",
    "||CB: Commuter Bus|\n",
    "||CC: Cable Car|\n",
    "||CR: Commuter Rail\n",
    "||DR: Demand Response|\n",
    "||FB: Ferryboat|\n",
    "||HR: Heavy Rail|\n",
    "||IP: Inclined Plane|\n",
    "||LR: Light Rail|\n",
    "||MB: Bus|\n",
    "||MG: Monorail and Automated Guideway|\n",
    "||PB: Publico|\n",
    "||RB: Bus Rapid Transit|\n",
    "||SR: Streetcar Rail|\n",
    "||TB: Trolleybus|\n",
    "||TR: Aerial Tramway|\n",
    "||VP: Vanpool|\n",
    "||YR: Hybrid Rail\n",
    "|Type of Service|DO: Directly Operated|\n",
    "||PT: Purchased Transportation|\n",
    "||TX: Taxi|\n",
    "||TN: Transit Network Company (new TOS effective Sept 2019) [NTD Guidance](https://www.transit.dot.gov/sites/fta.dot.gov/files/docs/NTD%202108%20FRN%20Webinar%20Presentation.pdf)|\n",
    "|Primary UZA Code|*(see note below table)* Numerical ranking by urbanized area population size| \n",
    "|Primary UZA Name|*(see note below table)*|\n",
    "|Primary UZA Sq Miles|*(see note below table)*|\n",
    "|Primary UZA Population|*(see note below table)*|\n",
    "\n",
    "\n",
    "**Urbanized Area (UZA):** An urbanized area is an incorporated area with a population of 50,000 or more that is designated as such by the U.S. Department of Commerce, Bureau of the Census.\n",
    "The Census Bureau delineates urban areas after each decennial census by applying specified criteria to decennial census and other data.\n",
    "\n",
    "**Non-Rail Modes:**\n",
    "Transit modes whose vehicles typically operate on roadways - streets, highways or expressways, but may also operate on waterways (ferryboat (FB)) or via aerial cable (aerial tramways (TR)). Vehicles are typically powered by motors onboard the vehicle, with one exception, aerial tramway (TR) vehicles which are electrically powered by a motor not onboard the vehicle in order to pull the vehicle via an overhead cable. NTD recognizes eight non-rail modes:\n",
    "1.   Aerial Tramway (TR)\n",
    "2.   Bus (MB)\n",
    "3.   Bus rapid transit (RB)\n",
    "4.   Commuter bus (CB)\n",
    "5.   Demand Response (DR)\n",
    "6.   Demand taxi (DT)\n",
    "7.   Ferryboat (FB)\n",
    "8.   Jitney (JT)\n",
    "9.   Publico (PB)\n",
    "10.   Trolleybus (TB), and\n",
    "11.   Vanpool (VP).\n"
   ]
  },
  {
   "cell_type": "markdown",
   "id": "51abe49c",
   "metadata": {},
   "source": [
    "## 1.4 Importing the Dependencies\n",
    "<a id='1.4_Importing_the_Dependencies'></a>"
   ]
  },
  {
   "cell_type": "code",
   "execution_count": null,
   "id": "56d0b3d1",
   "metadata": {},
   "outputs": [],
   "source": [
    "import pandas as pd\n",
    "import matplotlib.pyplot as plt\n",
    "import seaborn as sns\n",
    "import numpy as np\n",
    "\n",
    "pd.set_option('display.max_rows', 70)"
   ]
  },
  {
   "cell_type": "markdown",
   "id": "00b72021",
   "metadata": {},
   "source": [
    "## 1.5 Importing the Data\n",
    "<a id='1.5_Importing_the_Data'></a>"
   ]
  },
  {
   "cell_type": "markdown",
   "id": "48058d26",
   "metadata": {},
   "source": [
    "[National Transit Database (NTD) Monthly Modal Time Series Information Page](https://datahub.transportation.gov/Public-Transit/Monthly-Modal-Time-Series/5ti2-5uiv)\n",
    "\n",
    "[National Transit Database (NTD) Monthly Modal Time Series Data](https://datahub.transportation.gov/Public-Transit/Monthly-Modal-Time-Series/5ti2-5uiv/data)\n",
    "\n",
    "<div class=\"alert alert-info\">\n",
    "  <strong>Note:</strong> There are NANs in 'Rail (Y/N) so I cannot change the data type to bool right now.  This will be addressed later in the project.</a>.\n",
    "</div>\n"
   ]
  },
  {
   "cell_type": "code",
   "execution_count": null,
   "id": "eed5ca61",
   "metadata": {},
   "outputs": [],
   "source": [
    "file = 'Monthly_Modal_Time_Series.csv'\n",
    "data = pd.read_csv(file, dtype={'5 DIgit NTD ID': str, '4 Digit NTD ID': str})\n",
    "data.info()"
   ]
  },
  {
   "cell_type": "code",
   "execution_count": null,
   "id": "c7b99b5c",
   "metadata": {},
   "outputs": [],
   "source": [
    "data.head()"
   ]
  },
  {
   "cell_type": "markdown",
   "id": "67304ee7",
   "metadata": {},
   "source": [
    "**Visualizing a single entry**  This data was reported by Tri-County Metropolitan Transportation Distict for the month of January, 2014, and contains the number of events in which accidents, injury, or fatalities occurred in their service area in each category during that month."
   ]
  },
  {
   "cell_type": "code",
   "execution_count": null,
   "id": "52d33891",
   "metadata": {},
   "outputs": [],
   "source": [
    "data[data.index==1].T"
   ]
  },
  {
   "cell_type": "markdown",
   "id": "39e366f9",
   "metadata": {},
   "source": [
    "## 1.6 Exploring the Data\n",
    "<a id='1.6_Exploring_the_Data'></a>"
   ]
  },
  {
   "cell_type": "markdown",
   "id": "938ee2c9",
   "metadata": {},
   "source": [
    "### 1.6.1 Missing Data by Column\n",
    "<a id='1.6.1_Missing_Data_by_Column'></a>"
   ]
  },
  {
   "cell_type": "markdown",
   "id": "5b7af35b",
   "metadata": {},
   "source": [
    "#### 1.6.1.1 Overview of Missing Data\n",
    "<a id='1.6.1.1_Overview_of_Missing_Data'></a>"
   ]
  },
  {
   "cell_type": "code",
   "execution_count": null,
   "id": "86fc7a2c",
   "metadata": {},
   "outputs": [],
   "source": [
    "missing = pd.concat([data.isnull().sum(), 100 * data.isnull().mean()], axis=1)\n",
    "missing.columns=['count', 'percent']\n",
    "missing.sort_values(by='percent', ascending=False)"
   ]
  },
  {
   "cell_type": "markdown",
   "id": "2c2700d6",
   "metadata": {},
   "source": [
    "#### 1.6.1.2 Visualizing the missing data\n",
    "<a id='1.6.1.2_Visualizing_the_missing_data'></a>"
   ]
  },
  {
   "cell_type": "code",
   "execution_count": null,
   "id": "eaa7eb29",
   "metadata": {},
   "outputs": [],
   "source": [
    "missingpercent = (100 * data.isnull().mean())\n",
    "\n",
    "plt.figure(figsize=(16,22))\n",
    "ax = missingpercent.sort_values(ascending=True).plot(kind='barh', fontsize=14)\n",
    "ax.set_title('Percentage of Data Missing from Columns in NTD', fontsize=30, pad=20)\n",
    "ax.set_xlabel('Percentage', fontsize=20)\n",
    "ax.set_ylabel('Column Name', fontsize=20)\n",
    "\n",
    "\n",
    "# Function below adapted from (https://stackoverflow.com/questions/28931224/how-to-add-value-labels-on-a-bar-chart)\n",
    "\n",
    "def add_value_labels(ax, spacing=5):\n",
    "    \"\"\"Add labels to the end of each bar in a bar chart.\"\"\"\n",
    "\n",
    "# For each bar: Place a label\n",
    "for rect in ax.patches:\n",
    "    # Get X and Y placement of label from rect\n",
    "    x_value = rect.get_width()\n",
    "    y_value = rect.get_y() + rect.get_height() / 2\n",
    "\n",
    "    # Number of points between bar and label\n",
    "    space = 5\n",
    "    # Vertical alignment for positive values\n",
    "    ha = 'left'\n",
    "\n",
    "    # Use X value as label and format number with three decimal places\n",
    "    label = \"{:.3f}\".format(x_value)\n",
    "\n",
    "    # Create annotation\n",
    "    plt.annotate(\n",
    "        label,                      # Use `label` as label\n",
    "        (x_value, y_value),         # Place label at end of the bar\n",
    "        xytext=(space, 0),          # Horizontally shift label by `space`\n",
    "        textcoords=\"offset points\", # Interpret `xytext` as offset in points\n",
    "        va='center',                # Vertically center label\n",
    "        ha=ha)                      # Horizontally align label differently for\n",
    "                                    # positive and negative values.\n",
    "\n",
    "# Call the function\n",
    "add_value_labels(ax)"
   ]
  },
  {
   "cell_type": "markdown",
   "id": "c5aa5af0",
   "metadata": {},
   "source": [
    "#### 1.6.1.3 The Three Unique Identifier Columns\n",
    "<a id='1.6.1.3_The_Three_Unique_Identifier_Columns'></a>"
   ]
  },
  {
   "cell_type": "markdown",
   "id": "9cbaba5b",
   "metadata": {},
   "source": [
    "##### 1.6.1.3.1 Finding NaNs and Other Forms of Missing Data\n",
    "<a id='1.6.1.3.1_Finding_NaNs_and_Other_Forms_of_Missing_Data'></a>"
   ]
  },
  {
   "cell_type": "markdown",
   "id": "80a310ef",
   "metadata": {},
   "source": [
    "As seen in the visualization above, there are no Nans in the '5 DIgit NTD ID' field."
   ]
  },
  {
   "cell_type": "code",
   "execution_count": null,
   "id": "6ba8d3a2",
   "metadata": {},
   "outputs": [],
   "source": [
    "data[data['5 DIgit NTD ID'].isna()]"
   ]
  },
  {
   "cell_type": "markdown",
   "id": "e8f4158d",
   "metadata": {},
   "source": [
    "When looking at the pairings of '5 DIgit NTD ID' and 'Agency', a quotation mark is found for \"5 DIgit NTD ID\" at index 246."
   ]
  },
  {
   "cell_type": "code",
   "execution_count": null,
   "id": "2748340e",
   "metadata": {},
   "outputs": [],
   "source": [
    "data[['5 DIgit NTD ID', 'Agency']].drop_duplicates().sort_values('5 DIgit NTD ID').head(50)"
   ]
  },
  {
   "cell_type": "markdown",
   "id": "4d6d8d65",
   "metadata": {},
   "source": [
    "A search for additional quotation marks in the '5 DIgit NTD ID' field reveals a total of 48 rows."
   ]
  },
  {
   "cell_type": "code",
   "execution_count": null,
   "id": "e4d1611f",
   "metadata": {},
   "outputs": [],
   "source": [
    "data[data['5 DIgit NTD ID']==r'\"']"
   ]
  },
  {
   "cell_type": "markdown",
   "id": "9dbd4c04",
   "metadata": {},
   "source": [
    "Searching for Nans in 'Agency' reveals the same 48 rows.  Since these rows contain no useful way to identify where the data is coming from (ie. no agency name, id number, or even organization or service type or mode) we can make the determination that these rows are not useful for our project and can be removed."
   ]
  },
  {
   "cell_type": "code",
   "execution_count": null,
   "id": "95757160",
   "metadata": {},
   "outputs": [],
   "source": [
    "data[data['Agency'].isna()]"
   ]
  },
  {
   "cell_type": "markdown",
   "id": "a77edc05",
   "metadata": {},
   "source": [
    "##### 1.6.1.3.2 Removing the Rows of Data\n",
    "<a id='1.6.1.3.2_Removing_the_Rows_of_Data'></a>"
   ]
  },
  {
   "cell_type": "code",
   "execution_count": null,
   "id": "5af7ea3a",
   "metadata": {},
   "outputs": [],
   "source": [
    "data = data[data['Agency'].notna()]"
   ]
  },
  {
   "cell_type": "markdown",
   "id": "d287e9cf",
   "metadata": {},
   "source": [
    "Checking to make sure the data has been removed."
   ]
  },
  {
   "cell_type": "code",
   "execution_count": null,
   "id": "f295ae5d",
   "metadata": {},
   "outputs": [],
   "source": [
    "data[data['Agency'].isna()]"
   ]
  },
  {
   "cell_type": "code",
   "execution_count": null,
   "id": "eac93277",
   "metadata": {
    "scrolled": true
   },
   "outputs": [],
   "source": [
    "data[data['5 DIgit NTD ID']==r'\"']"
   ]
  },
  {
   "cell_type": "markdown",
   "id": "857f6e6e",
   "metadata": {},
   "source": [
    "#### 1.6.1.4 Primary UZA Population, Name, and Sq Miles\n",
    "<a id='1.6.1.4_Primary_UZA_Population_Name_and_Sq_Miles'></a>"
   ]
  },
  {
   "cell_type": "code",
   "execution_count": null,
   "id": "1393cb4b",
   "metadata": {},
   "outputs": [],
   "source": [
    "\n",
    "data['Primary UZA Population'].isnull().sum()"
   ]
  },
  {
   "cell_type": "code",
   "execution_count": null,
   "id": "77551ca3",
   "metadata": {},
   "outputs": [],
   "source": [
    "data['Primary UZA Name'].isnull().sum()"
   ]
  },
  {
   "cell_type": "code",
   "execution_count": null,
   "id": "3499b107",
   "metadata": {},
   "outputs": [],
   "source": [
    "data['Primary UZA Sq Miles'].isnull().sum()"
   ]
  },
  {
   "cell_type": "code",
   "execution_count": null,
   "id": "c468c562",
   "metadata": {},
   "outputs": [],
   "source": [
    "#number of unique 5 digit IDs where primary UZA Name is NaN\n",
    "\n",
    "dfisna = data[data['Primary UZA Name'].isna()]\n",
    "dfisna.head()\n"
   ]
  },
  {
   "cell_type": "code",
   "execution_count": null,
   "id": "d9d6892f",
   "metadata": {},
   "outputs": [],
   "source": [
    "dfisna['5 DIgit NTD ID'].nunique()"
   ]
  },
  {
   "cell_type": "code",
   "execution_count": null,
   "id": "e07d3273",
   "metadata": {},
   "outputs": [],
   "source": [
    "#find the overlap.  Do these 241 '5 DIgit NTD ID's also appear WITH a 'Primary UZA Name' elsewhere in the original data?\n",
    "\n",
    "# make another table which is all isnotna, then see which 5 digs appear in both tables\n",
    "\n",
    "dfisnotna = data[data['Primary UZA Name'].notna()]\n",
    "dfisnotna.head()"
   ]
  },
  {
   "cell_type": "code",
   "execution_count": null,
   "id": "1abb7a6d",
   "metadata": {},
   "outputs": [],
   "source": [
    "#inner join dfisnotna and dfisna on 5 dig ID to see which/how many 5 dig IDs appear in both.\n",
    "\n",
    "#is_isnot = dfisnotna.merge(dfisna, on = '5 DIgit NTD ID', suffixes=('_isnotna', '_isna'))\n",
    "#is_isnot\n",
    "\n",
    "#fix this:\n",
    "#call unique on 5 dig id for both dfs first, then inner join\n",
    "#on notna call unique on 5 dig, UZA name just as a precaution\n",
    "\n",
    "\n",
    "\n",
    "dfisna = dfisna[['5 DIgit NTD ID', 'Primary UZA Name']].drop_duplicates().sort_values('5 DIgit NTD ID')\n",
    "dfisna\n",
    "\n",
    "\n"
   ]
  },
  {
   "cell_type": "code",
   "execution_count": null,
   "id": "4ab5bb17",
   "metadata": {},
   "outputs": [],
   "source": [
    "dfisnotna[['5 DIgit NTD ID', 'Primary UZA Name']].drop_duplicates().sort_values('5 DIgit NTD ID')"
   ]
  },
  {
   "cell_type": "code",
   "execution_count": null,
   "id": "ae8b32a9",
   "metadata": {},
   "outputs": [],
   "source": [
    "#So it appears that 240 of the 241 unique 5 dig ids which contain Nan for Primary UZA Name\n",
    "#do have that information available somewhere else in the database\n",
    "\n",
    "is_isnot=pd.merge(dfisnotna,dfisna, how='inner', on = '5 DIgit NTD ID')\n",
    "is_isnot[['5 DIgit NTD ID']].drop_duplicates().sort_values('5 DIgit NTD ID')\n",
    "\n"
   ]
  },
  {
   "cell_type": "markdown",
   "id": "8d29e944",
   "metadata": {},
   "source": [
    "<div class=\"alert alert-danger\">\n",
    "<strong>Question before I proceed:</strong>  At this point, I would seek permission from the client to fill these NaNs with the Primary UZA Names which are available elsewhere in the dataset.  I would request permission to do the same with Primary UZA population and Sq miles if applicable.</div>"
   ]
  },
  {
   "cell_type": "markdown",
   "id": "ecb053ca",
   "metadata": {},
   "source": [
    "#### 1.6.1.5 (TBD) Org Type, Service Area Pop and Sq Miles\n",
    "<a id='1.6.1.5_(TBD)_Org_Type_Service_Area_Pop_and_Sq_Miles'></a>"
   ]
  },
  {
   "cell_type": "markdown",
   "id": "391f43a6",
   "metadata": {},
   "source": [
    "<div class=\"alert alert-danger\">\n",
    "<strong>Next move: </strong>I would handle this section similarly to 1.6.1.4. I would request permission to replace NaNs with data found elsewhere in the dataset when available and appropriate.</div>"
   ]
  },
  {
   "cell_type": "code",
   "execution_count": null,
   "id": "7ccf9d9c",
   "metadata": {},
   "outputs": [],
   "source": []
  },
  {
   "cell_type": "markdown",
   "id": "4fcae31b",
   "metadata": {},
   "source": [
    "### 1.6.2 Examining the '5 DIgit NTD ID', '4 Digit NTD ID', and 'Agency' Columns\n",
    "<a id='1.6.2_Examining_the_5_DIgit_NTD_ID_4_Digit_NTD_ID_and_Agency_columns'></a>\n",
    "\n",
    "These three columns contain unique identifying information for each reporting agency.  The agency name and ID should match.  Since there are two different ID numbers, I'll explore both to determine which should be used as a primary identifier, and whether both or just one ID column should be preserved in the database."
   ]
  },
  {
   "cell_type": "markdown",
   "id": "864d79ef",
   "metadata": {},
   "source": [
    "#### 1.6.2.1 Counting Unique Values\n",
    "<a id='1.6.2.1_Counting_Unique_Values'></a>"
   ]
  },
  {
   "cell_type": "markdown",
   "id": "b3aaf030",
   "metadata": {},
   "source": [
    "<div class=\"alert alert-danger\">\n",
    "    <strong>Items to address in this section:</strong>  \n",
    "    \n",
    "Which 4 digs dont have 5 digs?\n",
    "\n",
    "Are there any letters in either ID?  \n",
    "\n",
    "What does the one record with 5 dig but without Agency look like?\n",
    "\n"
   ]
  },
  {
   "cell_type": "markdown",
   "id": "130f2c18",
   "metadata": {},
   "source": [
    "The number of unique  values in \"5 DIgit NTD ID\" and \"Agency\" are pretty close.  There are less unique values in the \"4 Digit NTD ID\" since this is the legacy ID.  "
   ]
  },
  {
   "cell_type": "code",
   "execution_count": null,
   "id": "81c9b02d",
   "metadata": {},
   "outputs": [],
   "source": [
    "data['4 Digit NTD ID'].nunique()\n"
   ]
  },
  {
   "cell_type": "code",
   "execution_count": null,
   "id": "d85c3b88",
   "metadata": {},
   "outputs": [],
   "source": [
    "data['5 DIgit NTD ID'].nunique()\n"
   ]
  },
  {
   "cell_type": "code",
   "execution_count": null,
   "id": "e160ecb5",
   "metadata": {},
   "outputs": [],
   "source": [
    "data['Agency'].nunique()"
   ]
  },
  {
   "cell_type": "code",
   "execution_count": null,
   "id": "e924b2ae",
   "metadata": {},
   "outputs": [],
   "source": [
    "#saving the unique five digit IDs for use below\n",
    "\n",
    "five_unique = data[['5 DIgit NTD ID']].drop_duplicates().sort_values('5 DIgit NTD ID')\n",
    "five_unique"
   ]
  },
  {
   "cell_type": "code",
   "execution_count": null,
   "id": "fdeff343",
   "metadata": {},
   "outputs": [],
   "source": [
    "#saving the unique four digit IDs for use below\n",
    "\n",
    "four_unique = data[['4 Digit NTD ID']].drop_duplicates().sort_values('4 Digit NTD ID')\n",
    "four_unique"
   ]
  },
  {
   "cell_type": "code",
   "execution_count": null,
   "id": "edb46c22",
   "metadata": {},
   "outputs": [],
   "source": [
    "#In the next few cells, I am looking to see if there are any patterns in the data that will help me understand\n",
    "#why some 5 dig ID don't have a 4 dig ID.\n",
    "\n",
    "#return rows sorted by 5 dig ids where 4 dig id is NaN\n",
    "\n",
    "#Splitting columns into 2 sets to make it easier to read\n",
    "\n",
    "five_not_four = data[data['4 Digit NTD ID'].isna()].sort_values(['5 DIgit NTD ID', 'Year'])\n",
    "five_not_four_set1 = five_not_four[['5 DIgit NTD ID', '4 Digit NTD ID','Agency', 'Organization Type', 'Mode', 'Type of Service', 'Rail (Y/N)']].sort_values(['5 DIgit NTD ID'])\n",
    "five_not_four_set1"
   ]
  },
  {
   "cell_type": "code",
   "execution_count": null,
   "id": "63f5f1c3",
   "metadata": {},
   "outputs": [],
   "source": [
    "five_not_four = data[data['4 Digit NTD ID'].isna()].sort_values(['5 DIgit NTD ID', 'Year'])\n",
    "five_not_four_set2 = five_not_four[['5 DIgit NTD ID', '4 Digit NTD ID','Primary UZA Code', 'Primary UZA Name', 'Primary UZA Sq Miles', 'Primary UZA Population', 'Service Area Sq Miles', 'Service Area Population', 'Year']].sort_values(['5 DIgit NTD ID'])\n",
    "five_not_four_set2"
   ]
  },
  {
   "cell_type": "code",
   "execution_count": null,
   "id": "dfa7e74f",
   "metadata": {},
   "outputs": [],
   "source": [
    "five_not_four_Agency_count = five_not_four['Agency'].nunique()\n",
    "five_not_four_Agency_count"
   ]
  },
  {
   "cell_type": "code",
   "execution_count": null,
   "id": "96835baa",
   "metadata": {},
   "outputs": [],
   "source": [
    "#looking at one row for each of the 37 5 dig IDs that do not have four dig ID.\n",
    "\n",
    "five_not_four_set1 = five_not_four_set1.drop_duplicates(subset='5 DIgit NTD ID', keep=\"first\")\n",
    "five_not_four_set1"
   ]
  },
  {
   "cell_type": "code",
   "execution_count": null,
   "id": "aeff0a2a",
   "metadata": {},
   "outputs": [],
   "source": [
    "five_not_four_set2 = five_not_four_set2.drop_duplicates(subset='5 DIgit NTD ID', keep=\"first\")\n",
    "five_not_four_set2"
   ]
  },
  {
   "cell_type": "markdown",
   "id": "ef7769a3",
   "metadata": {},
   "source": [
    "<div class=\"alert alert-danger\">I'm not seeing a clear reason why these 37 agencies are missing 4 dig IDs when others are not.\n",
    "\n",
    "<strong>Question: </strong>Are there other ways I can look at this data/explore more to try to figure it out or should I just accept that I can't determine a reason and leave it be?</div>"
   ]
  },
  {
   "cell_type": "markdown",
   "id": "c2d6cb97",
   "metadata": {},
   "source": [
    "<div class=\"alert alert-danger\"><strong>Next step: </strong>I want to search for letters in both 5 and 4 dig ID columns.  If there is a letter indicating tribe, for example, in the 4 dig id but not the 5 dig id, I want to see if that is also indicated in the agency name or organization type.  This would be one more step in determining the usefulness of the 4 dig id.</div>"
   ]
  },
  {
   "cell_type": "code",
   "execution_count": null,
   "id": "04156099",
   "metadata": {},
   "outputs": [],
   "source": [
    "# NTD IDs: T = tribe, R = rural, no letter to indicate urban"
   ]
  },
  {
   "cell_type": "markdown",
   "id": "d5e4b9dc",
   "metadata": {},
   "source": [
    "Currently, I think it will be better to use the 5 digit as the unique identifier instead of the 4 digit ID going forward, but I think the 4 digit ID should be preserved in the database in case it is needed for other purposes."
   ]
  },
  {
   "cell_type": "markdown",
   "id": "76bac735",
   "metadata": {},
   "source": [
    "### 1.6.3 Ridership\n",
    "<a id='1.6.3_Ridership'></a>"
   ]
  },
  {
   "cell_type": "markdown",
   "id": "cb80743a",
   "metadata": {},
   "source": [
    "<div class=\"alert alert-danger\">\n",
    "<strong>Note to self:</strong>\n",
    "    \n",
    "How shall I treat the rows where Ridership is zero?  What can we understand from a zero in that field? Is that a true representation of the ridership during those months or is the zero a placeholder?  \n",
    "    \n",
    "Possible options:   \n",
    "* Exclude the data\n",
    "    \n",
    "* Leave as is\n",
    "    \n",
    "* Replace with an average - multiple methods possible to do this\n",
    "\n",
    "I need to have a better understanding of why ridership is zero during these months/years before I can make a decision.</div>"
   ]
  },
  {
   "cell_type": "code",
   "execution_count": null,
   "id": "c22885b3",
   "metadata": {},
   "outputs": [],
   "source": [
    "data[['5 DIgit NTD ID','Agency','Month','Year','Ridership']].sort_values(by = ['Ridership', '5 DIgit NTD ID','Year','Month'], ascending=True).head(30)"
   ]
  },
  {
   "cell_type": "markdown",
   "id": "3290c674",
   "metadata": {},
   "source": [
    "<div class=\"alert alert-info\">\n",
    "  <strong>Checking \"Ridership\": </strong> There are 1562 rows of data where \"Ridership\" is zero.</a></div>"
   ]
  },
  {
   "cell_type": "code",
   "execution_count": null,
   "id": "f5147c39",
   "metadata": {},
   "outputs": [],
   "source": [
    "data[data['Ridership']==0].shape"
   ]
  },
  {
   "cell_type": "markdown",
   "id": "328ce1cb",
   "metadata": {},
   "source": [
    "<div class=\"alert alert-info\">\n",
    "  <strong>Checking \"Ridership\": </strong> Looking at one index number from above to see it's data.  At least it is consistent, zero safety data for zero riders.  I checked several fields but will need to do a more diligent exploration before being able to decide what to do with the 1562 rows.</a></div>"
   ]
  },
  {
   "cell_type": "code",
   "execution_count": null,
   "id": "61e61f24",
   "metadata": {},
   "outputs": [],
   "source": [
    "data.iloc[57611]"
   ]
  },
  {
   "cell_type": "markdown",
   "id": "f0828026",
   "metadata": {},
   "source": [
    "### 1.6.4 TOS TN\n",
    "<a id='1.6.4_TOS_TN'></a>"
   ]
  },
  {
   "cell_type": "markdown",
   "id": "aa80b3e3",
   "metadata": {},
   "source": [
    "<div class=\"alert alert-info\">\n",
    "  <strong>Type of Service (TOS) \"TN\":  </strong> It is important to note that this one type of service was not in effect for the entire life of the database since this may change how we use this field.  The documention from NTD shows the new TOS designation \"TN\" came into use Sept 2019 but it first occurs in the database July 2018. It is used regularly after that.</div>"
   ]
  },
  {
   "cell_type": "code",
   "execution_count": null,
   "id": "9d10e0fd",
   "metadata": {},
   "outputs": [],
   "source": [
    "temp_df = data[data['Type of Service']=='TN']\n",
    "temp_df[['Agency','Mode', 'Month','Year','Type of Service']].sort_values(by=['Year','Month'],ascending=True).head(10)"
   ]
  },
  {
   "cell_type": "markdown",
   "id": "a971cd50",
   "metadata": {},
   "source": [
    "### 1.6.5 Changing Data Type of 'Rail (Y/N)' Column\n",
    "<a id='1.6.5_Rail'></a>"
   ]
  },
  {
   "cell_type": "markdown",
   "id": "90c3c986",
   "metadata": {},
   "source": [
    "<div class=\"alert alert-info\">\n",
    "  <strong>\"Rail (Y/N)\" column data type: </strong> Removing the NANs in the Agency column fixed the NANs in the 'Rail (Y/N)' column.  So, I'm able to change the data type to bool now.</a></div>"
   ]
  },
  {
   "cell_type": "code",
   "execution_count": null,
   "id": "f3ccf530",
   "metadata": {},
   "outputs": [],
   "source": [
    "missing = pd.concat([data.isnull().sum(), 100 * data.isnull().mean()], axis=1)\n",
    "missing.columns=['count', '%']\n",
    "missing"
   ]
  },
  {
   "cell_type": "code",
   "execution_count": null,
   "id": "568ea123",
   "metadata": {},
   "outputs": [],
   "source": [
    "data['Rail (Y/N)'] = data['Rail (Y/N)'].astype(bool)"
   ]
  },
  {
   "cell_type": "code",
   "execution_count": null,
   "id": "f7b71ef4",
   "metadata": {},
   "outputs": [],
   "source": [
    "data.info()"
   ]
  }
 ],
 "metadata": {
  "kernelspec": {
   "display_name": "Python 3 (ipykernel)",
   "language": "python",
   "name": "python3"
  },
  "language_info": {
   "codemirror_mode": {
    "name": "ipython",
    "version": 3
   },
   "file_extension": ".py",
   "mimetype": "text/x-python",
   "name": "python",
   "nbconvert_exporter": "python",
   "pygments_lexer": "ipython3",
   "version": "3.9.12"
  }
 },
 "nbformat": 4,
 "nbformat_minor": 5
}
