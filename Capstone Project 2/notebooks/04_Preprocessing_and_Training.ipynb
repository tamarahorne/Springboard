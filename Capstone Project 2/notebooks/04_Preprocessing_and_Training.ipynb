{
 "cells": [
  {
   "cell_type": "markdown",
   "id": "089b7777",
   "metadata": {},
   "source": [
    "Note to Self: FTA regions [FTA Regions](https://www.transit.dot.gov/about/regional-offices/regional-offices) This addition resource may or may not be useful later."
   ]
  },
  {
   "cell_type": "markdown",
   "id": "dd736787",
   "metadata": {},
   "source": [
    "In the next notebook, I will encode the modes and then further examine the relationships between each mode and the safety data.\n",
    "\n",
    "1.  Look at quantity of ALL totals data - how many occurances total, averages, etc.\n",
    "2.  Do I want to keep considering all of them (in my safety definition) or refine my questions to just the big three?\n",
    "3.  Encode modes\n",
    "4.  Redo pairplot and heatmap with modes and totals of choice\n",
    "\n",
    "Then, beyond mode, determine if population, number of vehicles, etc affect safety."
   ]
  },
  {
   "cell_type": "markdown",
   "id": "298d3cff",
   "metadata": {},
   "source": [
    "**saving code on Ridership in case I decide to use it later**"
   ]
  },
  {
   "cell_type": "markdown",
   "id": "d0bed8c0",
   "metadata": {},
   "source": [
    "### 2.6.3 Question 3\n",
    "<a id='2.6.3_Question_3'></a>\n",
    "**What can I learn about the rows where 'Ridership' equals zero?**\n",
    "* **How many times did this occur in the dataframe?**\n",
    "* **Are the various safety events also zero when this occurs?**\n",
    "* **How long does Ridership stay at zero when this occurs?**\n",
    "* **When it rebounds from zero, does it slowly climb or go back to full capacity?**\n",
    "* **Is it zero across all modes of transportation for each reporting Agency at the same time?**\n",
    "* **Can we see a trend when looking at the number of times this occurs by year?**\n",
    "* **Does it look like the zero truly represents the amount of ridership or is it a placeholder?**\n",
    "\n",
    "**Knowing these answers will help me understand how these rows should be interpreted and how (or if) they should be used for data analysis.**"
   ]
  },
  {
   "cell_type": "code",
   "execution_count": null,
   "id": "37bdac0a",
   "metadata": {},
   "outputs": [],
   "source": [
    "#How many times did this occur in the dataframe?\n",
    "\n",
    "#Looking for '5 DIgit NTD ID's where at least one row has Ridership equal to zero.\n",
    "\n",
    "zero_ridership = data[data['Ridership']==0]\n",
    "\n",
    "zero_ridership_IDs = zero_ridership[['5 DIgit NTD ID', 'Ridership']].drop_duplicates() zero_ridership_IDs = zero_ridership_IDs[zero_ridership_IDs.columns[0]].count()\n",
    "\n",
    "zero_ridership_rows = zero_ridership[['5 DIgit NTD ID', 'Ridership']] zero_ridership_rows = zero_ridership_rows[zero_ridership_rows.columns[0]].count()\n",
    "\n",
    "print(\"Number of '5 DIgit NTD ID's with at least one report of zero 'Ridership':\", zero_ridership_IDs) print(\"Number of rows where 'Ridership' is zero:\", zero_ridership_rows)\n"
   ]
  },
  {
   "cell_type": "code",
   "execution_count": null,
   "id": "9f61d7fc",
   "metadata": {},
   "outputs": [],
   "source": [
    "#Are the various safety events also zero when this occurs?\n",
    "\n",
    "###Part 1: This answers \"How many times was each column non-zero in the database of zero_ridership\"\n",
    "\n",
    "incidences = zero_ridership.iloc[:, 19:64]\n",
    "\n",
    "incidences = incidences.mask(incidences > 0, 1) incidences.index = zero_ridership['5 DIgit NTD ID']\n",
    "\n",
    "columns = list(incidences)\n",
    "\n",
    "x = [] for i in columns: count_i = incidences[i].value_counts() x.append(count_i) x x = pd.DataFrame(x)\n",
    "\n",
    "ax = x[1].plot(kind='barh', figsize=(8,12)) ax.bar_label(ax.containers[0]) ax.set_title('Count of Rows where incidences are reported while Ridership=0', fontsize=20, pad=20) ax.set_xlabel('Count', fontsize=14) ax.set_ylabel('Column Name', fontsize=14) print(\"\")\n",
    "\n",
    "#I need to change the order of the columns to something more meaningful\n"
   ]
  },
  {
   "cell_type": "code",
   "execution_count": null,
   "id": "8502521a",
   "metadata": {},
   "outputs": [],
   "source": [
    "#Part 2:\n",
    "\n",
    "###Redo the above chart sorting by 5 DIgit NTD ID and then Mode. ###Then only check the columns which are applicable to that Mode. ###Busses being shut down does not mean a train derailment can't happen.\n",
    "\n",
    "#Make a new dataframe with zero_ridership + '5 DIgit NTD ID' and 'Mode' #Figure out which of the incidence columns go with each mode #Loop through above to see if any 1s appear\n"
   ]
  },
  {
   "cell_type": "markdown",
   "id": "241ec177",
   "metadata": {},
   "source": [
    "<div class=\"alert alert-danger\" role=\"alert\">\n",
    "AJ: I want this to end up being box plots that show stats for the lenght of time Ridership remained zero each time that occurred.  I'm a little stuck.  I need to get rid of all the tuples where the first number is zero because I don't need that data.  I want to keep the tuples where the first number is one (representing 'yes' something was reported) and plot the stats for each column name. Alternatively, I could only do box plots for the 'total...' columns."
   ]
  },
  {
   "cell_type": "code",
   "execution_count": null,
   "id": "ba7a8cd6",
   "metadata": {},
   "outputs": [],
   "source": [
    "#How long does Ridership stay at zero when this occurs?\n",
    "\n",
    "columns = list(incidences)\n",
    "\n",
    "a = [] for b in columns: count_b = [(k, sum(1 for i in g)) for k,g in groupby(incidences[b])] a.append([b, count_b]) a a = pd.DataFrame(a) a\n",
    "\n",
    "#finding consecutive occurances ##This gets me a tuple of the number 0 or 1 and then the number of times it occurred consecutively #grouped_d = [(k, sum(1 for i in g)) for k,g in groupby(incidences['Collisions with Motor Vehicle'])] #grouped_d = pd.DataFrame(grouped_d) #grouped_d #ax = grouped_d[0].plot(kind='bar', fontsize=10)\n",
    "\n",
    "#ax = x[1].plot(kind='barh', figsize=(8,12)) #ax.bar_label(ax.containers[0]) #ax.set_title('Count of Rows where incidences are reported while Ridership=0', fontsize=20, pad=20) #ax.set_xlabel('Count', fontsize=14) #ax.set_ylabel('Column Name', fontsize=14) #print(\"\")\n",
    "\n",
    "#sort zero_ridership by ID, Year, Month #for i in ID:\n",
    "for t in year,month:\n",
    "count number of months in a row ridership=0\n",
    "append that number to a list\n",
    "(keep looking through that same id number until the end is reached)\n",
    "(then look through next id number)\n",
    "\n",
    "#make a boxplot of the number of months in a row ridership was zero\n"
   ]
  },
  {
   "cell_type": "code",
   "execution_count": null,
   "id": "8a09f8b2",
   "metadata": {},
   "outputs": [],
   "source": [
    "#When it rebounds from zero, does it slowly climb or go back to full capacity?"
   ]
  },
  {
   "cell_type": "code",
   "execution_count": null,
   "id": "7fabfc88",
   "metadata": {},
   "outputs": [],
   "source": [
    "#Is Ridership zero across all modes of transportation for each reporting Agency at the same time?\n"
   ]
  },
  {
   "cell_type": "code",
   "execution_count": null,
   "id": "c589cc87",
   "metadata": {},
   "outputs": [],
   "source": [
    "#Can we see a trend when looking at the number of times this occurs by year?\n",
    "\n",
    "plt.figure(figsize=(6,6))\n",
    "\n",
    "ax = sns.countplot(x=zero_ridership['Year'], order=zero_ridership['Year'].value_counts().index) ax.bar_label(ax.containers[0]) ax.set_title('Count by Year of Rows where Ridership = 0', fontsize=20, pad=20)\n"
   ]
  },
  {
   "cell_type": "code",
   "execution_count": null,
   "id": "5cb7db47",
   "metadata": {},
   "outputs": [],
   "source": [
    "So, was Ridership never equal to zero in the other years?\n"
   ]
  },
  {
   "cell_type": "code",
   "execution_count": null,
   "id": "b2322653",
   "metadata": {},
   "outputs": [],
   "source": [
    "#Is it possible to confidently decide whether the zero truly represents the amount of ridership or if it is a placeholder?"
   ]
  }
 ],
 "metadata": {
  "kernelspec": {
   "display_name": "Python 3 (ipykernel)",
   "language": "python",
   "name": "python3"
  },
  "language_info": {
   "codemirror_mode": {
    "name": "ipython",
    "version": 3
   },
   "file_extension": ".py",
   "mimetype": "text/x-python",
   "name": "python",
   "nbconvert_exporter": "python",
   "pygments_lexer": "ipython3",
   "version": "3.9.12"
  }
 },
 "nbformat": 4,
 "nbformat_minor": 5
}
