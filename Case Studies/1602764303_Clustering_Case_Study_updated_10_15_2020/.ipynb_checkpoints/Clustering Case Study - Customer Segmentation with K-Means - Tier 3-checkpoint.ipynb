{
 "cells": [
  {
   "cell_type": "markdown",
   "metadata": {
    "colab_type": "text",
    "id": "zxi-VF92ymXl"
   },
   "source": [
    "# Clustering Case Study: Customer Segmentation with K-Means -  Tier 3\n",
    "***\n",
    "This case study is based on [this blog post](http://blog.yhat.com/posts/customer-segmentation-using-python.html) by the `yhat` blog. Please feel free to refer to the post for additional information, and solutions.\n",
    "\n",
    "Structure of the mini-project:\n",
    "\n",
    "1. **Sourcing and loading**\n",
    "    * Load the data\n",
    "    * Explore the data\n",
    "\n",
    "\n",
    "2. **Cleaning, transforming and visualizing**\n",
    "    * Data Wrangling: Exercise Set 1\n",
    "        - Creating a matrix with a binary indicator for whether they responded to a given offer\n",
    "        - Ensure that in doing so, NAN values are dealt with appropriately\n",
    "    \n",
    "\n",
    "3. **Modelling** \n",
    "    * K-Means clustering: Exercise Sets 2 and 3\n",
    "        - Choosing K: The Elbow method\n",
    "        - Choosing K: The Silhouette method\n",
    "        - Choosing K: The Gap statistic method\n",
    "    \n",
    "    * Visualizing clusters with PCA: Exercise Sets 4 and 5\n",
    "\n",
    "\n",
    "4. **Conclusions and next steps**\n",
    "    * Conclusions\n",
    "    * Other clustering algorithms (Exercise Set 6)"
   ]
  },
  {
   "cell_type": "code",
   "execution_count": 1,
   "metadata": {
    "colab": {},
    "colab_type": "code",
    "id": "eLGqKM7dymXn"
   },
   "outputs": [],
   "source": [
    "%matplotlib inline\n",
    "import pandas as pd\n",
    "import sklearn\n",
    "import matplotlib.pyplot as plt\n",
    "import seaborn as sns\n",
    "\n",
    "# Setup Seaborn\n",
    "sns.set_style(\"whitegrid\")\n",
    "sns.set_context(\"poster\")"
   ]
  },
  {
   "cell_type": "markdown",
   "metadata": {
    "colab_type": "text",
    "id": "-v84pqrpymXq"
   },
   "source": [
    "## 1. Sourcing and loading\n",
    "### 1a. Load the data\n",
    "The dataset contains information on marketing newsletters/e-mail campaigns (e-mail offers sent to customers) and transaction level data from customers. The transactional data shows which offer customers responded to, and what the customer ended up buying. The data is presented as an Excel workbook containing two worksheets. Each worksheet contains a different dataset."
   ]
  },
  {
   "cell_type": "code",
   "execution_count": 2,
   "metadata": {
    "colab": {},
    "colab_type": "code",
    "id": "o6VegVF9ymXr"
   },
   "outputs": [
    {
     "name": "stderr",
     "output_type": "stream",
     "text": [
      "/Users/tamarahorne/opt/anaconda3/lib/python3.9/site-packages/openpyxl/worksheet/_reader.py:312: UserWarning: Unknown extension is not supported and will be removed\n",
      "  warn(msg)\n"
     ]
    }
   ],
   "source": [
    "df_offers = pd.read_excel(\"./WineKMC.xlsx\", sheet_name=0)"
   ]
  },
  {
   "cell_type": "markdown",
   "metadata": {
    "colab_type": "text",
    "id": "4ed8ZPwPymXu"
   },
   "source": [
    "### 1b. Explore the data"
   ]
  },
  {
   "cell_type": "code",
   "execution_count": 3,
   "metadata": {
    "colab": {},
    "colab_type": "code",
    "id": "nyFOb6oEymXv"
   },
   "outputs": [
    {
     "data": {
      "text/html": [
       "<div>\n",
       "<style scoped>\n",
       "    .dataframe tbody tr th:only-of-type {\n",
       "        vertical-align: middle;\n",
       "    }\n",
       "\n",
       "    .dataframe tbody tr th {\n",
       "        vertical-align: top;\n",
       "    }\n",
       "\n",
       "    .dataframe thead th {\n",
       "        text-align: right;\n",
       "    }\n",
       "</style>\n",
       "<table border=\"1\" class=\"dataframe\">\n",
       "  <thead>\n",
       "    <tr style=\"text-align: right;\">\n",
       "      <th></th>\n",
       "      <th>offer_id</th>\n",
       "      <th>campaign</th>\n",
       "      <th>varietal</th>\n",
       "      <th>min_qty</th>\n",
       "      <th>discount</th>\n",
       "      <th>origin</th>\n",
       "      <th>past_peak</th>\n",
       "    </tr>\n",
       "  </thead>\n",
       "  <tbody>\n",
       "    <tr>\n",
       "      <th>0</th>\n",
       "      <td>1</td>\n",
       "      <td>January</td>\n",
       "      <td>Malbec</td>\n",
       "      <td>72</td>\n",
       "      <td>56</td>\n",
       "      <td>France</td>\n",
       "      <td>False</td>\n",
       "    </tr>\n",
       "    <tr>\n",
       "      <th>1</th>\n",
       "      <td>2</td>\n",
       "      <td>January</td>\n",
       "      <td>Pinot Noir</td>\n",
       "      <td>72</td>\n",
       "      <td>17</td>\n",
       "      <td>France</td>\n",
       "      <td>False</td>\n",
       "    </tr>\n",
       "    <tr>\n",
       "      <th>2</th>\n",
       "      <td>3</td>\n",
       "      <td>February</td>\n",
       "      <td>Espumante</td>\n",
       "      <td>144</td>\n",
       "      <td>32</td>\n",
       "      <td>Oregon</td>\n",
       "      <td>True</td>\n",
       "    </tr>\n",
       "    <tr>\n",
       "      <th>3</th>\n",
       "      <td>4</td>\n",
       "      <td>February</td>\n",
       "      <td>Champagne</td>\n",
       "      <td>72</td>\n",
       "      <td>48</td>\n",
       "      <td>France</td>\n",
       "      <td>True</td>\n",
       "    </tr>\n",
       "    <tr>\n",
       "      <th>4</th>\n",
       "      <td>5</td>\n",
       "      <td>February</td>\n",
       "      <td>Cabernet Sauvignon</td>\n",
       "      <td>144</td>\n",
       "      <td>44</td>\n",
       "      <td>New Zealand</td>\n",
       "      <td>True</td>\n",
       "    </tr>\n",
       "  </tbody>\n",
       "</table>\n",
       "</div>"
      ],
      "text/plain": [
       "   offer_id  campaign            varietal  min_qty  discount       origin  \\\n",
       "0         1   January              Malbec       72        56       France   \n",
       "1         2   January          Pinot Noir       72        17       France   \n",
       "2         3  February           Espumante      144        32       Oregon   \n",
       "3         4  February           Champagne       72        48       France   \n",
       "4         5  February  Cabernet Sauvignon      144        44  New Zealand   \n",
       "\n",
       "   past_peak  \n",
       "0      False  \n",
       "1      False  \n",
       "2       True  \n",
       "3       True  \n",
       "4       True  "
      ]
     },
     "execution_count": 3,
     "metadata": {},
     "output_type": "execute_result"
    }
   ],
   "source": [
    "df_offers.columns = [\"offer_id\", \"campaign\", \"varietal\", \"min_qty\", \"discount\", \"origin\", \"past_peak\"]\n",
    "df_offers.head()"
   ]
  },
  {
   "cell_type": "markdown",
   "metadata": {
    "colab_type": "text",
    "id": "1OsRt52wymXx"
   },
   "source": [
    "We see that the first dataset contains information about each offer such as the month it is in effect and several attributes about the wine that the offer refers to: the variety, minimum quantity, discount, country of origin and whether or not it is past peak. The second dataset in the second worksheet contains transactional data -- which offer each customer responded to."
   ]
  },
  {
   "cell_type": "code",
   "execution_count": 4,
   "metadata": {
    "colab": {},
    "colab_type": "code",
    "id": "IkYD9ZVOymXy"
   },
   "outputs": [
    {
     "name": "stderr",
     "output_type": "stream",
     "text": [
      "/Users/tamarahorne/opt/anaconda3/lib/python3.9/site-packages/openpyxl/worksheet/_reader.py:312: UserWarning: Unknown extension is not supported and will be removed\n",
      "  warn(msg)\n"
     ]
    },
    {
     "data": {
      "text/html": [
       "<div>\n",
       "<style scoped>\n",
       "    .dataframe tbody tr th:only-of-type {\n",
       "        vertical-align: middle;\n",
       "    }\n",
       "\n",
       "    .dataframe tbody tr th {\n",
       "        vertical-align: top;\n",
       "    }\n",
       "\n",
       "    .dataframe thead th {\n",
       "        text-align: right;\n",
       "    }\n",
       "</style>\n",
       "<table border=\"1\" class=\"dataframe\">\n",
       "  <thead>\n",
       "    <tr style=\"text-align: right;\">\n",
       "      <th></th>\n",
       "      <th>customer_name</th>\n",
       "      <th>offer_id</th>\n",
       "      <th>n</th>\n",
       "    </tr>\n",
       "  </thead>\n",
       "  <tbody>\n",
       "    <tr>\n",
       "      <th>0</th>\n",
       "      <td>Smith</td>\n",
       "      <td>2</td>\n",
       "      <td>1</td>\n",
       "    </tr>\n",
       "    <tr>\n",
       "      <th>1</th>\n",
       "      <td>Smith</td>\n",
       "      <td>24</td>\n",
       "      <td>1</td>\n",
       "    </tr>\n",
       "    <tr>\n",
       "      <th>2</th>\n",
       "      <td>Johnson</td>\n",
       "      <td>17</td>\n",
       "      <td>1</td>\n",
       "    </tr>\n",
       "    <tr>\n",
       "      <th>3</th>\n",
       "      <td>Johnson</td>\n",
       "      <td>24</td>\n",
       "      <td>1</td>\n",
       "    </tr>\n",
       "    <tr>\n",
       "      <th>4</th>\n",
       "      <td>Johnson</td>\n",
       "      <td>26</td>\n",
       "      <td>1</td>\n",
       "    </tr>\n",
       "  </tbody>\n",
       "</table>\n",
       "</div>"
      ],
      "text/plain": [
       "  customer_name  offer_id  n\n",
       "0         Smith         2  1\n",
       "1         Smith        24  1\n",
       "2       Johnson        17  1\n",
       "3       Johnson        24  1\n",
       "4       Johnson        26  1"
      ]
     },
     "execution_count": 4,
     "metadata": {},
     "output_type": "execute_result"
    }
   ],
   "source": [
    "df_transactions = pd.read_excel(\"./WineKMC.xlsx\", sheet_name=1)\n",
    "df_transactions.columns = [\"customer_name\", \"offer_id\"]\n",
    "df_transactions['n'] = 1\n",
    "df_transactions.head()"
   ]
  },
  {
   "cell_type": "markdown",
   "metadata": {
    "colab_type": "text",
    "id": "Gm55bMGlymX2"
   },
   "source": [
    "## 2. Cleaning, transforming and visualizing\n",
    "### 2a. Data Wrangling"
   ]
  },
  {
   "cell_type": "markdown",
   "metadata": {
    "colab_type": "text",
    "id": "OQ5kUMJOymX3"
   },
   "source": [
    "We're trying to learn more about how our customers behave, so we can use their behavior (whether or not they purchased something based on an offer) as a way to group similar minded customers together. We can then study those groups to look for patterns and trends which can help us formulate future offers.\n",
    "\n",
    "The first thing we need is a way to compare customers. To do this, we're going to create a matrix that contains each customer and a 0/1 indicator for whether or not they responded to a given offer. "
   ]
  },
  {
   "cell_type": "markdown",
   "metadata": {
    "colab_type": "text",
    "id": "ogzDotBpymX3"
   },
   "source": [
    "<div class=\"span5 alert alert-info\">\n",
    "<h3>Checkup Exercise Set I</h3>\n",
    "\n",
    "<p><b>Exercise:</b> Create a data frame where each row has the following columns (Use the pandas [`merge`](http://pandas.pydata.org/pandas-docs/stable/generated/pandas.DataFrame.merge.html) and [`pivot_table`](http://pandas.pydata.org/pandas-docs/stable/generated/pandas.pivot_table.html) functions for this purpose):\n",
    "<ul>\n",
    "<li> customer_name\n",
    "<li> One column for each offer, with a 1 if the customer responded to the offer\n",
    "</ul>\n",
    "<p>Make sure you also deal with any weird values such as `NaN`. Read the documentation to develop your solution.</p>\n",
    "</div>"
   ]
  },
  {
   "cell_type": "code",
   "execution_count": 5,
   "metadata": {
    "colab": {},
    "colab_type": "code",
    "id": "IqC9L98ZymX4",
    "scrolled": true
   },
   "outputs": [
    {
     "data": {
      "text/html": [
       "<div>\n",
       "<style scoped>\n",
       "    .dataframe tbody tr th:only-of-type {\n",
       "        vertical-align: middle;\n",
       "    }\n",
       "\n",
       "    .dataframe tbody tr th {\n",
       "        vertical-align: top;\n",
       "    }\n",
       "\n",
       "    .dataframe thead th {\n",
       "        text-align: right;\n",
       "    }\n",
       "</style>\n",
       "<table border=\"1\" class=\"dataframe\">\n",
       "  <thead>\n",
       "    <tr style=\"text-align: right;\">\n",
       "      <th>offer_id</th>\n",
       "      <th>1</th>\n",
       "      <th>2</th>\n",
       "      <th>3</th>\n",
       "      <th>4</th>\n",
       "      <th>5</th>\n",
       "      <th>6</th>\n",
       "      <th>7</th>\n",
       "      <th>8</th>\n",
       "      <th>9</th>\n",
       "      <th>10</th>\n",
       "      <th>...</th>\n",
       "      <th>23</th>\n",
       "      <th>24</th>\n",
       "      <th>25</th>\n",
       "      <th>26</th>\n",
       "      <th>27</th>\n",
       "      <th>28</th>\n",
       "      <th>29</th>\n",
       "      <th>30</th>\n",
       "      <th>31</th>\n",
       "      <th>32</th>\n",
       "    </tr>\n",
       "    <tr>\n",
       "      <th>customer_name</th>\n",
       "      <th></th>\n",
       "      <th></th>\n",
       "      <th></th>\n",
       "      <th></th>\n",
       "      <th></th>\n",
       "      <th></th>\n",
       "      <th></th>\n",
       "      <th></th>\n",
       "      <th></th>\n",
       "      <th></th>\n",
       "      <th></th>\n",
       "      <th></th>\n",
       "      <th></th>\n",
       "      <th></th>\n",
       "      <th></th>\n",
       "      <th></th>\n",
       "      <th></th>\n",
       "      <th></th>\n",
       "      <th></th>\n",
       "      <th></th>\n",
       "      <th></th>\n",
       "    </tr>\n",
       "  </thead>\n",
       "  <tbody>\n",
       "    <tr>\n",
       "      <th>Adams</th>\n",
       "      <td>0</td>\n",
       "      <td>0</td>\n",
       "      <td>0</td>\n",
       "      <td>0</td>\n",
       "      <td>0</td>\n",
       "      <td>0</td>\n",
       "      <td>0</td>\n",
       "      <td>0</td>\n",
       "      <td>0</td>\n",
       "      <td>0</td>\n",
       "      <td>...</td>\n",
       "      <td>0</td>\n",
       "      <td>0</td>\n",
       "      <td>0</td>\n",
       "      <td>0</td>\n",
       "      <td>0</td>\n",
       "      <td>0</td>\n",
       "      <td>1</td>\n",
       "      <td>1</td>\n",
       "      <td>0</td>\n",
       "      <td>0</td>\n",
       "    </tr>\n",
       "    <tr>\n",
       "      <th>Allen</th>\n",
       "      <td>0</td>\n",
       "      <td>0</td>\n",
       "      <td>0</td>\n",
       "      <td>0</td>\n",
       "      <td>0</td>\n",
       "      <td>0</td>\n",
       "      <td>0</td>\n",
       "      <td>0</td>\n",
       "      <td>1</td>\n",
       "      <td>0</td>\n",
       "      <td>...</td>\n",
       "      <td>0</td>\n",
       "      <td>0</td>\n",
       "      <td>0</td>\n",
       "      <td>0</td>\n",
       "      <td>1</td>\n",
       "      <td>0</td>\n",
       "      <td>0</td>\n",
       "      <td>0</td>\n",
       "      <td>0</td>\n",
       "      <td>0</td>\n",
       "    </tr>\n",
       "    <tr>\n",
       "      <th>Anderson</th>\n",
       "      <td>0</td>\n",
       "      <td>0</td>\n",
       "      <td>0</td>\n",
       "      <td>0</td>\n",
       "      <td>0</td>\n",
       "      <td>0</td>\n",
       "      <td>0</td>\n",
       "      <td>0</td>\n",
       "      <td>0</td>\n",
       "      <td>0</td>\n",
       "      <td>...</td>\n",
       "      <td>0</td>\n",
       "      <td>1</td>\n",
       "      <td>0</td>\n",
       "      <td>1</td>\n",
       "      <td>0</td>\n",
       "      <td>0</td>\n",
       "      <td>0</td>\n",
       "      <td>0</td>\n",
       "      <td>0</td>\n",
       "      <td>0</td>\n",
       "    </tr>\n",
       "    <tr>\n",
       "      <th>Bailey</th>\n",
       "      <td>0</td>\n",
       "      <td>0</td>\n",
       "      <td>0</td>\n",
       "      <td>0</td>\n",
       "      <td>0</td>\n",
       "      <td>0</td>\n",
       "      <td>1</td>\n",
       "      <td>0</td>\n",
       "      <td>0</td>\n",
       "      <td>0</td>\n",
       "      <td>...</td>\n",
       "      <td>0</td>\n",
       "      <td>0</td>\n",
       "      <td>0</td>\n",
       "      <td>0</td>\n",
       "      <td>0</td>\n",
       "      <td>0</td>\n",
       "      <td>0</td>\n",
       "      <td>1</td>\n",
       "      <td>0</td>\n",
       "      <td>0</td>\n",
       "    </tr>\n",
       "    <tr>\n",
       "      <th>Baker</th>\n",
       "      <td>0</td>\n",
       "      <td>0</td>\n",
       "      <td>0</td>\n",
       "      <td>0</td>\n",
       "      <td>0</td>\n",
       "      <td>0</td>\n",
       "      <td>1</td>\n",
       "      <td>0</td>\n",
       "      <td>0</td>\n",
       "      <td>1</td>\n",
       "      <td>...</td>\n",
       "      <td>0</td>\n",
       "      <td>0</td>\n",
       "      <td>0</td>\n",
       "      <td>0</td>\n",
       "      <td>0</td>\n",
       "      <td>0</td>\n",
       "      <td>0</td>\n",
       "      <td>0</td>\n",
       "      <td>1</td>\n",
       "      <td>0</td>\n",
       "    </tr>\n",
       "    <tr>\n",
       "      <th>...</th>\n",
       "      <td>...</td>\n",
       "      <td>...</td>\n",
       "      <td>...</td>\n",
       "      <td>...</td>\n",
       "      <td>...</td>\n",
       "      <td>...</td>\n",
       "      <td>...</td>\n",
       "      <td>...</td>\n",
       "      <td>...</td>\n",
       "      <td>...</td>\n",
       "      <td>...</td>\n",
       "      <td>...</td>\n",
       "      <td>...</td>\n",
       "      <td>...</td>\n",
       "      <td>...</td>\n",
       "      <td>...</td>\n",
       "      <td>...</td>\n",
       "      <td>...</td>\n",
       "      <td>...</td>\n",
       "      <td>...</td>\n",
       "      <td>...</td>\n",
       "    </tr>\n",
       "    <tr>\n",
       "      <th>Williams</th>\n",
       "      <td>0</td>\n",
       "      <td>0</td>\n",
       "      <td>0</td>\n",
       "      <td>0</td>\n",
       "      <td>0</td>\n",
       "      <td>0</td>\n",
       "      <td>0</td>\n",
       "      <td>0</td>\n",
       "      <td>0</td>\n",
       "      <td>0</td>\n",
       "      <td>...</td>\n",
       "      <td>0</td>\n",
       "      <td>0</td>\n",
       "      <td>0</td>\n",
       "      <td>0</td>\n",
       "      <td>0</td>\n",
       "      <td>0</td>\n",
       "      <td>0</td>\n",
       "      <td>0</td>\n",
       "      <td>1</td>\n",
       "      <td>0</td>\n",
       "    </tr>\n",
       "    <tr>\n",
       "      <th>Wilson</th>\n",
       "      <td>0</td>\n",
       "      <td>0</td>\n",
       "      <td>0</td>\n",
       "      <td>0</td>\n",
       "      <td>0</td>\n",
       "      <td>0</td>\n",
       "      <td>0</td>\n",
       "      <td>1</td>\n",
       "      <td>0</td>\n",
       "      <td>0</td>\n",
       "      <td>...</td>\n",
       "      <td>0</td>\n",
       "      <td>0</td>\n",
       "      <td>0</td>\n",
       "      <td>0</td>\n",
       "      <td>0</td>\n",
       "      <td>0</td>\n",
       "      <td>0</td>\n",
       "      <td>1</td>\n",
       "      <td>0</td>\n",
       "      <td>0</td>\n",
       "    </tr>\n",
       "    <tr>\n",
       "      <th>Wood</th>\n",
       "      <td>1</td>\n",
       "      <td>0</td>\n",
       "      <td>0</td>\n",
       "      <td>0</td>\n",
       "      <td>0</td>\n",
       "      <td>0</td>\n",
       "      <td>0</td>\n",
       "      <td>0</td>\n",
       "      <td>0</td>\n",
       "      <td>1</td>\n",
       "      <td>...</td>\n",
       "      <td>0</td>\n",
       "      <td>0</td>\n",
       "      <td>0</td>\n",
       "      <td>0</td>\n",
       "      <td>0</td>\n",
       "      <td>0</td>\n",
       "      <td>0</td>\n",
       "      <td>0</td>\n",
       "      <td>1</td>\n",
       "      <td>0</td>\n",
       "    </tr>\n",
       "    <tr>\n",
       "      <th>Wright</th>\n",
       "      <td>0</td>\n",
       "      <td>0</td>\n",
       "      <td>0</td>\n",
       "      <td>1</td>\n",
       "      <td>0</td>\n",
       "      <td>1</td>\n",
       "      <td>0</td>\n",
       "      <td>0</td>\n",
       "      <td>0</td>\n",
       "      <td>0</td>\n",
       "      <td>...</td>\n",
       "      <td>0</td>\n",
       "      <td>0</td>\n",
       "      <td>0</td>\n",
       "      <td>0</td>\n",
       "      <td>1</td>\n",
       "      <td>0</td>\n",
       "      <td>0</td>\n",
       "      <td>0</td>\n",
       "      <td>0</td>\n",
       "      <td>0</td>\n",
       "    </tr>\n",
       "    <tr>\n",
       "      <th>Young</th>\n",
       "      <td>0</td>\n",
       "      <td>0</td>\n",
       "      <td>0</td>\n",
       "      <td>0</td>\n",
       "      <td>0</td>\n",
       "      <td>1</td>\n",
       "      <td>0</td>\n",
       "      <td>0</td>\n",
       "      <td>1</td>\n",
       "      <td>0</td>\n",
       "      <td>...</td>\n",
       "      <td>0</td>\n",
       "      <td>0</td>\n",
       "      <td>0</td>\n",
       "      <td>0</td>\n",
       "      <td>0</td>\n",
       "      <td>0</td>\n",
       "      <td>0</td>\n",
       "      <td>0</td>\n",
       "      <td>1</td>\n",
       "      <td>1</td>\n",
       "    </tr>\n",
       "  </tbody>\n",
       "</table>\n",
       "<p>100 rows × 32 columns</p>\n",
       "</div>"
      ],
      "text/plain": [
       "offer_id       1   2   3   4   5   6   7   8   9   10  ...  23  24  25  26  \\\n",
       "customer_name                                          ...                   \n",
       "Adams           0   0   0   0   0   0   0   0   0   0  ...   0   0   0   0   \n",
       "Allen           0   0   0   0   0   0   0   0   1   0  ...   0   0   0   0   \n",
       "Anderson        0   0   0   0   0   0   0   0   0   0  ...   0   1   0   1   \n",
       "Bailey          0   0   0   0   0   0   1   0   0   0  ...   0   0   0   0   \n",
       "Baker           0   0   0   0   0   0   1   0   0   1  ...   0   0   0   0   \n",
       "...            ..  ..  ..  ..  ..  ..  ..  ..  ..  ..  ...  ..  ..  ..  ..   \n",
       "Williams        0   0   0   0   0   0   0   0   0   0  ...   0   0   0   0   \n",
       "Wilson          0   0   0   0   0   0   0   1   0   0  ...   0   0   0   0   \n",
       "Wood            1   0   0   0   0   0   0   0   0   1  ...   0   0   0   0   \n",
       "Wright          0   0   0   1   0   1   0   0   0   0  ...   0   0   0   0   \n",
       "Young           0   0   0   0   0   1   0   0   1   0  ...   0   0   0   0   \n",
       "\n",
       "offer_id       27  28  29  30  31  32  \n",
       "customer_name                          \n",
       "Adams           0   0   1   1   0   0  \n",
       "Allen           1   0   0   0   0   0  \n",
       "Anderson        0   0   0   0   0   0  \n",
       "Bailey          0   0   0   1   0   0  \n",
       "Baker           0   0   0   0   1   0  \n",
       "...            ..  ..  ..  ..  ..  ..  \n",
       "Williams        0   0   0   0   1   0  \n",
       "Wilson          0   0   0   1   0   0  \n",
       "Wood            0   0   0   0   1   0  \n",
       "Wright          1   0   0   0   0   0  \n",
       "Young           0   0   0   0   1   1  \n",
       "\n",
       "[100 rows x 32 columns]"
      ]
     },
     "execution_count": 5,
     "metadata": {},
     "output_type": "execute_result"
    }
   ],
   "source": [
    "#your turn\n",
    "df_responded = pd.DataFrame.merge(df_transactions, df_offers)\n",
    "df_responded_pivot = df_responded.pivot_table(values=\"n\", index=\"customer_name\", columns=\"offer_id\", fill_value=0)\n",
    "df_responded_pivot"
   ]
  },
  {
   "cell_type": "markdown",
   "metadata": {
    "colab_type": "text",
    "id": "_XELvcC-ymX7"
   },
   "source": [
    "## 3. Modelling \n",
    "### 3a. K-Means Clustering\n",
    "\n",
    "Recall that in K-Means Clustering we want to *maximize* the distance between centroids and *minimize* the distance between data points and the respective centroid for the cluster they are in. True evaluation for unsupervised learning would require labeled data; however, we can use a variety of intuitive metrics to try to pick the number of clusters K. We will introduce two methods: the Elbow method, the Silhouette method and the gap statistic."
   ]
  },
  {
   "cell_type": "markdown",
   "metadata": {
    "colab_type": "text",
    "id": "B7lnwb9HymX8"
   },
   "source": [
    "#### 3ai. Choosing K: The Elbow Sum-of-Squares Method\n",
    "\n",
    "The first method looks at the sum-of-squares error in each cluster against $K$. We compute the distance from each data point to the center of the cluster (centroid) to which the data point was assigned. \n",
    "\n",
    "$$SS = \\sum_k \\sum_{x_i \\in C_k} \\sum_{x_j \\in C_k} \\left( x_i - x_j \\right)^2 = \\sum_k \\sum_{x_i \\in C_k} \\left( x_i - \\mu_k \\right)^2$$\n",
    "\n",
    "where $x_i$ is a point, $C_k$ represents cluster $k$ and $\\mu_k$ is the centroid for cluster $k$. We can plot SS vs. $K$ and choose the *elbow point* in the plot as the best value for $K$. The elbow point is the point at which the plot starts descending much more slowly. \n",
    "\n",
    "**Hint:** the Elbow Method is discussed in part 2 of the Harvard Clustering lecture. "
   ]
  },
  {
   "cell_type": "markdown",
   "metadata": {
    "colab_type": "text",
    "id": "o5T4iBfqymX-"
   },
   "source": [
    "<div class=\"span5 alert alert-info\">\n",
    "<h3>Checkup Exercise Set II</h3>\n",
    "\n",
    "<p><b>Exercise:</b></p> \n",
    "<ul>\n",
    "<li> What values of $SS$ do you believe represent better clusterings? Why?\n",
    "<li> Create a numpy matrix `x_cols` with only the columns representing the offers (i.e. the 0/1 colums) \n",
    "<li> Write code that applies the [`KMeans`](http://scikit-learn.org/stable/modules/generated/sklearn.cluster.KMeans.html) clustering method from scikit-learn to this matrix. \n",
    "<li> Construct a plot showing $SS$ for each $K$ and pick $K$ using this plot. For simplicity, test $2 \\le K \\le 10$.\n",
    "<li> Make a bar chart showing the number of points in each cluster for k-means under the best $K$.\n",
    "<li> What challenges did you experience using the Elbow method to pick $K$?\n",
    "</ul>\n",
    "</div>"
   ]
  },
  {
   "cell_type": "code",
   "execution_count": 6,
   "metadata": {
    "colab": {},
    "colab_type": "code",
    "id": "mG_tbcIdymX-"
   },
   "outputs": [
    {
     "data": {
      "image/png": "[encoded data removed]",
      "text/plain": [
       "<Figure size 720x576 with 1 Axes>"
      ]
     },
     "metadata": {},
     "output_type": "display_data"
    }
   ],
   "source": [
    "# your turn\n",
    "from sklearn.cluster import KMeans\n",
    "import numpy as np\n",
    "x_cols = df_responded_pivot.iloc[:,1:].values\n",
    "\n",
    "kr = range(2,11)\n",
    "inertias = []\n",
    "for k in kr:\n",
    "    model=KMeans(n_clusters=k)\n",
    "    model.fit(x_cols)\n",
    "    inertias.append(model.inertia_)\n",
    "\n",
    "plt.figure(figsize=(10,8))    \n",
    "plt.plot(kr, inertias)\n",
    "plt.title('K Clusters vs Inertia') \n",
    "plt.xlabel('number of clusters, k')\n",
    "plt.ylabel('inertia')\n",
    "plt.xticks(kr)\n",
    "plt.show()"
   ]
  },
  {
   "cell_type": "markdown",
   "metadata": {},
   "source": [
    "<font color='blue'>It is not simple to choose a value for k in this case because there is not a strong elbow.  My best guess at this point would be 3 because there is a slightly greater bend at that point.</font>"
   ]
  },
  {
   "cell_type": "markdown",
   "metadata": {
    "colab_type": "text",
    "id": "OM08MgqiymYB"
   },
   "source": [
    "#### 3aii. Choosing K: The Silhouette Method\n",
    "\n",
    "There exists another method that measures how well each datapoint $x_i$ \"fits\" its assigned cluster *and also* how poorly it fits into other clusters. This is a different way of looking at the same objective. Denote $a_{x_i}$ as the *average* distance from $x_i$ to all other points within its own cluster $k$. The lower the value, the better. On the other hand $b_{x_i}$ is the minimum average distance from $x_i$ to points in a different cluster, minimized over clusters. That is, compute separately for each cluster the average distance from $x_i$ to the points within that cluster, and then take the minimum. The silhouette $s(x_i)$ is defined as\n",
    "\n",
    "$$s(x_i) = \\frac{b_{x_i} - a_{x_i}}{\\max{\\left( a_{x_i}, b_{x_i}\\right)}}$$\n",
    "\n",
    "The silhouette score is computed on *every datapoint in every cluster*. The silhouette score ranges from -1 (a poor clustering) to +1 (a very dense clustering) with 0 denoting the situation where clusters overlap. Some criteria for the silhouette coefficient is provided in the table below."
   ]
  },
  {
   "cell_type": "markdown",
   "metadata": {
    "colab_type": "text",
    "id": "Prh3gX9NymYC"
   },
   "source": [
    "<pre>\n",
    "\n",
    "| Range       | Interpretation                                |\n",
    "|-------------|-----------------------------------------------|\n",
    "| 0.71 - 1.0  | A strong structure has been found.            |\n",
    "| 0.51 - 0.7  | A reasonable structure has been found.        |\n",
    "| 0.26 - 0.5  | The structure is weak and could be artificial.|\n",
    "| < 0.25      | No substantial structure has been found.      |\n",
    "\n",
    "</pre>\n",
    "Source: http://www.stat.berkeley.edu/~spector/s133/Clus.html"
   ]
  },
  {
   "cell_type": "markdown",
   "metadata": {
    "colab_type": "text",
    "id": "LFdwQkQGymYC"
   },
   "source": [
    "**Hint**: Scikit-learn provides a function to compute this for us (phew!) called [`sklearn.metrics.silhouette_score`](http://scikit-learn.org/stable/modules/generated/sklearn.metrics.silhouette_score.html). Take a look at [this article](http://scikit-learn.org/stable/auto_examples/cluster/plot_kmeans_silhouette_analysis.html) on picking $K$ in scikit-learn, as it will help you in the next exercise set."
   ]
  },
  {
   "cell_type": "markdown",
   "metadata": {
    "colab_type": "text",
    "id": "WQ1xRm9fymYD"
   },
   "source": [
    "<div class=\"span5 alert alert-info\">\n",
    "<h3>Checkup Exercise Set III</h3>\n",
    "\n",
    "<p><b>Exercise:</b> Using the documentation for the `silhouette_score` function above, construct a series of silhouette plots like the ones in the article linked above.</p>\n",
    "\n",
    "<p><b>Exercise:</b> Compute the average silhouette score for each $K$ and plot it. What $K$ does the plot suggest we should choose? Does it differ from what we found using the Elbow method?</p>\n",
    "</div>"
   ]
  },
  {
   "cell_type": "code",
   "execution_count": 7,
   "metadata": {
    "colab": {},
    "colab_type": "code",
    "id": "IZXVFtvXymYE"
   },
   "outputs": [
    {
     "name": "stdout",
     "output_type": "stream",
     "text": [
      "For number of clusters = 2 The average silhouette_score is : 0.09467039888175721\n",
      "For number of clusters = 3 The average silhouette_score is : 0.11916585417703293\n",
      "For number of clusters = 4 The average silhouette_score is : 0.13572256736187485\n",
      "For number of clusters = 5 The average silhouette_score is : 0.14373704530729803\n",
      "For number of clusters = 6 The average silhouette_score is : 0.14307701634605718\n",
      "For number of clusters = 7 The average silhouette_score is : 0.12466627806751378\n",
      "For number of clusters = 8 The average silhouette_score is : 0.12777720637934897\n",
      "For number of clusters = 9 The average silhouette_score is : 0.11798941453353123\n",
      "For number of clusters = 10 The average silhouette_score is : 0.14259293242666168\n"
     ]
    },
    {
     "data": {
      "image/png": "[encoded data removed]",
      "text/plain": [
       "<Figure size 1296x504 with 1 Axes>"
      ]
     },
     "metadata": {},
     "output_type": "display_data"
    },
    {
     "data": {
      "image/png": "[encoded data removed]",
      "text/plain": [
       "<Figure size 1296x504 with 1 Axes>"
      ]
     },
     "metadata": {},
     "output_type": "display_data"
    },
    {
     "data": {
      "image/png": "[encoded data removed]",
      "text/plain": [
       "<Figure size 1296x504 with 1 Axes>"
      ]
     },
     "metadata": {},
     "output_type": "display_data"
    },
    {
     "data": {
      "image/png": "[encoded data removed]",
      "text/plain": [
       "<Figure size 1296x504 with 1 Axes>"
      ]
     },
     "metadata": {},
     "output_type": "display_data"
    },
    {
     "data": {
      "image/png": "[encoded data removed]",
      "text/plain": [
       "<Figure size 1296x504 with 1 Axes>"
      ]
     },
     "metadata": {},
     "output_type": "display_data"
    },
    {
     "data": {
      "image/png": "[encoded data removed]",
      "text/plain": [
       "<Figure size 1296x504 with 1 Axes>"
      ]
     },
     "metadata": {},
     "output_type": "display_data"
    },
    {
     "data": {
      "image/png": "[encoded data removed]",
      "text/plain": [
       "<Figure size 1296x504 with 1 Axes>"
      ]
     },
     "metadata": {},
     "output_type": "display_data"
    },
    {
     "data": {
      "image/png": "[encoded data removed]",
      "text/plain": [
       "<Figure size 1296x504 with 1 Axes>"
      ]
     },
     "metadata": {},
     "output_type": "display_data"
    },
    {
     "data": {
      "image/png": "[encoded data removed]",
      "text/plain": [
       "<Figure size 1296x504 with 1 Axes>"
      ]
     },
     "metadata": {},
     "output_type": "display_data"
    }
   ],
   "source": [
    "# Your turn.\n",
    "#adapted from: https://scikit-learn.org/stable/auto_examples/cluster/plot_kmeans_silhouette_analysis.html\n",
    "\n",
    "from sklearn.datasets import make_blobs\n",
    "from sklearn.metrics import silhouette_samples, silhouette_score\n",
    "import matplotlib.cm as cm\n",
    "\n",
    "\n",
    "\n",
    "for k in kr:\n",
    "    # Create a subplot with 1 row and 1 column\n",
    "    fig, (ax1) = plt.subplots(1, 1)\n",
    "    fig.set_size_inches(18, 7)\n",
    "\n",
    "    # The 1st subplot is the silhouette plot\n",
    "    # The silhouette coefficient can range from -1, 1 *but we can show less than that*\n",
    "    ax1.set_xlim([-0.3, 1])\n",
    "    # The (n_clusters+1)*10 is for inserting blank space between silhouette\n",
    "    # plots of individual clusters, to demarcate them clearly.\n",
    "    ax1.set_ylim([0, len(x_cols) + (k + 1) * 10])\n",
    "\n",
    "    # Initialize the clusterer with n_clusters value and a random generator\n",
    "    # seed of 10 for reproducibility.\n",
    "    clusterer = KMeans(n_clusters=k, random_state=10)\n",
    "    cluster_labels = clusterer.fit_predict(x_cols)\n",
    "\n",
    "    # The silhouette_score gives the average value for all the samples.\n",
    "    # This gives a perspective into the density and separation of the formed\n",
    "    # clusters\n",
    "    silhouette_avg = silhouette_score(x_cols, cluster_labels)\n",
    "    \n",
    "    print(\"For number of clusters =\", k, \"The average silhouette_score is :\", silhouette_avg,)\n",
    "\n",
    "    # Compute the silhouette scores for each sample\n",
    "    sample_silhouette_values = silhouette_samples(x_cols, cluster_labels)\n",
    "\n",
    "    y_lower = 10\n",
    "    for i in range(k):\n",
    "        # Aggregate the silhouette scores for samples belonging to\n",
    "        # cluster i, and sort them\n",
    "        ith_cluster_silhouette_values = sample_silhouette_values[cluster_labels == i]\n",
    "\n",
    "        ith_cluster_silhouette_values.sort()\n",
    "\n",
    "        size_cluster_i = ith_cluster_silhouette_values.shape[0]\n",
    "        y_upper = y_lower + size_cluster_i\n",
    "\n",
    "        color = cm.nipy_spectral(float(i) / k)\n",
    "        ax1.fill_betweenx(\n",
    "            np.arange(y_lower, y_upper),\n",
    "            0,\n",
    "            ith_cluster_silhouette_values,\n",
    "            facecolor=color,\n",
    "            edgecolor=color,\n",
    "            alpha=0.7,\n",
    "        )\n",
    "\n",
    "        # Label the silhouette plots with their cluster numbers at the middle\n",
    "        ax1.text(-0.05, y_lower + 0.5 * size_cluster_i, str(i))\n",
    "\n",
    "        # Compute the new y_lower for next plot\n",
    "        y_lower = y_upper + 10  # 10 for the 0 samples\n",
    "\n",
    "    ax1.set_title(\"The silhouette plot for the various clusters.\")\n",
    "    ax1.set_xlabel(\"The silhouette coefficient values\")\n",
    "    ax1.set_ylabel(\"Cluster label\")\n",
    "\n",
    "    # The vertical line for average silhouette score of all the values\n",
    "    ax1.axvline(x=silhouette_avg, color=\"red\", linestyle=\"--\")\n",
    "\n",
    "    ax1.set_yticks([])  # Clear the yaxis labels / ticks\n",
    "    ax1.set_xticks([-0.2, -0.1, 0, 0.2, 0.4, 0.6, 0.8, 1.0])\n",
    "\n"
   ]
  },
  {
   "cell_type": "markdown",
   "metadata": {},
   "source": [
    "<font color='blue'>K values of 5, 6, and 10 have the highest average silhouette score but none of scores are statistically significant.  When we consider the modelding, we might look positively on k=3 or k=10 because the grouping are of similar size and the majority of the samples are above the decision boundry.  However, like we saw with k means, there isn't one clear decision for a value of k.</font>"
   ]
  },
  {
   "cell_type": "markdown",
   "metadata": {
    "colab_type": "text",
    "id": "Rol4xvqzymYH"
   },
   "source": [
    "#### 3aiii.  Choosing $K$: The Gap Statistic\n",
    "\n",
    "There is one last method worth covering for picking $K$, the so-called Gap statistic. The computation for the gap statistic builds on the sum-of-squares established in the Elbow method discussion, and compares it to the sum-of-squares of a \"null distribution,\" that is, a random set of points with no clustering. The estimate for the optimal number of clusters $K$ is the value for which $\\log{SS}$ falls the farthest below that of the reference distribution:\n",
    "\n",
    "$$G_k = E_n^*\\{\\log SS_k\\} - \\log SS_k$$\n",
    "\n",
    "In other words a good clustering yields a much larger difference between the reference distribution and the clustered data. The reference distribution is a Monte Carlo (randomization) procedure that constructs $B$ random distributions of points within the bounding box (limits) of the original data and then applies K-means to this synthetic distribution of data points.. $E_n^*\\{\\log SS_k\\}$ is just the average $SS_k$ over all $B$ replicates. We then compute the standard deviation $\\sigma_{SS}$ of the values of $SS_k$ computed from the $B$ replicates of the reference distribution and compute\n",
    "\n",
    "$$s_k = \\sqrt{1+1/B}\\sigma_{SS}$$\n",
    "\n",
    "Finally, we choose $K=k$ such that $G_k \\geq G_{k+1} - s_{k+1}$."
   ]
  },
  {
   "cell_type": "markdown",
   "metadata": {
    "colab_type": "text",
    "id": "_e6PSKcVymYI"
   },
   "source": [
    "#### Aside: Choosing $K$ when we Have Labels\n",
    "\n",
    "Unsupervised learning expects that we do not have the labels. In some situations, we may wish to cluster data that is labeled. Computing the optimal number of clusters is much easier if we have access to labels. There are several methods available. We will not go into the math or details since it is rare to have access to the labels, but we provide the names and references of these measures.\n",
    "\n",
    "* Adjusted Rand Index\n",
    "* Mutual Information\n",
    "* V-Measure\n",
    "* Fowlkes–Mallows index\n",
    "\n",
    "**Hint:** See [this article](http://scikit-learn.org/stable/modules/clustering.html) for more information about these metrics."
   ]
  },
  {
   "cell_type": "markdown",
   "metadata": {
    "colab_type": "text",
    "id": "eHsqcXTIymYI"
   },
   "source": [
    "### 3b. Visualizing Clusters using PCA\n",
    "\n",
    "How do we visualize clusters? If we only had two features, we could likely plot the data as is. But we have 100 data points each containing 32 features (dimensions). Principal Component Analysis (PCA) will help us reduce the dimensionality of our data from 32 to something lower. For a visualization on the coordinate plane, we will use 2 dimensions. In this exercise, we're going to use it to transform our multi-dimensional dataset into a 2 dimensional dataset.\n",
    "\n",
    "This is only one use of PCA for dimension reduction. We can also use PCA when we want to perform regression but we have a set of highly correlated variables. PCA untangles these correlations into a smaller number of features/predictors all of which are orthogonal (not correlated). PCA is also used to reduce a large set of variables into a much smaller one.\n",
    "\n",
    "**Hint:** PCA was discussed in the previous subunit. If you need help with it, consult [this useful article](https://towardsdatascience.com/a-one-stop-shop-for-principal-component-analysis-5582fb7e0a9c) and [this visual explanation](http://setosa.io/ev/principal-component-analysis/). "
   ]
  },
  {
   "cell_type": "markdown",
   "metadata": {
    "colab_type": "text",
    "id": "O2A8l0xOymYJ"
   },
   "source": [
    "<div class=\"span5 alert alert-info\">\n",
    "<h3>Checkup Exercise Set IV</h3>\n",
    "\n",
    "<p><b>Exercise:</b> Use PCA to plot your clusters:</p>\n",
    "\n",
    "<ul>\n",
    "<li> Use scikit-learn's [`PCA`](http://scikit-learn.org/stable/modules/generated/sklearn.decomposition.PCA.html) function to reduce the dimensionality of your clustering data to 2 components\n",
    "<li> Create a data frame with the following fields:\n",
    "  <ul>\n",
    "  <li> customer name\n",
    "  <li> cluster id the customer belongs to\n",
    "  <li> the two PCA components (label them `x` and `y`)\n",
    "  </ul>\n",
    "<li> Plot a scatterplot of the `x` vs `y` columns\n",
    "<li> Color-code points differently based on cluster ID\n",
    "<li> How do the clusters look? \n",
    "<li> Based on what you see, what seems to be the best value for $K$? Moreover, which method of choosing $K$ seems to have produced the optimal result visually?\n",
    "</ul>\n",
    "\n",
    "<p><b>Exercise:</b> Now look at both the original raw data about the offers and transactions and look at the fitted clusters. Tell a story about the clusters in context of the original data. For example, do the clusters correspond to wine variants or something else interesting?</p>\n",
    "</div>"
   ]
  },
  {
   "cell_type": "code",
   "execution_count": 8,
   "metadata": {
    "colab": {},
    "colab_type": "code",
    "id": "gPLWFI_symYK"
   },
   "outputs": [
    {
     "data": {
      "image/png": "[encoded data removed]",
      "text/plain": [
       "<Figure size 432x288 with 1 Axes>"
      ]
     },
     "metadata": {},
     "output_type": "display_data"
    },
    {
     "data": {
      "image/png": "[encoded data removed]",
      "text/plain": [
       "<Figure size 432x288 with 1 Axes>"
      ]
     },
     "metadata": {},
     "output_type": "display_data"
    },
    {
     "data": {
      "image/png": "[encoded data removed]",
      "text/plain": [
       "<Figure size 432x288 with 1 Axes>"
      ]
     },
     "metadata": {},
     "output_type": "display_data"
    }
   ],
   "source": [
    "#your turn\n",
    "\n",
    "#Use scikit-learn's PCA function to reduce the dimensionality of your clustering data to 2 components \n",
    "from sklearn.decomposition import PCA\n",
    "pca = PCA()\n",
    "pca_features = pca.fit_transform(x_cols)\n",
    "xs = pca_features[:,0]\n",
    "ys = pca_features[:,1]\n",
    "\n",
    "#Create a data frame with the following fields:\n",
    "#    customer name\n",
    "#    cluster id the customer belongs to\n",
    "#    the two PCA components (label them `x` and `y`) \n",
    " \n",
    "pcak3 = KMeans(n_clusters=3)\n",
    "clustersk3 = pcak3.fit_predict(x_cols)\n",
    "\n",
    "dfk3 = pd.DataFrame(list(zip(df_transactions['customer_name'], clustersk3, xs, ys)))\n",
    "dfk3.columns = ['customer_name', 'cluster id', 'x', 'y']\n",
    "\n",
    "#Plot a scatterplot of the `x` vs `y` columns \n",
    "#Color-code points differently based on cluster ID \n",
    "\n",
    "plt.scatter(dfk3['x'], dfk3['y'], c=dfk3['cluster id'])\n",
    "plt.show()\n",
    "\n",
    "#show k=5 for comparison\n",
    "\n",
    "pcak5 = KMeans(n_clusters=5)\n",
    "clustersk5 = pcak5.fit_predict(x_cols)\n",
    "\n",
    "dfk5 = pd.DataFrame(list(zip(df_transactions['customer_name'], clustersk5, xs, ys)))\n",
    "dfk5.columns = ['customer_name', 'cluster id', 'x', 'y']\n",
    "\n",
    "plt.scatter(dfk5['x'], dfk5['y'], c=dfk5['cluster id'])\n",
    "plt.show()\n",
    "\n",
    "\n",
    "#Show k=10 for comparison\n",
    "\n",
    "pcak10 = KMeans(n_clusters=10)\n",
    "clustersk10 = pcak10.fit_predict(x_cols)\n",
    "\n",
    "dfk10 = pd.DataFrame(list(zip(df_transactions['customer_name'], clustersk10, xs, ys)))\n",
    "dfk10.columns = ['customer_name', 'cluster id', 'x', 'y']\n",
    "\n",
    "plt.scatter(dfk10['x'], dfk10['y'], c=dfk10['cluster id'])\n",
    "plt.show()"
   ]
  },
  {
   "cell_type": "markdown",
   "metadata": {},
   "source": [
    "<font color='blue'> Based on the modeling above, I think 3 is the best value for k.  PCA provided the clearest visual answer.<font/>"
   ]
  },
  {
   "cell_type": "code",
   "execution_count": 9,
   "metadata": {},
   "outputs": [
    {
     "data": {
      "image/png": "[encoded data removed]",
      "text/plain": [
       "<Figure size 432x288 with 1 Axes>"
      ]
     },
     "metadata": {},
     "output_type": "display_data"
    },
    {
     "data": {
      "image/png": "[encoded data removed]",
      "text/plain": [
       "<Figure size 432x288 with 1 Axes>"
      ]
     },
     "metadata": {},
     "output_type": "display_data"
    },
    {
     "data": {
      "image/png": "[encoded data removed]",
      "text/plain": [
       "<Figure size 432x288 with 1 Axes>"
      ]
     },
     "metadata": {},
     "output_type": "display_data"
    }
   ],
   "source": [
    "#Exercise: Now look at both the original raw data about the offers and transactions \n",
    "#and look at the fitted clusters. \n",
    "\n",
    "\n",
    "#Modeling below adapted from Tier 1 version\n",
    "\n",
    "# Plot count of offer_id in each cluster.\n",
    "# But, certain offers were used more than others in the original data.\n",
    "# Let's compute the difference between how often they were used in each cluster vs globally.\n",
    "modelx = sklearn.cluster.KMeans(n_clusters=3)\n",
    "cluster_assignments = modelx.fit_predict(x_cols)\n",
    "\n",
    "colors = ['red', 'purple', 'orange']\n",
    "offer_proportions = df_responded_pivot.sum(axis=0) / 100  # There are 100 customers\n",
    "for i in range(3):\n",
    "    plt.figure(i)\n",
    "    cluster = df_responded_pivot[cluster_assignments == i]\n",
    "    offer_proportions_cluster = cluster.sum(axis=0) / cluster.shape[0]  # Number of customers in cluster\n",
    "    lift = offer_proportions_cluster - offer_proportions\n",
    "    plt.bar(range(1, 33), lift, color=colors[i])\n",
    "    \n"
   ]
  },
  {
   "cell_type": "markdown",
   "metadata": {},
   "source": [
    "#Tell a story about the clusters in context of the original data. \n",
    "#For example, do the clusters correspond to wine variants or something else interesting?\n",
    "\n",
    "<font color='blue'>There are a few offers which are strongly correlated with particular clusters and other offers which are not strongly correlated with any clusters.  You could use this information to make conclusions about which offers were effective for certain populations. For example, in red above, we see a strong correlation with offers 22 and 31, in purple we see a strong correlation with offers 29 and 30, and in orange we see a strong correlation with offers 24 and 26.</font>"
   ]
  },
  {
   "cell_type": "markdown",
   "metadata": {
    "colab_type": "text",
    "id": "ip7bNDsDymYM"
   },
   "source": [
    "What we've done is we've taken those columns of 0/1 indicator variables, and we've transformed them into a 2-D dataset. We took one column and arbitrarily called it `x` and then called the other `y`. Now we can throw each point into a scatterplot. We color coded each point based on it's cluster so it's easier to see them."
   ]
  },
  {
   "cell_type": "markdown",
   "metadata": {
    "colab_type": "text",
    "id": "30rRDyjzymYN"
   },
   "source": [
    "<div class=\"span5 alert alert-info\">\n",
    "<h3>Exercise Set V</h3>\n",
    "\n",
    "<p>As we saw earlier, PCA has a lot of other uses. Since we wanted to visualize our data in 2 dimensions, restricted the number of dimensions to 2 in PCA. But what is the true optimal number of dimensions?</p>\n",
    "\n",
    "<p><b>Exercise:</b> Using a new PCA object shown in the next cell, plot the `explained_variance_` field and look for the elbow point, the point where the curve's rate of descent seems to slow sharply. This value is one possible value for the optimal number of dimensions. What is it?</p>\n",
    "</div>"
   ]
  },
  {
   "cell_type": "code",
   "execution_count": 10,
   "metadata": {
    "colab": {},
    "colab_type": "code",
    "id": "GeC4yWmiymYO"
   },
   "outputs": [
    {
     "data": {
      "image/png": "[encoded data removed]",
      "text/plain": [
       "<Figure size 1008x576 with 1 Axes>"
      ]
     },
     "metadata": {},
     "output_type": "display_data"
    }
   ],
   "source": [
    "#your turn\n",
    "# Initialize a new PCA model with a default number of components.\n",
    "import sklearn.decomposition\n",
    "\n",
    "# Do the rest on your own :)\n",
    "\n",
    "#visualize the variances of the PCA features\n",
    "from sklearn.decomposition import PCA\n",
    "pca = PCA()\n",
    "pca.fit(x_cols)\n",
    "features = range(pca.n_components_)\n",
    "plt.figure(figsize=(14,8))\n",
    "plt.bar(features, pca.explained_variance_)\n",
    "plt.xticks(features)\n",
    "plt.ylabel('variance')\n",
    "plt.xlabel('PCA feature')\n",
    "plt.show()"
   ]
  },
  {
   "cell_type": "markdown",
   "metadata": {},
   "source": [
    "<font color='blue'> The modeling above shows a good value of k would be 3 because that is where the we see the curve's rate of descent slowing sharply.</font>"
   ]
  },
  {
   "cell_type": "markdown",
   "metadata": {
    "colab_type": "text",
    "id": "_a0Q7XtFymYR"
   },
   "source": [
    "## 4. Conclusions and next steps\n",
    "### 4a. Conclusions\n",
    "What can you conclude from your investigations? Make a note, formulate it as clearly as possible, and be prepared to discuss it with your mentor in your next call. "
   ]
  },
  {
   "cell_type": "markdown",
   "metadata": {},
   "source": [
    "<font color='blue'>For the investigation, we can conclude that the best value of k is probably 3.  We can also see correlation between some of the offers and each of the clusters.  This information could be used to more efficiently and effectviely distribute offers to particular subsets of customers.</font>"
   ]
  },
  {
   "cell_type": "markdown",
   "metadata": {
    "colab_type": "text",
    "id": "gyu7Drl4ymYR"
   },
   "source": [
    "### 4b. Other clustering algorithms\n",
    "\n",
    "k-means is only one of a ton of clustering algorithms. Below is a brief description of several clustering algorithms, and the table provides references to the other clustering algorithms in scikit-learn. \n",
    "\n",
    "* **Affinity Propagation** does not require the number of clusters $K$ to be known in advance! AP uses a \"message passing\" paradigm to cluster points based on their similarity. \n",
    "\n",
    "* **Spectral Clustering** uses the eigenvalues of a similarity matrix to reduce the dimensionality of the data before clustering in a lower dimensional space. This is tangentially similar to what we did to visualize k-means clusters using PCA. The number of clusters must be known a priori.\n",
    "\n",
    "* **Ward's Method** applies to hierarchical clustering. Hierarchical clustering algorithms take a set of data and successively divide the observations into more and more clusters at each layer of the hierarchy. Ward's method is used to determine when two clusters in the hierarchy should be combined into one. It is basically an extension of hierarchical clustering. Hierarchical clustering is *divisive*, that is, all observations are part of the same cluster at first, and at each successive iteration, the clusters are made smaller and smaller. With hierarchical clustering, a hierarchy is constructed, and there is not really the concept of \"number of clusters.\" The number of clusters simply determines how low or how high in the hierarchy we reference and can be determined empirically or by looking at the [dendogram](https://docs.scipy.org/doc/scipy-0.18.1/reference/generated/scipy.cluster.hierarchy.dendrogram.html).\n",
    "\n",
    "* **Agglomerative Clustering** is similar to hierarchical clustering but but is not divisive, it is *agglomerative*. That is, every observation is placed into its own cluster and at each iteration or level or the hierarchy, observations are merged into fewer and fewer clusters until convergence. Similar to hierarchical clustering, the constructed hierarchy contains all possible numbers of clusters and it is up to the analyst to pick the number by reviewing statistics or the dendogram.\n",
    "\n",
    "* **DBSCAN** is based on point density rather than distance. It groups together points with many nearby neighbors. DBSCAN is one of the most cited algorithms in the literature. It does not require knowing the number of clusters a priori, but does require specifying the neighborhood size."
   ]
  },
  {
   "cell_type": "markdown",
   "metadata": {
    "colab_type": "text",
    "id": "8tRpy3OaymYS"
   },
   "source": [
    "### Clustering Algorithms in Scikit-learn\n",
    "<table border=\"1\">\n",
    "<colgroup>\n",
    "<col width=\"15%\" />\n",
    "<col width=\"16%\" />\n",
    "<col width=\"20%\" />\n",
    "<col width=\"27%\" />\n",
    "<col width=\"22%\" />\n",
    "</colgroup>\n",
    "<thead valign=\"bottom\">\n",
    "<tr><th>Method name</th>\n",
    "<th>Parameters</th>\n",
    "<th>Scalability</th>\n",
    "<th>Use Case</th>\n",
    "<th>Geometry (metric used)</th>\n",
    "</tr>\n",
    "</thead>\n",
    "<tbody valign=\"top\">\n",
    "<tr><td>K-Means</span></a></td>\n",
    "<td>number of clusters</td>\n",
    "<td>Very large<span class=\"pre\">n_samples</span>, medium <span class=\"pre\">n_clusters</span> with\n",
    "MiniBatch code</td>\n",
    "<td>General-purpose, even cluster size, flat geometry, not too many clusters</td>\n",
    "<td>Distances between points</td>\n",
    "</tr>\n",
    "<tr><td>Affinity propagation</td>\n",
    "<td>damping, sample preference</td>\n",
    "<td>Not scalable with n_samples</td>\n",
    "<td>Many clusters, uneven cluster size, non-flat geometry</td>\n",
    "<td>Graph distance (e.g. nearest-neighbor graph)</td>\n",
    "</tr>\n",
    "<tr><td>Mean-shift</td>\n",
    "<td>bandwidth</td>\n",
    "<td>Not scalable with <span class=\"pre\">n_samples</span></td>\n",
    "<td>Many clusters, uneven cluster size, non-flat geometry</td>\n",
    "<td>Distances between points</td>\n",
    "</tr>\n",
    "<tr><td>Spectral clustering</td>\n",
    "<td>number of clusters</td>\n",
    "<td>Medium <span class=\"pre\">n_samples</span>, small <span class=\"pre\">n_clusters</span></td>\n",
    "<td>Few clusters, even cluster size, non-flat geometry</td>\n",
    "<td>Graph distance (e.g. nearest-neighbor graph)</td>\n",
    "</tr>\n",
    "<tr><td>Ward hierarchical clustering</td>\n",
    "<td>number of clusters</td>\n",
    "<td>Large <span class=\"pre\">n_samples</span> and <span class=\"pre\">n_clusters</span></td>\n",
    "<td>Many clusters, possibly connectivity constraints</td>\n",
    "<td>Distances between points</td>\n",
    "</tr>\n",
    "<tr><td>Agglomerative clustering</td>\n",
    "<td>number of clusters, linkage type, distance</td>\n",
    "<td>Large <span class=\"pre\">n_samples</span> and <span class=\"pre\">n_clusters</span></td>\n",
    "<td>Many clusters, possibly connectivity constraints, non Euclidean\n",
    "distances</td>\n",
    "<td>Any pairwise distance</td>\n",
    "</tr>\n",
    "<tr><td>DBSCAN</td>\n",
    "<td>neighborhood size</td>\n",
    "<td>Very large <span class=\"pre\">n_samples</span>, medium <span class=\"pre\">n_clusters</span></td>\n",
    "<td>Non-flat geometry, uneven cluster sizes</td>\n",
    "<td>Distances between nearest points</td>\n",
    "</tr>\n",
    "<tr><td>Gaussian mixtures</td>\n",
    "<td>many</td>\n",
    "<td>Not scalable</td>\n",
    "<td>Flat geometry, good for density estimation</td>\n",
    "<td>Mahalanobis distances to  centers</td>\n",
    "</tr>\n",
    "<tr><td>Birch</td>\n",
    "<td>branching factor, threshold, optional global clusterer.</td>\n",
    "<td>Large <span class=\"pre\">n_clusters</span> and <span class=\"pre\">n_samples</span></td>\n",
    "<td>Large dataset, outlier removal, data reduction.</td>\n",
    "<td>Euclidean distance between points</td>\n",
    "</tr>\n",
    "</tbody>\n",
    "</table>\n",
    "Source: http://scikit-learn.org/stable/modules/clustering.html"
   ]
  },
  {
   "cell_type": "markdown",
   "metadata": {
    "colab_type": "text",
    "id": "-vRkKRGGymYT"
   },
   "source": [
    "<div class=\"span5 alert alert-info\">\n",
    "<h3>Exercise Set VI</h3>\n",
    "\n",
    "<p><b>Exercise:</b> Try clustering using the following algorithms. </p>\n",
    "<ol>\n",
    "<li>Affinity propagation\n",
    "<li>Spectral clustering\n",
    "<li>Agglomerative clustering\n",
    "<li>DBSCAN\n",
    "</ol>\n",
    "<p>How do their results compare? Which performs the best? Tell a story why you think it performs the best.</p>\n",
    "</div>\n"
   ]
  },
  {
   "cell_type": "code",
   "execution_count": 13,
   "metadata": {},
   "outputs": [
    {
     "data": {
      "application/vnd.plotly.v1+json": {
       "config": {
        "plotlyServerURL": "https://plot.ly"
       },
       "data": [
        {
         "hovertemplate": "PC1=%{x}<br>PC2=%{y}<br>PC3=%{z}<br>color=%{marker.color}<extra></extra>",
         "legendgroup": "",
         "marker": {
          "color": [
           1,
           0,
           2,
           1,
           0,
           0,
           2,
           1,
           0,
           1,
           0,
           2,
           1,
           0,
           0,
           2,
           0,
           2,
           1,
           0,
           1,
           1,
           0,
           0,
           2,
           0,
           0,
           0,
           0,
           2,
           1,
           1,
           0,
           0,
           1,
           1,
           0,
           1,
           0,
           1,
           2,
           2,
           1,
           0,
           1,
           0,
           1,
           1,
           0,
           0,
           0,
           0,
           0,
           2,
           0,
           1,
           2,
           1,
           1,
           0,
           0,
           1,
           0,
           1,
           1,
           2,
           2,
           0,
           0,
           0,
           0,
           0,
           0,
           1,
           0,
           1,
           2,
           1,
           1,
           2,
           0,
           0,
           0,
           2,
           1,
           1,
           1,
           0,
           0,
           1,
           0,
           1,
           0,
           1,
           0,
           0,
           1,
           0,
           0,
           0
          ],
          "coloraxis": "coloraxis",
          "symbol": "circle"
         },
         "mode": "markers",
         "name": "",
         "scene": "scene",
         "showlegend": false,
         "type": "scatter3d",
         "x": [
          1.0149083392966256,
          -0.3130428010587717,
          -0.45146178939282683,
          0.7005507580900646,
          0.07257440058436636,
          -0.4882325056578478,
          -0.6568893465727057,
          0.6415282147133622,
          -0.1179576912111683,
          1.0873935168900546,
          -0.05146086994807354,
          -0.5740836157485354,
          1.2723421394364716,
          -0.575252193452425,
          0.20463061484303552,
          -0.451461789392827,
          -0.43765090726748845,
          -0.656889346572705,
          0.7398744951826123,
          -0.3628767305235811,
          1.4224486984594111,
          0.1514753767384692,
          -0.38681689153707915,
          -0.29715821895457295,
          -0.3031208959842476,
          -0.6123239093830027,
          -0.31929178214860904,
          -0.43052698100335873,
          -0.3550585485162153,
          -0.37575989033270984,
          0.2671492960514589,
          0.3244724043164433,
          -0.43200793390176206,
          -0.3689843727417128,
          0.27576893904064576,
          1.148069384612407,
          -0.46098242377386955,
          1.6073973210058283,
          -0.6682363416338494,
          1.4955884063198501,
          -0.451461789392827,
          -0.5342675202169963,
          0.25468545591337344,
          -0.5345727099403836,
          1.1139745215118753,
          -0.7358897080705509,
          1.0356059396594217,
          0.198413913595318,
          -0.6103195545466079,
          -0.3820967676546399,
          -0.19034373792075016,
          -0.9469402168747866,
          -0.20299155201169208,
          -0.3031208959842476,
          0.09460648689134596,
          0.6415282147133625,
          -0.5342675202169963,
          0.23817480617935138,
          0.6280655804966342,
          -0.08209673511888334,
          -0.22721417754569806,
          0.25468545591337344,
          -0.1162819709289515,
          0.6280655804966342,
          1.3499635208659804,
          -0.6590173246734197,
          -0.3031208959842476,
          -0.14654105051657978,
          0.004568823044083487,
          -0.20983272188386706,
          -0.27185652563282703,
          -0.2837713475605639,
          -0.46212820337450117,
          0.5421831401654698,
          -0.2255955522883314,
          0.6539920548514482,
          -0.43413817624444095,
          0.3646744036925476,
          0.18299469537208118,
          -0.311516349888732,
          -1.084257248798442,
          -1.1277741037899585,
          -0.4371402785824909,
          -0.342936991515787,
          1.0749296767519692,
          0.7146679225738009,
          1.3624273610040651,
          -0.8852473682935964,
          0.13800426129357,
          0.25468545591337344,
          -0.6568735091179451,
          0.5815068772580168,
          -0.2509211511771291,
          0.6539920548514482,
          -0.025816253729114436,
          -0.15379879488051196,
          0.6880869179519798,
          -0.39864147098195646,
          -0.5233171055715434,
          -0.8870203689216862
         ],
         "y": [
          0.1577644064878873,
          0.019267901261709453,
          1.0081137570644738,
          0.006002383752602541,
          -0.4943517103835355,
          -0.7611759531438241,
          1.477536728450557,
          0.10147699258114266,
          -0.5915469879012744,
          0.03996909577661817,
          -0.5216886837905665,
          1.2085982537601738,
          0.04221354848981329,
          -0.44149042331685484,
          0.034460428911103666,
          1.008113757064473,
          -0.0812823985779111,
          1.4775367284505563,
          0.15550539844777259,
          -0.29122225246645017,
          -0.06774760176049505,
          -0.037543704713095864,
          -0.378549057605865,
          -0.5814915488340242,
          0.8795931193514881,
          -0.4561935860435776,
          -0.013632694635634487,
          -0.03285759021958937,
          -0.2108119375820624,
          0.5813805643833144,
          0.059690675423084226,
          -0.3024841771349627,
          -0.3605733298482958,
          -1.067115058385582,
          0.17661309022130384,
          0.018325449639957893,
          -0.3565377101250818,
          -0.06550314904729866,
          -0.25973589455053686,
          -0.09721085303119768,
          1.0081137570644734,
          1.2770522317548552,
          0.06751028055712814,
          -0.5413752980972327,
          0.09816084820041057,
          -0.9459556791395503,
          -0.10171431378450942,
          -0.15359480969466377,
          -0.16279856348639332,
          0.25605261738033464,
          0.1249191980664801,
          -1.2123228457254138,
          0.37571147478994016,
          0.8795931193514881,
          -1.242986874878973,
          0.10147699258114276,
          1.2770522317548552,
          0.06372629514629834,
          0.12379769446387366,
          -0.5528052239602276,
          -0.28878688311049855,
          0.06751028055712814,
          -0.24968118880918566,
          0.12379769446387366,
          0.050047708950776565,
          0.535507266507506,
          0.8795931193514881,
          0.1722063736430748,
          -0.6623171881201189,
          0.12432188653193336,
          0.08299376231114149,
          0.0817410757182372,
          -0.6789769739818338,
          0.061949683463199894,
          -0.1599068460197561,
          0.0936573874470989,
          0.7731705871933073,
          -0.8114036022428254,
          0.11496745404204858,
          0.5726860904976069,
          -0.2711626084640894,
          -0.07555197536364382,
          -0.23879138518171508,
          0.8111391413568064,
          0.04778870091066093,
          0.07201374131043972,
          0.0422281038167327,
          0.18356541020321976,
          0.05352964916992127,
          0.06751028055712814,
          -0.7091104923077988,
          0.21145269815837006,
          0.013302258206746884,
          0.0936573874470989,
          -0.4381587751920797,
          -0.6063698884095213,
          0.01382198888664633,
          -0.33914798195357015,
          -0.43649520028610955,
          -1.0993278500240786
         ],
         "z": [
          -0.520467926686968,
          -0.12652132712289557,
          0.28101904183476245,
          -0.05644189483094558,
          0.8359163381037934,
          0.476577970194797,
          0.4248229145627804,
          0.08923143306461133,
          0.01325008975439689,
          -0.20652610165098642,
          -0.5453094586272011,
          0.27408699097096056,
          -0.19040895138279318,
          -0.5777455821592077,
          -0.8002907841007966,
          0.2810190418347623,
          -0.5023256212769788,
          0.42482291456278004,
          -0.5032729076326224,
          -0.2157229972951423,
          0.029965855972844707,
          0.34368965820480346,
          0.16254683694809105,
          -0.8152221872264273,
          0.37516661651741934,
          -0.2108435266257632,
          -0.13501212200379967,
          -0.9220030456215491,
          -0.1168926323931191,
          -0.17178975119387876,
          0.2995704882424566,
          0.6317754617756468,
          -0.38892926466027533,
          0.8263038616689081,
          -0.3246117262380942,
          -0.11777461197490087,
          -0.4439017019839333,
          0.04608300624103846,
          -0.46452589856542964,
          0.1789721940067347,
          0.2810190418347624,
          0.43175496542658204,
          0.23931563988465282,
          0.07024543700400525,
          0.14840841263626411,
          0.47033584892405406,
          0.18005006279288607,
          0.6626924182906491,
          -0.8185173384926676,
          -0.6285616535700705,
          -0.44842333534113515,
          0.47786847203201654,
          -0.004108368602980793,
          0.37516661651741934,
          1.1425432065253804,
          0.08923143306461155,
          0.43175496542658204,
          0.24459805091879896,
          -0.3703837198669265,
          0.4488870572225543,
          0.341734998864806,
          0.23931563988465282,
          -0.8440540004098899,
          -0.3703837198669265,
          -0.283975969063136,
          0.3881624355571157,
          0.37516661651741934,
          -0.08009698707669632,
          -0.18383685139553552,
          -0.23089534544304544,
          -0.14926820829996487,
          -0.19702144176961392,
          0.4360805231067688,
          0.2823754691881116,
          0.11682639531074722,
          0.14948628142241527,
          0.05247998030618198,
          1.0889754878378863,
          0.09259656846605475,
          0.05941203116998368,
          -0.3635787591400758,
          -0.9686162731460941,
          0.17974667239897152,
          0.21749864206179786,
          -0.2667809500087907,
          0.23823777109850136,
          -0.22372112070533198,
          -0.7606989935482324,
          -0.9820604521560773,
          0.23931563988465282,
          0.36330202881602036,
          -0.16445554361356546,
          -0.0672950102420444,
          0.14948628142241527,
          -0.5859341642681556,
          0.15498051262352142,
          -0.11669674318874944,
          0.24508970734483027,
          0.3562672210256728,
          0.010675723198081237
         ]
        }
       ],
       "layout": {
        "coloraxis": {
         "colorbar": {
          "title": {
           "text": "color"
          }
         },
         "colorscale": [
          [
           0,
           "#0d0887"
          ],
          [
           0.1111111111111111,
           "#46039f"
          ],
          [
           0.2222222222222222,
           "#7201a8"
          ],
          [
           0.3333333333333333,
           "#9c179e"
          ],
          [
           0.4444444444444444,
           "#bd3786"
          ],
          [
           0.5555555555555556,
           "#d8576b"
          ],
          [
           0.6666666666666666,
           "#ed7953"
          ],
          [
           0.7777777777777778,
           "#fb9f3a"
          ],
          [
           0.8888888888888888,
           "#fdca26"
          ],
          [
           1,
           "#f0f921"
          ]
         ]
        },
        "legend": {
         "tracegroupgap": 0
        },
        "scene": {
         "domain": {
          "x": [
           0,
           1
          ],
          "y": [
           0,
           1
          ]
         },
         "xaxis": {
          "title": {
           "text": "PC1"
          }
         },
         "yaxis": {
          "title": {
           "text": "PC2"
          }
         },
         "zaxis": {
          "title": {
           "text": "PC3"
          }
         }
        },
        "template": {
         "data": {
          "bar": [
           {
            "error_x": {
             "color": "#2a3f5f"
            },
            "error_y": {
             "color": "#2a3f5f"
            },
            "marker": {
             "line": {
              "color": "#E5ECF6",
              "width": 0.5
             },
             "pattern": {
              "fillmode": "overlay",
              "size": 10,
              "solidity": 0.2
             }
            },
            "type": "bar"
           }
          ],
          "barpolar": [
           {
            "marker": {
             "line": {
              "color": "#E5ECF6",
              "width": 0.5
             },
             "pattern": {
              "fillmode": "overlay",
              "size": 10,
              "solidity": 0.2
             }
            },
            "type": "barpolar"
           }
          ],
          "carpet": [
           {
            "aaxis": {
             "endlinecolor": "#2a3f5f",
             "gridcolor": "white",
             "linecolor": "white",
             "minorgridcolor": "white",
             "startlinecolor": "#2a3f5f"
            },
            "baxis": {
             "endlinecolor": "#2a3f5f",
             "gridcolor": "white",
             "linecolor": "white",
             "minorgridcolor": "white",
             "startlinecolor": "#2a3f5f"
            },
            "type": "carpet"
           }
          ],
          "choropleth": [
           {
            "colorbar": {
             "outlinewidth": 0,
             "ticks": ""
            },
            "type": "choropleth"
           }
          ],
          "contour": [
           {
            "colorbar": {
             "outlinewidth": 0,
             "ticks": ""
            },
            "colorscale": [
             [
              0,
              "#0d0887"
             ],
             [
              0.1111111111111111,
              "#46039f"
             ],
             [
              0.2222222222222222,
              "#7201a8"
             ],
             [
              0.3333333333333333,
              "#9c179e"
             ],
             [
              0.4444444444444444,
              "#bd3786"
             ],
             [
              0.5555555555555556,
              "#d8576b"
             ],
             [
              0.6666666666666666,
              "#ed7953"
             ],
             [
              0.7777777777777778,
              "#fb9f3a"
             ],
             [
              0.8888888888888888,
              "#fdca26"
             ],
             [
              1,
              "#f0f921"
             ]
            ],
            "type": "contour"
           }
          ],
          "contourcarpet": [
           {
            "colorbar": {
             "outlinewidth": 0,
             "ticks": ""
            },
            "type": "contourcarpet"
           }
          ],
          "heatmap": [
           {
            "colorbar": {
             "outlinewidth": 0,
             "ticks": ""
            },
            "colorscale": [
             [
              0,
              "#0d0887"
             ],
             [
              0.1111111111111111,
              "#46039f"
             ],
             [
              0.2222222222222222,
              "#7201a8"
             ],
             [
              0.3333333333333333,
              "#9c179e"
             ],
             [
              0.4444444444444444,
              "#bd3786"
             ],
             [
              0.5555555555555556,
              "#d8576b"
             ],
             [
              0.6666666666666666,
              "#ed7953"
             ],
             [
              0.7777777777777778,
              "#fb9f3a"
             ],
             [
              0.8888888888888888,
              "#fdca26"
             ],
             [
              1,
              "#f0f921"
             ]
            ],
            "type": "heatmap"
           }
          ],
          "heatmapgl": [
           {
            "colorbar": {
             "outlinewidth": 0,
             "ticks": ""
            },
            "colorscale": [
             [
              0,
              "#0d0887"
             ],
             [
              0.1111111111111111,
              "#46039f"
             ],
             [
              0.2222222222222222,
              "#7201a8"
             ],
             [
              0.3333333333333333,
              "#9c179e"
             ],
             [
              0.4444444444444444,
              "#bd3786"
             ],
             [
              0.5555555555555556,
              "#d8576b"
             ],
             [
              0.6666666666666666,
              "#ed7953"
             ],
             [
              0.7777777777777778,
              "#fb9f3a"
             ],
             [
              0.8888888888888888,
              "#fdca26"
             ],
             [
              1,
              "#f0f921"
             ]
            ],
            "type": "heatmapgl"
           }
          ],
          "histogram": [
           {
            "marker": {
             "pattern": {
              "fillmode": "overlay",
              "size": 10,
              "solidity": 0.2
             }
            },
            "type": "histogram"
           }
          ],
          "histogram2d": [
           {
            "colorbar": {
             "outlinewidth": 0,
             "ticks": ""
            },
            "colorscale": [
             [
              0,
              "#0d0887"
             ],
             [
              0.1111111111111111,
              "#46039f"
             ],
             [
              0.2222222222222222,
              "#7201a8"
             ],
             [
              0.3333333333333333,
              "#9c179e"
             ],
             [
              0.4444444444444444,
              "#bd3786"
             ],
             [
              0.5555555555555556,
              "#d8576b"
             ],
             [
              0.6666666666666666,
              "#ed7953"
             ],
             [
              0.7777777777777778,
              "#fb9f3a"
             ],
             [
              0.8888888888888888,
              "#fdca26"
             ],
             [
              1,
              "#f0f921"
             ]
            ],
            "type": "histogram2d"
           }
          ],
          "histogram2dcontour": [
           {
            "colorbar": {
             "outlinewidth": 0,
             "ticks": ""
            },
            "colorscale": [
             [
              0,
              "#0d0887"
             ],
             [
              0.1111111111111111,
              "#46039f"
             ],
             [
              0.2222222222222222,
              "#7201a8"
             ],
             [
              0.3333333333333333,
              "#9c179e"
             ],
             [
              0.4444444444444444,
              "#bd3786"
             ],
             [
              0.5555555555555556,
              "#d8576b"
             ],
             [
              0.6666666666666666,
              "#ed7953"
             ],
             [
              0.7777777777777778,
              "#fb9f3a"
             ],
             [
              0.8888888888888888,
              "#fdca26"
             ],
             [
              1,
              "#f0f921"
             ]
            ],
            "type": "histogram2dcontour"
           }
          ],
          "mesh3d": [
           {
            "colorbar": {
             "outlinewidth": 0,
             "ticks": ""
            },
            "type": "mesh3d"
           }
          ],
          "parcoords": [
           {
            "line": {
             "colorbar": {
              "outlinewidth": 0,
              "ticks": ""
             }
            },
            "type": "parcoords"
           }
          ],
          "pie": [
           {
            "automargin": true,
            "type": "pie"
           }
          ],
          "scatter": [
           {
            "marker": {
             "colorbar": {
              "outlinewidth": 0,
              "ticks": ""
             }
            },
            "type": "scatter"
           }
          ],
          "scatter3d": [
           {
            "line": {
             "colorbar": {
              "outlinewidth": 0,
              "ticks": ""
             }
            },
            "marker": {
             "colorbar": {
              "outlinewidth": 0,
              "ticks": ""
             }
            },
            "type": "scatter3d"
           }
          ],
          "scattercarpet": [
           {
            "marker": {
             "colorbar": {
              "outlinewidth": 0,
              "ticks": ""
             }
            },
            "type": "scattercarpet"
           }
          ],
          "scattergeo": [
           {
            "marker": {
             "colorbar": {
              "outlinewidth": 0,
              "ticks": ""
             }
            },
            "type": "scattergeo"
           }
          ],
          "scattergl": [
           {
            "marker": {
             "colorbar": {
              "outlinewidth": 0,
              "ticks": ""
             }
            },
            "type": "scattergl"
           }
          ],
          "scattermapbox": [
           {
            "marker": {
             "colorbar": {
              "outlinewidth": 0,
              "ticks": ""
             }
            },
            "type": "scattermapbox"
           }
          ],
          "scatterpolar": [
           {
            "marker": {
             "colorbar": {
              "outlinewidth": 0,
              "ticks": ""
             }
            },
            "type": "scatterpolar"
           }
          ],
          "scatterpolargl": [
           {
            "marker": {
             "colorbar": {
              "outlinewidth": 0,
              "ticks": ""
             }
            },
            "type": "scatterpolargl"
           }
          ],
          "scatterternary": [
           {
            "marker": {
             "colorbar": {
              "outlinewidth": 0,
              "ticks": ""
             }
            },
            "type": "scatterternary"
           }
          ],
          "surface": [
           {
            "colorbar": {
             "outlinewidth": 0,
             "ticks": ""
            },
            "colorscale": [
             [
              0,
              "#0d0887"
             ],
             [
              0.1111111111111111,
              "#46039f"
             ],
             [
              0.2222222222222222,
              "#7201a8"
             ],
             [
              0.3333333333333333,
              "#9c179e"
             ],
             [
              0.4444444444444444,
              "#bd3786"
             ],
             [
              0.5555555555555556,
              "#d8576b"
             ],
             [
              0.6666666666666666,
              "#ed7953"
             ],
             [
              0.7777777777777778,
              "#fb9f3a"
             ],
             [
              0.8888888888888888,
              "#fdca26"
             ],
             [
              1,
              "#f0f921"
             ]
            ],
            "type": "surface"
           }
          ],
          "table": [
           {
            "cells": {
             "fill": {
              "color": "#EBF0F8"
             },
             "line": {
              "color": "white"
             }
            },
            "header": {
             "fill": {
              "color": "#C8D4E3"
             },
             "line": {
              "color": "white"
             }
            },
            "type": "table"
           }
          ]
         },
         "layout": {
          "annotationdefaults": {
           "arrowcolor": "#2a3f5f",
           "arrowhead": 0,
           "arrowwidth": 1
          },
          "autotypenumbers": "strict",
          "coloraxis": {
           "colorbar": {
            "outlinewidth": 0,
            "ticks": ""
           }
          },
          "colorscale": {
           "diverging": [
            [
             0,
             "#8e0152"
            ],
            [
             0.1,
             "#c51b7d"
            ],
            [
             0.2,
             "#de77ae"
            ],
            [
             0.3,
             "#f1b6da"
            ],
            [
             0.4,
             "#fde0ef"
            ],
            [
             0.5,
             "#f7f7f7"
            ],
            [
             0.6,
             "#e6f5d0"
            ],
            [
             0.7,
             "#b8e186"
            ],
            [
             0.8,
             "#7fbc41"
            ],
            [
             0.9,
             "#4d9221"
            ],
            [
             1,
             "#276419"
            ]
           ],
           "sequential": [
            [
             0,
             "#0d0887"
            ],
            [
             0.1111111111111111,
             "#46039f"
            ],
            [
             0.2222222222222222,
             "#7201a8"
            ],
            [
             0.3333333333333333,
             "#9c179e"
            ],
            [
             0.4444444444444444,
             "#bd3786"
            ],
            [
             0.5555555555555556,
             "#d8576b"
            ],
            [
             0.6666666666666666,
             "#ed7953"
            ],
            [
             0.7777777777777778,
             "#fb9f3a"
            ],
            [
             0.8888888888888888,
             "#fdca26"
            ],
            [
             1,
             "#f0f921"
            ]
           ],
           "sequentialminus": [
            [
             0,
             "#0d0887"
            ],
            [
             0.1111111111111111,
             "#46039f"
            ],
            [
             0.2222222222222222,
             "#7201a8"
            ],
            [
             0.3333333333333333,
             "#9c179e"
            ],
            [
             0.4444444444444444,
             "#bd3786"
            ],
            [
             0.5555555555555556,
             "#d8576b"
            ],
            [
             0.6666666666666666,
             "#ed7953"
            ],
            [
             0.7777777777777778,
             "#fb9f3a"
            ],
            [
             0.8888888888888888,
             "#fdca26"
            ],
            [
             1,
             "#f0f921"
            ]
           ]
          },
          "colorway": [
           "#636efa",
           "#EF553B",
           "#00cc96",
           "#ab63fa",
           "#FFA15A",
           "#19d3f3",
           "#FF6692",
           "#B6E880",
           "#FF97FF",
           "#FECB52"
          ],
          "font": {
           "color": "#2a3f5f"
          },
          "geo": {
           "bgcolor": "white",
           "lakecolor": "white",
           "landcolor": "#E5ECF6",
           "showlakes": true,
           "showland": true,
           "subunitcolor": "white"
          },
          "hoverlabel": {
           "align": "left"
          },
          "hovermode": "closest",
          "mapbox": {
           "style": "light"
          },
          "paper_bgcolor": "white",
          "plot_bgcolor": "#E5ECF6",
          "polar": {
           "angularaxis": {
            "gridcolor": "white",
            "linecolor": "white",
            "ticks": ""
           },
           "bgcolor": "#E5ECF6",
           "radialaxis": {
            "gridcolor": "white",
            "linecolor": "white",
            "ticks": ""
           }
          },
          "scene": {
           "xaxis": {
            "backgroundcolor": "#E5ECF6",
            "gridcolor": "white",
            "gridwidth": 2,
            "linecolor": "white",
            "showbackground": true,
            "ticks": "",
            "zerolinecolor": "white"
           },
           "yaxis": {
            "backgroundcolor": "#E5ECF6",
            "gridcolor": "white",
            "gridwidth": 2,
            "linecolor": "white",
            "showbackground": true,
            "ticks": "",
            "zerolinecolor": "white"
           },
           "zaxis": {
            "backgroundcolor": "#E5ECF6",
            "gridcolor": "white",
            "gridwidth": 2,
            "linecolor": "white",
            "showbackground": true,
            "ticks": "",
            "zerolinecolor": "white"
           }
          },
          "shapedefaults": {
           "line": {
            "color": "#2a3f5f"
           }
          },
          "ternary": {
           "aaxis": {
            "gridcolor": "white",
            "linecolor": "white",
            "ticks": ""
           },
           "baxis": {
            "gridcolor": "white",
            "linecolor": "white",
            "ticks": ""
           },
           "bgcolor": "#E5ECF6",
           "caxis": {
            "gridcolor": "white",
            "linecolor": "white",
            "ticks": ""
           }
          },
          "title": {
           "x": 0.05
          },
          "xaxis": {
           "automargin": true,
           "gridcolor": "white",
           "linecolor": "white",
           "ticks": "",
           "title": {
            "standoff": 15
           },
           "zerolinecolor": "white",
           "zerolinewidth": 2
          },
          "yaxis": {
           "automargin": true,
           "gridcolor": "white",
           "linecolor": "white",
           "ticks": "",
           "title": {
            "standoff": 15
           },
           "zerolinecolor": "white",
           "zerolinewidth": 2
          }
         }
        },
        "title": {
         "text": "KMeans"
        }
       }
      },
      "text/html": [
       "<div>                            <div id=\"6420363b-89af-41bd-a07f-f681f37d7391\" class=\"plotly-graph-div\" style=\"height:525px; width:100%;\"></div>            <script type=\"text/javascript\">                require([\"plotly\"], function(Plotly) {                    window.PLOTLYENV=window.PLOTLYENV || {};                                    if (document.getElementById(\"6420363b-89af-41bd-a07f-f681f37d7391\")) {                    Plotly.newPlot(                        \"6420363b-89af-41bd-a07f-f681f37d7391\",                        [{\"hovertemplate\":\"PC1=%{x}<br>PC2=%{y}<br>PC3=%{z}<br>color=%{marker.color}<extra></extra>\",\"legendgroup\":\"\",\"marker\":{\"color\":[1,0,2,1,0,0,2,1,0,1,0,2,1,0,0,2,0,2,1,0,1,1,0,0,2,0,0,0,0,2,1,1,0,0,1,1,0,1,0,1,2,2,1,0,1,0,1,1,0,0,0,0,0,2,0,1,2,1,1,0,0,1,0,1,1,2,2,0,0,0,0,0,0,1,0,1,2,1,1,2,0,0,0,2,1,1,1,0,0,1,0,1,0,1,0,0,1,0,0,0],\"coloraxis\":\"coloraxis\",\"symbol\":\"circle\"},\"mode\":\"markers\",\"name\":\"\",\"scene\":\"scene\",\"showlegend\":false,\"x\":[1.0149083392966256,-0.3130428010587717,-0.45146178939282683,0.7005507580900646,0.07257440058436636,-0.4882325056578478,-0.6568893465727057,0.6415282147133622,-0.1179576912111683,1.0873935168900546,-0.05146086994807354,-0.5740836157485354,1.2723421394364716,-0.575252193452425,0.20463061484303552,-0.451461789392827,-0.43765090726748845,-0.656889346572705,0.7398744951826123,-0.3628767305235811,1.4224486984594111,0.1514753767384692,-0.38681689153707915,-0.29715821895457295,-0.3031208959842476,-0.6123239093830027,-0.31929178214860904,-0.43052698100335873,-0.3550585485162153,-0.37575989033270984,0.2671492960514589,0.3244724043164433,-0.43200793390176206,-0.3689843727417128,0.27576893904064576,1.148069384612407,-0.46098242377386955,1.6073973210058283,-0.6682363416338494,1.4955884063198501,-0.451461789392827,-0.5342675202169963,0.25468545591337344,-0.5345727099403836,1.1139745215118753,-0.7358897080705509,1.0356059396594217,0.198413913595318,-0.6103195545466079,-0.3820967676546399,-0.19034373792075016,-0.9469402168747866,-0.20299155201169208,-0.3031208959842476,0.09460648689134596,0.6415282147133625,-0.5342675202169963,0.23817480617935138,0.6280655804966342,-0.08209673511888334,-0.22721417754569806,0.25468545591337344,-0.1162819709289515,0.6280655804966342,1.3499635208659804,-0.6590173246734197,-0.3031208959842476,-0.14654105051657978,0.004568823044083487,-0.20983272188386706,-0.27185652563282703,-0.2837713475605639,-0.46212820337450117,0.5421831401654698,-0.2255955522883314,0.6539920548514482,-0.43413817624444095,0.3646744036925476,0.18299469537208118,-0.311516349888732,-1.084257248798442,-1.1277741037899585,-0.4371402785824909,-0.342936991515787,1.0749296767519692,0.7146679225738009,1.3624273610040651,-0.8852473682935964,0.13800426129357,0.25468545591337344,-0.6568735091179451,0.5815068772580168,-0.2509211511771291,0.6539920548514482,-0.025816253729114436,-0.15379879488051196,0.6880869179519798,-0.39864147098195646,-0.5233171055715434,-0.8870203689216862],\"y\":[0.1577644064878873,0.019267901261709453,1.0081137570644738,0.006002383752602541,-0.4943517103835355,-0.7611759531438241,1.477536728450557,0.10147699258114266,-0.5915469879012744,0.03996909577661817,-0.5216886837905665,1.2085982537601738,0.04221354848981329,-0.44149042331685484,0.034460428911103666,1.008113757064473,-0.0812823985779111,1.4775367284505563,0.15550539844777259,-0.29122225246645017,-0.06774760176049505,-0.037543704713095864,-0.378549057605865,-0.5814915488340242,0.8795931193514881,-0.4561935860435776,-0.013632694635634487,-0.03285759021958937,-0.2108119375820624,0.5813805643833144,0.059690675423084226,-0.3024841771349627,-0.3605733298482958,-1.067115058385582,0.17661309022130384,0.018325449639957893,-0.3565377101250818,-0.06550314904729866,-0.25973589455053686,-0.09721085303119768,1.0081137570644734,1.2770522317548552,0.06751028055712814,-0.5413752980972327,0.09816084820041057,-0.9459556791395503,-0.10171431378450942,-0.15359480969466377,-0.16279856348639332,0.25605261738033464,0.1249191980664801,-1.2123228457254138,0.37571147478994016,0.8795931193514881,-1.242986874878973,0.10147699258114276,1.2770522317548552,0.06372629514629834,0.12379769446387366,-0.5528052239602276,-0.28878688311049855,0.06751028055712814,-0.24968118880918566,0.12379769446387366,0.050047708950776565,0.535507266507506,0.8795931193514881,0.1722063736430748,-0.6623171881201189,0.12432188653193336,0.08299376231114149,0.0817410757182372,-0.6789769739818338,0.061949683463199894,-0.1599068460197561,0.0936573874470989,0.7731705871933073,-0.8114036022428254,0.11496745404204858,0.5726860904976069,-0.2711626084640894,-0.07555197536364382,-0.23879138518171508,0.8111391413568064,0.04778870091066093,0.07201374131043972,0.0422281038167327,0.18356541020321976,0.05352964916992127,0.06751028055712814,-0.7091104923077988,0.21145269815837006,0.013302258206746884,0.0936573874470989,-0.4381587751920797,-0.6063698884095213,0.01382198888664633,-0.33914798195357015,-0.43649520028610955,-1.0993278500240786],\"z\":[-0.520467926686968,-0.12652132712289557,0.28101904183476245,-0.05644189483094558,0.8359163381037934,0.476577970194797,0.4248229145627804,0.08923143306461133,0.01325008975439689,-0.20652610165098642,-0.5453094586272011,0.27408699097096056,-0.19040895138279318,-0.5777455821592077,-0.8002907841007966,0.2810190418347623,-0.5023256212769788,0.42482291456278004,-0.5032729076326224,-0.2157229972951423,0.029965855972844707,0.34368965820480346,0.16254683694809105,-0.8152221872264273,0.37516661651741934,-0.2108435266257632,-0.13501212200379967,-0.9220030456215491,-0.1168926323931191,-0.17178975119387876,0.2995704882424566,0.6317754617756468,-0.38892926466027533,0.8263038616689081,-0.3246117262380942,-0.11777461197490087,-0.4439017019839333,0.04608300624103846,-0.46452589856542964,0.1789721940067347,0.2810190418347624,0.43175496542658204,0.23931563988465282,0.07024543700400525,0.14840841263626411,0.47033584892405406,0.18005006279288607,0.6626924182906491,-0.8185173384926676,-0.6285616535700705,-0.44842333534113515,0.47786847203201654,-0.004108368602980793,0.37516661651741934,1.1425432065253804,0.08923143306461155,0.43175496542658204,0.24459805091879896,-0.3703837198669265,0.4488870572225543,0.341734998864806,0.23931563988465282,-0.8440540004098899,-0.3703837198669265,-0.283975969063136,0.3881624355571157,0.37516661651741934,-0.08009698707669632,-0.18383685139553552,-0.23089534544304544,-0.14926820829996487,-0.19702144176961392,0.4360805231067688,0.2823754691881116,0.11682639531074722,0.14948628142241527,0.05247998030618198,1.0889754878378863,0.09259656846605475,0.05941203116998368,-0.3635787591400758,-0.9686162731460941,0.17974667239897152,0.21749864206179786,-0.2667809500087907,0.23823777109850136,-0.22372112070533198,-0.7606989935482324,-0.9820604521560773,0.23931563988465282,0.36330202881602036,-0.16445554361356546,-0.0672950102420444,0.14948628142241527,-0.5859341642681556,0.15498051262352142,-0.11669674318874944,0.24508970734483027,0.3562672210256728,0.010675723198081237],\"type\":\"scatter3d\"}],                        {\"template\":{\"data\":{\"bar\":[{\"error_x\":{\"color\":\"#2a3f5f\"},\"error_y\":{\"color\":\"#2a3f5f\"},\"marker\":{\"line\":{\"color\":\"#E5ECF6\",\"width\":0.5},\"pattern\":{\"fillmode\":\"overlay\",\"size\":10,\"solidity\":0.2}},\"type\":\"bar\"}],\"barpolar\":[{\"marker\":{\"line\":{\"color\":\"#E5ECF6\",\"width\":0.5},\"pattern\":{\"fillmode\":\"overlay\",\"size\":10,\"solidity\":0.2}},\"type\":\"barpolar\"}],\"carpet\":[{\"aaxis\":{\"endlinecolor\":\"#2a3f5f\",\"gridcolor\":\"white\",\"linecolor\":\"white\",\"minorgridcolor\":\"white\",\"startlinecolor\":\"#2a3f5f\"},\"baxis\":{\"endlinecolor\":\"#2a3f5f\",\"gridcolor\":\"white\",\"linecolor\":\"white\",\"minorgridcolor\":\"white\",\"startlinecolor\":\"#2a3f5f\"},\"type\":\"carpet\"}],\"choropleth\":[{\"colorbar\":{\"outlinewidth\":0,\"ticks\":\"\"},\"type\":\"choropleth\"}],\"contour\":[{\"colorbar\":{\"outlinewidth\":0,\"ticks\":\"\"},\"colorscale\":[[0.0,\"#0d0887\"],[0.1111111111111111,\"#46039f\"],[0.2222222222222222,\"#7201a8\"],[0.3333333333333333,\"#9c179e\"],[0.4444444444444444,\"#bd3786\"],[0.5555555555555556,\"#d8576b\"],[0.6666666666666666,\"#ed7953\"],[0.7777777777777778,\"#fb9f3a\"],[0.8888888888888888,\"#fdca26\"],[1.0,\"#f0f921\"]],\"type\":\"contour\"}],\"contourcarpet\":[{\"colorbar\":{\"outlinewidth\":0,\"ticks\":\"\"},\"type\":\"contourcarpet\"}],\"heatmap\":[{\"colorbar\":{\"outlinewidth\":0,\"ticks\":\"\"},\"colorscale\":[[0.0,\"#0d0887\"],[0.1111111111111111,\"#46039f\"],[0.2222222222222222,\"#7201a8\"],[0.3333333333333333,\"#9c179e\"],[0.4444444444444444,\"#bd3786\"],[0.5555555555555556,\"#d8576b\"],[0.6666666666666666,\"#ed7953\"],[0.7777777777777778,\"#fb9f3a\"],[0.8888888888888888,\"#fdca26\"],[1.0,\"#f0f921\"]],\"type\":\"heatmap\"}],\"heatmapgl\":[{\"colorbar\":{\"outlinewidth\":0,\"ticks\":\"\"},\"colorscale\":[[0.0,\"#0d0887\"],[0.1111111111111111,\"#46039f\"],[0.2222222222222222,\"#7201a8\"],[0.3333333333333333,\"#9c179e\"],[0.4444444444444444,\"#bd3786\"],[0.5555555555555556,\"#d8576b\"],[0.6666666666666666,\"#ed7953\"],[0.7777777777777778,\"#fb9f3a\"],[0.8888888888888888,\"#fdca26\"],[1.0,\"#f0f921\"]],\"type\":\"heatmapgl\"}],\"histogram\":[{\"marker\":{\"pattern\":{\"fillmode\":\"overlay\",\"size\":10,\"solidity\":0.2}},\"type\":\"histogram\"}],\"histogram2d\":[{\"colorbar\":{\"outlinewidth\":0,\"ticks\":\"\"},\"colorscale\":[[0.0,\"#0d0887\"],[0.1111111111111111,\"#46039f\"],[0.2222222222222222,\"#7201a8\"],[0.3333333333333333,\"#9c179e\"],[0.4444444444444444,\"#bd3786\"],[0.5555555555555556,\"#d8576b\"],[0.6666666666666666,\"#ed7953\"],[0.7777777777777778,\"#fb9f3a\"],[0.8888888888888888,\"#fdca26\"],[1.0,\"#f0f921\"]],\"type\":\"histogram2d\"}],\"histogram2dcontour\":[{\"colorbar\":{\"outlinewidth\":0,\"ticks\":\"\"},\"colorscale\":[[0.0,\"#0d0887\"],[0.1111111111111111,\"#46039f\"],[0.2222222222222222,\"#7201a8\"],[0.3333333333333333,\"#9c179e\"],[0.4444444444444444,\"#bd3786\"],[0.5555555555555556,\"#d8576b\"],[0.6666666666666666,\"#ed7953\"],[0.7777777777777778,\"#fb9f3a\"],[0.8888888888888888,\"#fdca26\"],[1.0,\"#f0f921\"]],\"type\":\"histogram2dcontour\"}],\"mesh3d\":[{\"colorbar\":{\"outlinewidth\":0,\"ticks\":\"\"},\"type\":\"mesh3d\"}],\"parcoords\":[{\"line\":{\"colorbar\":{\"outlinewidth\":0,\"ticks\":\"\"}},\"type\":\"parcoords\"}],\"pie\":[{\"automargin\":true,\"type\":\"pie\"}],\"scatter\":[{\"marker\":{\"colorbar\":{\"outlinewidth\":0,\"ticks\":\"\"}},\"type\":\"scatter\"}],\"scatter3d\":[{\"line\":{\"colorbar\":{\"outlinewidth\":0,\"ticks\":\"\"}},\"marker\":{\"colorbar\":{\"outlinewidth\":0,\"ticks\":\"\"}},\"type\":\"scatter3d\"}],\"scattercarpet\":[{\"marker\":{\"colorbar\":{\"outlinewidth\":0,\"ticks\":\"\"}},\"type\":\"scattercarpet\"}],\"scattergeo\":[{\"marker\":{\"colorbar\":{\"outlinewidth\":0,\"ticks\":\"\"}},\"type\":\"scattergeo\"}],\"scattergl\":[{\"marker\":{\"colorbar\":{\"outlinewidth\":0,\"ticks\":\"\"}},\"type\":\"scattergl\"}],\"scattermapbox\":[{\"marker\":{\"colorbar\":{\"outlinewidth\":0,\"ticks\":\"\"}},\"type\":\"scattermapbox\"}],\"scatterpolar\":[{\"marker\":{\"colorbar\":{\"outlinewidth\":0,\"ticks\":\"\"}},\"type\":\"scatterpolar\"}],\"scatterpolargl\":[{\"marker\":{\"colorbar\":{\"outlinewidth\":0,\"ticks\":\"\"}},\"type\":\"scatterpolargl\"}],\"scatterternary\":[{\"marker\":{\"colorbar\":{\"outlinewidth\":0,\"ticks\":\"\"}},\"type\":\"scatterternary\"}],\"surface\":[{\"colorbar\":{\"outlinewidth\":0,\"ticks\":\"\"},\"colorscale\":[[0.0,\"#0d0887\"],[0.1111111111111111,\"#46039f\"],[0.2222222222222222,\"#7201a8\"],[0.3333333333333333,\"#9c179e\"],[0.4444444444444444,\"#bd3786\"],[0.5555555555555556,\"#d8576b\"],[0.6666666666666666,\"#ed7953\"],[0.7777777777777778,\"#fb9f3a\"],[0.8888888888888888,\"#fdca26\"],[1.0,\"#f0f921\"]],\"type\":\"surface\"}],\"table\":[{\"cells\":{\"fill\":{\"color\":\"#EBF0F8\"},\"line\":{\"color\":\"white\"}},\"header\":{\"fill\":{\"color\":\"#C8D4E3\"},\"line\":{\"color\":\"white\"}},\"type\":\"table\"}]},\"layout\":{\"annotationdefaults\":{\"arrowcolor\":\"#2a3f5f\",\"arrowhead\":0,\"arrowwidth\":1},\"autotypenumbers\":\"strict\",\"coloraxis\":{\"colorbar\":{\"outlinewidth\":0,\"ticks\":\"\"}},\"colorscale\":{\"diverging\":[[0,\"#8e0152\"],[0.1,\"#c51b7d\"],[0.2,\"#de77ae\"],[0.3,\"#f1b6da\"],[0.4,\"#fde0ef\"],[0.5,\"#f7f7f7\"],[0.6,\"#e6f5d0\"],[0.7,\"#b8e186\"],[0.8,\"#7fbc41\"],[0.9,\"#4d9221\"],[1,\"#276419\"]],\"sequential\":[[0.0,\"#0d0887\"],[0.1111111111111111,\"#46039f\"],[0.2222222222222222,\"#7201a8\"],[0.3333333333333333,\"#9c179e\"],[0.4444444444444444,\"#bd3786\"],[0.5555555555555556,\"#d8576b\"],[0.6666666666666666,\"#ed7953\"],[0.7777777777777778,\"#fb9f3a\"],[0.8888888888888888,\"#fdca26\"],[1.0,\"#f0f921\"]],\"sequentialminus\":[[0.0,\"#0d0887\"],[0.1111111111111111,\"#46039f\"],[0.2222222222222222,\"#7201a8\"],[0.3333333333333333,\"#9c179e\"],[0.4444444444444444,\"#bd3786\"],[0.5555555555555556,\"#d8576b\"],[0.6666666666666666,\"#ed7953\"],[0.7777777777777778,\"#fb9f3a\"],[0.8888888888888888,\"#fdca26\"],[1.0,\"#f0f921\"]]},\"colorway\":[\"#636efa\",\"#EF553B\",\"#00cc96\",\"#ab63fa\",\"#FFA15A\",\"#19d3f3\",\"#FF6692\",\"#B6E880\",\"#FF97FF\",\"#FECB52\"],\"font\":{\"color\":\"#2a3f5f\"},\"geo\":{\"bgcolor\":\"white\",\"lakecolor\":\"white\",\"landcolor\":\"#E5ECF6\",\"showlakes\":true,\"showland\":true,\"subunitcolor\":\"white\"},\"hoverlabel\":{\"align\":\"left\"},\"hovermode\":\"closest\",\"mapbox\":{\"style\":\"light\"},\"paper_bgcolor\":\"white\",\"plot_bgcolor\":\"#E5ECF6\",\"polar\":{\"angularaxis\":{\"gridcolor\":\"white\",\"linecolor\":\"white\",\"ticks\":\"\"},\"bgcolor\":\"#E5ECF6\",\"radialaxis\":{\"gridcolor\":\"white\",\"linecolor\":\"white\",\"ticks\":\"\"}},\"scene\":{\"xaxis\":{\"backgroundcolor\":\"#E5ECF6\",\"gridcolor\":\"white\",\"gridwidth\":2,\"linecolor\":\"white\",\"showbackground\":true,\"ticks\":\"\",\"zerolinecolor\":\"white\"},\"yaxis\":{\"backgroundcolor\":\"#E5ECF6\",\"gridcolor\":\"white\",\"gridwidth\":2,\"linecolor\":\"white\",\"showbackground\":true,\"ticks\":\"\",\"zerolinecolor\":\"white\"},\"zaxis\":{\"backgroundcolor\":\"#E5ECF6\",\"gridcolor\":\"white\",\"gridwidth\":2,\"linecolor\":\"white\",\"showbackground\":true,\"ticks\":\"\",\"zerolinecolor\":\"white\"}},\"shapedefaults\":{\"line\":{\"color\":\"#2a3f5f\"}},\"ternary\":{\"aaxis\":{\"gridcolor\":\"white\",\"linecolor\":\"white\",\"ticks\":\"\"},\"baxis\":{\"gridcolor\":\"white\",\"linecolor\":\"white\",\"ticks\":\"\"},\"bgcolor\":\"#E5ECF6\",\"caxis\":{\"gridcolor\":\"white\",\"linecolor\":\"white\",\"ticks\":\"\"}},\"title\":{\"x\":0.05},\"xaxis\":{\"automargin\":true,\"gridcolor\":\"white\",\"linecolor\":\"white\",\"ticks\":\"\",\"title\":{\"standoff\":15},\"zerolinecolor\":\"white\",\"zerolinewidth\":2},\"yaxis\":{\"automargin\":true,\"gridcolor\":\"white\",\"linecolor\":\"white\",\"ticks\":\"\",\"title\":{\"standoff\":15},\"zerolinecolor\":\"white\",\"zerolinewidth\":2}}},\"scene\":{\"domain\":{\"x\":[0.0,1.0],\"y\":[0.0,1.0]},\"xaxis\":{\"title\":{\"text\":\"PC1\"}},\"yaxis\":{\"title\":{\"text\":\"PC2\"}},\"zaxis\":{\"title\":{\"text\":\"PC3\"}}},\"coloraxis\":{\"colorbar\":{\"title\":{\"text\":\"color\"}},\"colorscale\":[[0.0,\"#0d0887\"],[0.1111111111111111,\"#46039f\"],[0.2222222222222222,\"#7201a8\"],[0.3333333333333333,\"#9c179e\"],[0.4444444444444444,\"#bd3786\"],[0.5555555555555556,\"#d8576b\"],[0.6666666666666666,\"#ed7953\"],[0.7777777777777778,\"#fb9f3a\"],[0.8888888888888888,\"#fdca26\"],[1.0,\"#f0f921\"]]},\"legend\":{\"tracegroupgap\":0},\"title\":{\"text\":\"KMeans\"}},                        {\"responsive\": true}                    ).then(function(){\n",
       "                            \n",
       "var gd = document.getElementById('6420363b-89af-41bd-a07f-f681f37d7391');\n",
       "var x = new MutationObserver(function (mutations, observer) {{\n",
       "        var display = window.getComputedStyle(gd).display;\n",
       "        if (!display || display === 'none') {{\n",
       "            console.log([gd, 'removed!']);\n",
       "            Plotly.purge(gd);\n",
       "            observer.disconnect();\n",
       "        }}\n",
       "}});\n",
       "\n",
       "// Listen for the removal of the full notebook cells\n",
       "var notebookContainer = gd.closest('#notebook-container');\n",
       "if (notebookContainer) {{\n",
       "    x.observe(notebookContainer, {childList: true});\n",
       "}}\n",
       "\n",
       "// Listen for the clearing of the current output cell\n",
       "var outputEl = gd.closest('.output');\n",
       "if (outputEl) {{\n",
       "    x.observe(outputEl, {childList: true});\n",
       "}}\n",
       "\n",
       "                        })                };                });            </script>        </div>"
      ]
     },
     "metadata": {},
     "output_type": "display_data"
    },
    {
     "data": {
      "application/vnd.plotly.v1+json": {
       "config": {
        "plotlyServerURL": "https://plot.ly"
       },
       "data": [
        {
         "hovertemplate": "PC1=%{x}<br>PC2=%{y}<br>PC3=%{z}<br>color=%{marker.color}<extra></extra>",
         "legendgroup": "",
         "marker": {
          "color": [
           0,
           1,
           0,
           0,
           0,
           1,
           0,
           0,
           0,
           0,
           0,
           0,
           0,
           1,
           0,
           1,
           0,
           0,
           1,
           0,
           0,
           0,
           0,
           0,
           1,
           1,
           0,
           1,
           1,
           1,
           0,
           1,
           0,
           0,
           1,
           1,
           1,
           0,
           0,
           0,
           0,
           1,
           0,
           1,
           0,
           0,
           0,
           0,
           1,
           0,
           0,
           1,
           1,
           0,
           0,
           1,
           0,
           0,
           1,
           0,
           0,
           0,
           0,
           1,
           0,
           0,
           0,
           1,
           1,
           1,
           1,
           1,
           0,
           0,
           0,
           0,
           1,
           0,
           0,
           0,
           0,
           1,
           0,
           0,
           0,
           1,
           0,
           1,
           1,
           0,
           0,
           1,
           1,
           0,
           1,
           1,
           1,
           1,
           0,
           1
          ],
          "coloraxis": "coloraxis",
          "symbol": "circle"
         },
         "mode": "markers",
         "name": "",
         "scene": "scene",
         "showlegend": false,
         "type": "scatter3d",
         "x": [
          1.0149083392966256,
          -0.3130428010587717,
          -0.45146178939282683,
          0.7005507580900646,
          0.07257440058436636,
          -0.4882325056578478,
          -0.6568893465727057,
          0.6415282147133622,
          -0.1179576912111683,
          1.0873935168900546,
          -0.05146086994807354,
          -0.5740836157485354,
          1.2723421394364716,
          -0.575252193452425,
          0.20463061484303552,
          -0.451461789392827,
          -0.43765090726748845,
          -0.656889346572705,
          0.7398744951826123,
          -0.3628767305235811,
          1.4224486984594111,
          0.1514753767384692,
          -0.38681689153707915,
          -0.29715821895457295,
          -0.3031208959842476,
          -0.6123239093830027,
          -0.31929178214860904,
          -0.43052698100335873,
          -0.3550585485162153,
          -0.37575989033270984,
          0.2671492960514589,
          0.3244724043164433,
          -0.43200793390176206,
          -0.3689843727417128,
          0.27576893904064576,
          1.148069384612407,
          -0.46098242377386955,
          1.6073973210058283,
          -0.6682363416338494,
          1.4955884063198501,
          -0.451461789392827,
          -0.5342675202169963,
          0.25468545591337344,
          -0.5345727099403836,
          1.1139745215118753,
          -0.7358897080705509,
          1.0356059396594217,
          0.198413913595318,
          -0.6103195545466079,
          -0.3820967676546399,
          -0.19034373792075016,
          -0.9469402168747866,
          -0.20299155201169208,
          -0.3031208959842476,
          0.09460648689134596,
          0.6415282147133625,
          -0.5342675202169963,
          0.23817480617935138,
          0.6280655804966342,
          -0.08209673511888334,
          -0.22721417754569806,
          0.25468545591337344,
          -0.1162819709289515,
          0.6280655804966342,
          1.3499635208659804,
          -0.6590173246734197,
          -0.3031208959842476,
          -0.14654105051657978,
          0.004568823044083487,
          -0.20983272188386706,
          -0.27185652563282703,
          -0.2837713475605639,
          -0.46212820337450117,
          0.5421831401654698,
          -0.2255955522883314,
          0.6539920548514482,
          -0.43413817624444095,
          0.3646744036925476,
          0.18299469537208118,
          -0.311516349888732,
          -1.084257248798442,
          -1.1277741037899585,
          -0.4371402785824909,
          -0.342936991515787,
          1.0749296767519692,
          0.7146679225738009,
          1.3624273610040651,
          -0.8852473682935964,
          0.13800426129357,
          0.25468545591337344,
          -0.6568735091179451,
          0.5815068772580168,
          -0.2509211511771291,
          0.6539920548514482,
          -0.025816253729114436,
          -0.15379879488051196,
          0.6880869179519798,
          -0.39864147098195646,
          -0.5233171055715434,
          -0.8870203689216862
         ],
         "y": [
          0.1577644064878873,
          0.019267901261709453,
          1.0081137570644738,
          0.006002383752602541,
          -0.4943517103835355,
          -0.7611759531438241,
          1.477536728450557,
          0.10147699258114266,
          -0.5915469879012744,
          0.03996909577661817,
          -0.5216886837905665,
          1.2085982537601738,
          0.04221354848981329,
          -0.44149042331685484,
          0.034460428911103666,
          1.008113757064473,
          -0.0812823985779111,
          1.4775367284505563,
          0.15550539844777259,
          -0.29122225246645017,
          -0.06774760176049505,
          -0.037543704713095864,
          -0.378549057605865,
          -0.5814915488340242,
          0.8795931193514881,
          -0.4561935860435776,
          -0.013632694635634487,
          -0.03285759021958937,
          -0.2108119375820624,
          0.5813805643833144,
          0.059690675423084226,
          -0.3024841771349627,
          -0.3605733298482958,
          -1.067115058385582,
          0.17661309022130384,
          0.018325449639957893,
          -0.3565377101250818,
          -0.06550314904729866,
          -0.25973589455053686,
          -0.09721085303119768,
          1.0081137570644734,
          1.2770522317548552,
          0.06751028055712814,
          -0.5413752980972327,
          0.09816084820041057,
          -0.9459556791395503,
          -0.10171431378450942,
          -0.15359480969466377,
          -0.16279856348639332,
          0.25605261738033464,
          0.1249191980664801,
          -1.2123228457254138,
          0.37571147478994016,
          0.8795931193514881,
          -1.242986874878973,
          0.10147699258114276,
          1.2770522317548552,
          0.06372629514629834,
          0.12379769446387366,
          -0.5528052239602276,
          -0.28878688311049855,
          0.06751028055712814,
          -0.24968118880918566,
          0.12379769446387366,
          0.050047708950776565,
          0.535507266507506,
          0.8795931193514881,
          0.1722063736430748,
          -0.6623171881201189,
          0.12432188653193336,
          0.08299376231114149,
          0.0817410757182372,
          -0.6789769739818338,
          0.061949683463199894,
          -0.1599068460197561,
          0.0936573874470989,
          0.7731705871933073,
          -0.8114036022428254,
          0.11496745404204858,
          0.5726860904976069,
          -0.2711626084640894,
          -0.07555197536364382,
          -0.23879138518171508,
          0.8111391413568064,
          0.04778870091066093,
          0.07201374131043972,
          0.0422281038167327,
          0.18356541020321976,
          0.05352964916992127,
          0.06751028055712814,
          -0.7091104923077988,
          0.21145269815837006,
          0.013302258206746884,
          0.0936573874470989,
          -0.4381587751920797,
          -0.6063698884095213,
          0.01382198888664633,
          -0.33914798195357015,
          -0.43649520028610955,
          -1.0993278500240786
         ],
         "z": [
          -0.520467926686968,
          -0.12652132712289557,
          0.28101904183476245,
          -0.05644189483094558,
          0.8359163381037934,
          0.476577970194797,
          0.4248229145627804,
          0.08923143306461133,
          0.01325008975439689,
          -0.20652610165098642,
          -0.5453094586272011,
          0.27408699097096056,
          -0.19040895138279318,
          -0.5777455821592077,
          -0.8002907841007966,
          0.2810190418347623,
          -0.5023256212769788,
          0.42482291456278004,
          -0.5032729076326224,
          -0.2157229972951423,
          0.029965855972844707,
          0.34368965820480346,
          0.16254683694809105,
          -0.8152221872264273,
          0.37516661651741934,
          -0.2108435266257632,
          -0.13501212200379967,
          -0.9220030456215491,
          -0.1168926323931191,
          -0.17178975119387876,
          0.2995704882424566,
          0.6317754617756468,
          -0.38892926466027533,
          0.8263038616689081,
          -0.3246117262380942,
          -0.11777461197490087,
          -0.4439017019839333,
          0.04608300624103846,
          -0.46452589856542964,
          0.1789721940067347,
          0.2810190418347624,
          0.43175496542658204,
          0.23931563988465282,
          0.07024543700400525,
          0.14840841263626411,
          0.47033584892405406,
          0.18005006279288607,
          0.6626924182906491,
          -0.8185173384926676,
          -0.6285616535700705,
          -0.44842333534113515,
          0.47786847203201654,
          -0.004108368602980793,
          0.37516661651741934,
          1.1425432065253804,
          0.08923143306461155,
          0.43175496542658204,
          0.24459805091879896,
          -0.3703837198669265,
          0.4488870572225543,
          0.341734998864806,
          0.23931563988465282,
          -0.8440540004098899,
          -0.3703837198669265,
          -0.283975969063136,
          0.3881624355571157,
          0.37516661651741934,
          -0.08009698707669632,
          -0.18383685139553552,
          -0.23089534544304544,
          -0.14926820829996487,
          -0.19702144176961392,
          0.4360805231067688,
          0.2823754691881116,
          0.11682639531074722,
          0.14948628142241527,
          0.05247998030618198,
          1.0889754878378863,
          0.09259656846605475,
          0.05941203116998368,
          -0.3635787591400758,
          -0.9686162731460941,
          0.17974667239897152,
          0.21749864206179786,
          -0.2667809500087907,
          0.23823777109850136,
          -0.22372112070533198,
          -0.7606989935482324,
          -0.9820604521560773,
          0.23931563988465282,
          0.36330202881602036,
          -0.16445554361356546,
          -0.0672950102420444,
          0.14948628142241527,
          -0.5859341642681556,
          0.15498051262352142,
          -0.11669674318874944,
          0.24508970734483027,
          0.3562672210256728,
          0.010675723198081237
         ]
        }
       ],
       "layout": {
        "coloraxis": {
         "colorbar": {
          "title": {
           "text": "color"
          }
         },
         "colorscale": [
          [
           0,
           "#0d0887"
          ],
          [
           0.1111111111111111,
           "#46039f"
          ],
          [
           0.2222222222222222,
           "#7201a8"
          ],
          [
           0.3333333333333333,
           "#9c179e"
          ],
          [
           0.4444444444444444,
           "#bd3786"
          ],
          [
           0.5555555555555556,
           "#d8576b"
          ],
          [
           0.6666666666666666,
           "#ed7953"
          ],
          [
           0.7777777777777778,
           "#fb9f3a"
          ],
          [
           0.8888888888888888,
           "#fdca26"
          ],
          [
           1,
           "#f0f921"
          ]
         ]
        },
        "legend": {
         "tracegroupgap": 0
        },
        "scene": {
         "domain": {
          "x": [
           0,
           1
          ],
          "y": [
           0,
           1
          ]
         },
         "xaxis": {
          "title": {
           "text": "PC1"
          }
         },
         "yaxis": {
          "title": {
           "text": "PC2"
          }
         },
         "zaxis": {
          "title": {
           "text": "PC3"
          }
         }
        },
        "template": {
         "data": {
          "bar": [
           {
            "error_x": {
             "color": "#2a3f5f"
            },
            "error_y": {
             "color": "#2a3f5f"
            },
            "marker": {
             "line": {
              "color": "#E5ECF6",
              "width": 0.5
             },
             "pattern": {
              "fillmode": "overlay",
              "size": 10,
              "solidity": 0.2
             }
            },
            "type": "bar"
           }
          ],
          "barpolar": [
           {
            "marker": {
             "line": {
              "color": "#E5ECF6",
              "width": 0.5
             },
             "pattern": {
              "fillmode": "overlay",
              "size": 10,
              "solidity": 0.2
             }
            },
            "type": "barpolar"
           }
          ],
          "carpet": [
           {
            "aaxis": {
             "endlinecolor": "#2a3f5f",
             "gridcolor": "white",
             "linecolor": "white",
             "minorgridcolor": "white",
             "startlinecolor": "#2a3f5f"
            },
            "baxis": {
             "endlinecolor": "#2a3f5f",
             "gridcolor": "white",
             "linecolor": "white",
             "minorgridcolor": "white",
             "startlinecolor": "#2a3f5f"
            },
            "type": "carpet"
           }
          ],
          "choropleth": [
           {
            "colorbar": {
             "outlinewidth": 0,
             "ticks": ""
            },
            "type": "choropleth"
           }
          ],
          "contour": [
           {
            "colorbar": {
             "outlinewidth": 0,
             "ticks": ""
            },
            "colorscale": [
             [
              0,
              "#0d0887"
             ],
             [
              0.1111111111111111,
              "#46039f"
             ],
             [
              0.2222222222222222,
              "#7201a8"
             ],
             [
              0.3333333333333333,
              "#9c179e"
             ],
             [
              0.4444444444444444,
              "#bd3786"
             ],
             [
              0.5555555555555556,
              "#d8576b"
             ],
             [
              0.6666666666666666,
              "#ed7953"
             ],
             [
              0.7777777777777778,
              "#fb9f3a"
             ],
             [
              0.8888888888888888,
              "#fdca26"
             ],
             [
              1,
              "#f0f921"
             ]
            ],
            "type": "contour"
           }
          ],
          "contourcarpet": [
           {
            "colorbar": {
             "outlinewidth": 0,
             "ticks": ""
            },
            "type": "contourcarpet"
           }
          ],
          "heatmap": [
           {
            "colorbar": {
             "outlinewidth": 0,
             "ticks": ""
            },
            "colorscale": [
             [
              0,
              "#0d0887"
             ],
             [
              0.1111111111111111,
              "#46039f"
             ],
             [
              0.2222222222222222,
              "#7201a8"
             ],
             [
              0.3333333333333333,
              "#9c179e"
             ],
             [
              0.4444444444444444,
              "#bd3786"
             ],
             [
              0.5555555555555556,
              "#d8576b"
             ],
             [
              0.6666666666666666,
              "#ed7953"
             ],
             [
              0.7777777777777778,
              "#fb9f3a"
             ],
             [
              0.8888888888888888,
              "#fdca26"
             ],
             [
              1,
              "#f0f921"
             ]
            ],
            "type": "heatmap"
           }
          ],
          "heatmapgl": [
           {
            "colorbar": {
             "outlinewidth": 0,
             "ticks": ""
            },
            "colorscale": [
             [
              0,
              "#0d0887"
             ],
             [
              0.1111111111111111,
              "#46039f"
             ],
             [
              0.2222222222222222,
              "#7201a8"
             ],
             [
              0.3333333333333333,
              "#9c179e"
             ],
             [
              0.4444444444444444,
              "#bd3786"
             ],
             [
              0.5555555555555556,
              "#d8576b"
             ],
             [
              0.6666666666666666,
              "#ed7953"
             ],
             [
              0.7777777777777778,
              "#fb9f3a"
             ],
             [
              0.8888888888888888,
              "#fdca26"
             ],
             [
              1,
              "#f0f921"
             ]
            ],
            "type": "heatmapgl"
           }
          ],
          "histogram": [
           {
            "marker": {
             "pattern": {
              "fillmode": "overlay",
              "size": 10,
              "solidity": 0.2
             }
            },
            "type": "histogram"
           }
          ],
          "histogram2d": [
           {
            "colorbar": {
             "outlinewidth": 0,
             "ticks": ""
            },
            "colorscale": [
             [
              0,
              "#0d0887"
             ],
             [
              0.1111111111111111,
              "#46039f"
             ],
             [
              0.2222222222222222,
              "#7201a8"
             ],
             [
              0.3333333333333333,
              "#9c179e"
             ],
             [
              0.4444444444444444,
              "#bd3786"
             ],
             [
              0.5555555555555556,
              "#d8576b"
             ],
             [
              0.6666666666666666,
              "#ed7953"
             ],
             [
              0.7777777777777778,
              "#fb9f3a"
             ],
             [
              0.8888888888888888,
              "#fdca26"
             ],
             [
              1,
              "#f0f921"
             ]
            ],
            "type": "histogram2d"
           }
          ],
          "histogram2dcontour": [
           {
            "colorbar": {
             "outlinewidth": 0,
             "ticks": ""
            },
            "colorscale": [
             [
              0,
              "#0d0887"
             ],
             [
              0.1111111111111111,
              "#46039f"
             ],
             [
              0.2222222222222222,
              "#7201a8"
             ],
             [
              0.3333333333333333,
              "#9c179e"
             ],
             [
              0.4444444444444444,
              "#bd3786"
             ],
             [
              0.5555555555555556,
              "#d8576b"
             ],
             [
              0.6666666666666666,
              "#ed7953"
             ],
             [
              0.7777777777777778,
              "#fb9f3a"
             ],
             [
              0.8888888888888888,
              "#fdca26"
             ],
             [
              1,
              "#f0f921"
             ]
            ],
            "type": "histogram2dcontour"
           }
          ],
          "mesh3d": [
           {
            "colorbar": {
             "outlinewidth": 0,
             "ticks": ""
            },
            "type": "mesh3d"
           }
          ],
          "parcoords": [
           {
            "line": {
             "colorbar": {
              "outlinewidth": 0,
              "ticks": ""
             }
            },
            "type": "parcoords"
           }
          ],
          "pie": [
           {
            "automargin": true,
            "type": "pie"
           }
          ],
          "scatter": [
           {
            "marker": {
             "colorbar": {
              "outlinewidth": 0,
              "ticks": ""
             }
            },
            "type": "scatter"
           }
          ],
          "scatter3d": [
           {
            "line": {
             "colorbar": {
              "outlinewidth": 0,
              "ticks": ""
             }
            },
            "marker": {
             "colorbar": {
              "outlinewidth": 0,
              "ticks": ""
             }
            },
            "type": "scatter3d"
           }
          ],
          "scattercarpet": [
           {
            "marker": {
             "colorbar": {
              "outlinewidth": 0,
              "ticks": ""
             }
            },
            "type": "scattercarpet"
           }
          ],
          "scattergeo": [
           {
            "marker": {
             "colorbar": {
              "outlinewidth": 0,
              "ticks": ""
             }
            },
            "type": "scattergeo"
           }
          ],
          "scattergl": [
           {
            "marker": {
             "colorbar": {
              "outlinewidth": 0,
              "ticks": ""
             }
            },
            "type": "scattergl"
           }
          ],
          "scattermapbox": [
           {
            "marker": {
             "colorbar": {
              "outlinewidth": 0,
              "ticks": ""
             }
            },
            "type": "scattermapbox"
           }
          ],
          "scatterpolar": [
           {
            "marker": {
             "colorbar": {
              "outlinewidth": 0,
              "ticks": ""
             }
            },
            "type": "scatterpolar"
           }
          ],
          "scatterpolargl": [
           {
            "marker": {
             "colorbar": {
              "outlinewidth": 0,
              "ticks": ""
             }
            },
            "type": "scatterpolargl"
           }
          ],
          "scatterternary": [
           {
            "marker": {
             "colorbar": {
              "outlinewidth": 0,
              "ticks": ""
             }
            },
            "type": "scatterternary"
           }
          ],
          "surface": [
           {
            "colorbar": {
             "outlinewidth": 0,
             "ticks": ""
            },
            "colorscale": [
             [
              0,
              "#0d0887"
             ],
             [
              0.1111111111111111,
              "#46039f"
             ],
             [
              0.2222222222222222,
              "#7201a8"
             ],
             [
              0.3333333333333333,
              "#9c179e"
             ],
             [
              0.4444444444444444,
              "#bd3786"
             ],
             [
              0.5555555555555556,
              "#d8576b"
             ],
             [
              0.6666666666666666,
              "#ed7953"
             ],
             [
              0.7777777777777778,
              "#fb9f3a"
             ],
             [
              0.8888888888888888,
              "#fdca26"
             ],
             [
              1,
              "#f0f921"
             ]
            ],
            "type": "surface"
           }
          ],
          "table": [
           {
            "cells": {
             "fill": {
              "color": "#EBF0F8"
             },
             "line": {
              "color": "white"
             }
            },
            "header": {
             "fill": {
              "color": "#C8D4E3"
             },
             "line": {
              "color": "white"
             }
            },
            "type": "table"
           }
          ]
         },
         "layout": {
          "annotationdefaults": {
           "arrowcolor": "#2a3f5f",
           "arrowhead": 0,
           "arrowwidth": 1
          },
          "autotypenumbers": "strict",
          "coloraxis": {
           "colorbar": {
            "outlinewidth": 0,
            "ticks": ""
           }
          },
          "colorscale": {
           "diverging": [
            [
             0,
             "#8e0152"
            ],
            [
             0.1,
             "#c51b7d"
            ],
            [
             0.2,
             "#de77ae"
            ],
            [
             0.3,
             "#f1b6da"
            ],
            [
             0.4,
             "#fde0ef"
            ],
            [
             0.5,
             "#f7f7f7"
            ],
            [
             0.6,
             "#e6f5d0"
            ],
            [
             0.7,
             "#b8e186"
            ],
            [
             0.8,
             "#7fbc41"
            ],
            [
             0.9,
             "#4d9221"
            ],
            [
             1,
             "#276419"
            ]
           ],
           "sequential": [
            [
             0,
             "#0d0887"
            ],
            [
             0.1111111111111111,
             "#46039f"
            ],
            [
             0.2222222222222222,
             "#7201a8"
            ],
            [
             0.3333333333333333,
             "#9c179e"
            ],
            [
             0.4444444444444444,
             "#bd3786"
            ],
            [
             0.5555555555555556,
             "#d8576b"
            ],
            [
             0.6666666666666666,
             "#ed7953"
            ],
            [
             0.7777777777777778,
             "#fb9f3a"
            ],
            [
             0.8888888888888888,
             "#fdca26"
            ],
            [
             1,
             "#f0f921"
            ]
           ],
           "sequentialminus": [
            [
             0,
             "#0d0887"
            ],
            [
             0.1111111111111111,
             "#46039f"
            ],
            [
             0.2222222222222222,
             "#7201a8"
            ],
            [
             0.3333333333333333,
             "#9c179e"
            ],
            [
             0.4444444444444444,
             "#bd3786"
            ],
            [
             0.5555555555555556,
             "#d8576b"
            ],
            [
             0.6666666666666666,
             "#ed7953"
            ],
            [
             0.7777777777777778,
             "#fb9f3a"
            ],
            [
             0.8888888888888888,
             "#fdca26"
            ],
            [
             1,
             "#f0f921"
            ]
           ]
          },
          "colorway": [
           "#636efa",
           "#EF553B",
           "#00cc96",
           "#ab63fa",
           "#FFA15A",
           "#19d3f3",
           "#FF6692",
           "#B6E880",
           "#FF97FF",
           "#FECB52"
          ],
          "font": {
           "color": "#2a3f5f"
          },
          "geo": {
           "bgcolor": "white",
           "lakecolor": "white",
           "landcolor": "#E5ECF6",
           "showlakes": true,
           "showland": true,
           "subunitcolor": "white"
          },
          "hoverlabel": {
           "align": "left"
          },
          "hovermode": "closest",
          "mapbox": {
           "style": "light"
          },
          "paper_bgcolor": "white",
          "plot_bgcolor": "#E5ECF6",
          "polar": {
           "angularaxis": {
            "gridcolor": "white",
            "linecolor": "white",
            "ticks": ""
           },
           "bgcolor": "#E5ECF6",
           "radialaxis": {
            "gridcolor": "white",
            "linecolor": "white",
            "ticks": ""
           }
          },
          "scene": {
           "xaxis": {
            "backgroundcolor": "#E5ECF6",
            "gridcolor": "white",
            "gridwidth": 2,
            "linecolor": "white",
            "showbackground": true,
            "ticks": "",
            "zerolinecolor": "white"
           },
           "yaxis": {
            "backgroundcolor": "#E5ECF6",
            "gridcolor": "white",
            "gridwidth": 2,
            "linecolor": "white",
            "showbackground": true,
            "ticks": "",
            "zerolinecolor": "white"
           },
           "zaxis": {
            "backgroundcolor": "#E5ECF6",
            "gridcolor": "white",
            "gridwidth": 2,
            "linecolor": "white",
            "showbackground": true,
            "ticks": "",
            "zerolinecolor": "white"
           }
          },
          "shapedefaults": {
           "line": {
            "color": "#2a3f5f"
           }
          },
          "ternary": {
           "aaxis": {
            "gridcolor": "white",
            "linecolor": "white",
            "ticks": ""
           },
           "baxis": {
            "gridcolor": "white",
            "linecolor": "white",
            "ticks": ""
           },
           "bgcolor": "#E5ECF6",
           "caxis": {
            "gridcolor": "white",
            "linecolor": "white",
            "ticks": ""
           }
          },
          "title": {
           "x": 0.05
          },
          "xaxis": {
           "automargin": true,
           "gridcolor": "white",
           "linecolor": "white",
           "ticks": "",
           "title": {
            "standoff": 15
           },
           "zerolinecolor": "white",
           "zerolinewidth": 2
          },
          "yaxis": {
           "automargin": true,
           "gridcolor": "white",
           "linecolor": "white",
           "ticks": "",
           "title": {
            "standoff": 15
           },
           "zerolinecolor": "white",
           "zerolinewidth": 2
          }
         }
        },
        "title": {
         "text": "Affinity Propagation"
        }
       }
      },
      "text/html": [
       "<div>                            <div id=\"0bca0d25-2a02-4d9b-a228-5ca41aba3d84\" class=\"plotly-graph-div\" style=\"height:525px; width:100%;\"></div>            <script type=\"text/javascript\">                require([\"plotly\"], function(Plotly) {                    window.PLOTLYENV=window.PLOTLYENV || {};                                    if (document.getElementById(\"0bca0d25-2a02-4d9b-a228-5ca41aba3d84\")) {                    Plotly.newPlot(                        \"0bca0d25-2a02-4d9b-a228-5ca41aba3d84\",                        [{\"hovertemplate\":\"PC1=%{x}<br>PC2=%{y}<br>PC3=%{z}<br>color=%{marker.color}<extra></extra>\",\"legendgroup\":\"\",\"marker\":{\"color\":[0,1,0,0,0,1,0,0,0,0,0,0,0,1,0,1,0,0,1,0,0,0,0,0,1,1,0,1,1,1,0,1,0,0,1,1,1,0,0,0,0,1,0,1,0,0,0,0,1,0,0,1,1,0,0,1,0,0,1,0,0,0,0,1,0,0,0,1,1,1,1,1,0,0,0,0,1,0,0,0,0,1,0,0,0,1,0,1,1,0,0,1,1,0,1,1,1,1,0,1],\"coloraxis\":\"coloraxis\",\"symbol\":\"circle\"},\"mode\":\"markers\",\"name\":\"\",\"scene\":\"scene\",\"showlegend\":false,\"x\":[1.0149083392966256,-0.3130428010587717,-0.45146178939282683,0.7005507580900646,0.07257440058436636,-0.4882325056578478,-0.6568893465727057,0.6415282147133622,-0.1179576912111683,1.0873935168900546,-0.05146086994807354,-0.5740836157485354,1.2723421394364716,-0.575252193452425,0.20463061484303552,-0.451461789392827,-0.43765090726748845,-0.656889346572705,0.7398744951826123,-0.3628767305235811,1.4224486984594111,0.1514753767384692,-0.38681689153707915,-0.29715821895457295,-0.3031208959842476,-0.6123239093830027,-0.31929178214860904,-0.43052698100335873,-0.3550585485162153,-0.37575989033270984,0.2671492960514589,0.3244724043164433,-0.43200793390176206,-0.3689843727417128,0.27576893904064576,1.148069384612407,-0.46098242377386955,1.6073973210058283,-0.6682363416338494,1.4955884063198501,-0.451461789392827,-0.5342675202169963,0.25468545591337344,-0.5345727099403836,1.1139745215118753,-0.7358897080705509,1.0356059396594217,0.198413913595318,-0.6103195545466079,-0.3820967676546399,-0.19034373792075016,-0.9469402168747866,-0.20299155201169208,-0.3031208959842476,0.09460648689134596,0.6415282147133625,-0.5342675202169963,0.23817480617935138,0.6280655804966342,-0.08209673511888334,-0.22721417754569806,0.25468545591337344,-0.1162819709289515,0.6280655804966342,1.3499635208659804,-0.6590173246734197,-0.3031208959842476,-0.14654105051657978,0.004568823044083487,-0.20983272188386706,-0.27185652563282703,-0.2837713475605639,-0.46212820337450117,0.5421831401654698,-0.2255955522883314,0.6539920548514482,-0.43413817624444095,0.3646744036925476,0.18299469537208118,-0.311516349888732,-1.084257248798442,-1.1277741037899585,-0.4371402785824909,-0.342936991515787,1.0749296767519692,0.7146679225738009,1.3624273610040651,-0.8852473682935964,0.13800426129357,0.25468545591337344,-0.6568735091179451,0.5815068772580168,-0.2509211511771291,0.6539920548514482,-0.025816253729114436,-0.15379879488051196,0.6880869179519798,-0.39864147098195646,-0.5233171055715434,-0.8870203689216862],\"y\":[0.1577644064878873,0.019267901261709453,1.0081137570644738,0.006002383752602541,-0.4943517103835355,-0.7611759531438241,1.477536728450557,0.10147699258114266,-0.5915469879012744,0.03996909577661817,-0.5216886837905665,1.2085982537601738,0.04221354848981329,-0.44149042331685484,0.034460428911103666,1.008113757064473,-0.0812823985779111,1.4775367284505563,0.15550539844777259,-0.29122225246645017,-0.06774760176049505,-0.037543704713095864,-0.378549057605865,-0.5814915488340242,0.8795931193514881,-0.4561935860435776,-0.013632694635634487,-0.03285759021958937,-0.2108119375820624,0.5813805643833144,0.059690675423084226,-0.3024841771349627,-0.3605733298482958,-1.067115058385582,0.17661309022130384,0.018325449639957893,-0.3565377101250818,-0.06550314904729866,-0.25973589455053686,-0.09721085303119768,1.0081137570644734,1.2770522317548552,0.06751028055712814,-0.5413752980972327,0.09816084820041057,-0.9459556791395503,-0.10171431378450942,-0.15359480969466377,-0.16279856348639332,0.25605261738033464,0.1249191980664801,-1.2123228457254138,0.37571147478994016,0.8795931193514881,-1.242986874878973,0.10147699258114276,1.2770522317548552,0.06372629514629834,0.12379769446387366,-0.5528052239602276,-0.28878688311049855,0.06751028055712814,-0.24968118880918566,0.12379769446387366,0.050047708950776565,0.535507266507506,0.8795931193514881,0.1722063736430748,-0.6623171881201189,0.12432188653193336,0.08299376231114149,0.0817410757182372,-0.6789769739818338,0.061949683463199894,-0.1599068460197561,0.0936573874470989,0.7731705871933073,-0.8114036022428254,0.11496745404204858,0.5726860904976069,-0.2711626084640894,-0.07555197536364382,-0.23879138518171508,0.8111391413568064,0.04778870091066093,0.07201374131043972,0.0422281038167327,0.18356541020321976,0.05352964916992127,0.06751028055712814,-0.7091104923077988,0.21145269815837006,0.013302258206746884,0.0936573874470989,-0.4381587751920797,-0.6063698884095213,0.01382198888664633,-0.33914798195357015,-0.43649520028610955,-1.0993278500240786],\"z\":[-0.520467926686968,-0.12652132712289557,0.28101904183476245,-0.05644189483094558,0.8359163381037934,0.476577970194797,0.4248229145627804,0.08923143306461133,0.01325008975439689,-0.20652610165098642,-0.5453094586272011,0.27408699097096056,-0.19040895138279318,-0.5777455821592077,-0.8002907841007966,0.2810190418347623,-0.5023256212769788,0.42482291456278004,-0.5032729076326224,-0.2157229972951423,0.029965855972844707,0.34368965820480346,0.16254683694809105,-0.8152221872264273,0.37516661651741934,-0.2108435266257632,-0.13501212200379967,-0.9220030456215491,-0.1168926323931191,-0.17178975119387876,0.2995704882424566,0.6317754617756468,-0.38892926466027533,0.8263038616689081,-0.3246117262380942,-0.11777461197490087,-0.4439017019839333,0.04608300624103846,-0.46452589856542964,0.1789721940067347,0.2810190418347624,0.43175496542658204,0.23931563988465282,0.07024543700400525,0.14840841263626411,0.47033584892405406,0.18005006279288607,0.6626924182906491,-0.8185173384926676,-0.6285616535700705,-0.44842333534113515,0.47786847203201654,-0.004108368602980793,0.37516661651741934,1.1425432065253804,0.08923143306461155,0.43175496542658204,0.24459805091879896,-0.3703837198669265,0.4488870572225543,0.341734998864806,0.23931563988465282,-0.8440540004098899,-0.3703837198669265,-0.283975969063136,0.3881624355571157,0.37516661651741934,-0.08009698707669632,-0.18383685139553552,-0.23089534544304544,-0.14926820829996487,-0.19702144176961392,0.4360805231067688,0.2823754691881116,0.11682639531074722,0.14948628142241527,0.05247998030618198,1.0889754878378863,0.09259656846605475,0.05941203116998368,-0.3635787591400758,-0.9686162731460941,0.17974667239897152,0.21749864206179786,-0.2667809500087907,0.23823777109850136,-0.22372112070533198,-0.7606989935482324,-0.9820604521560773,0.23931563988465282,0.36330202881602036,-0.16445554361356546,-0.0672950102420444,0.14948628142241527,-0.5859341642681556,0.15498051262352142,-0.11669674318874944,0.24508970734483027,0.3562672210256728,0.010675723198081237],\"type\":\"scatter3d\"}],                        {\"template\":{\"data\":{\"bar\":[{\"error_x\":{\"color\":\"#2a3f5f\"},\"error_y\":{\"color\":\"#2a3f5f\"},\"marker\":{\"line\":{\"color\":\"#E5ECF6\",\"width\":0.5},\"pattern\":{\"fillmode\":\"overlay\",\"size\":10,\"solidity\":0.2}},\"type\":\"bar\"}],\"barpolar\":[{\"marker\":{\"line\":{\"color\":\"#E5ECF6\",\"width\":0.5},\"pattern\":{\"fillmode\":\"overlay\",\"size\":10,\"solidity\":0.2}},\"type\":\"barpolar\"}],\"carpet\":[{\"aaxis\":{\"endlinecolor\":\"#2a3f5f\",\"gridcolor\":\"white\",\"linecolor\":\"white\",\"minorgridcolor\":\"white\",\"startlinecolor\":\"#2a3f5f\"},\"baxis\":{\"endlinecolor\":\"#2a3f5f\",\"gridcolor\":\"white\",\"linecolor\":\"white\",\"minorgridcolor\":\"white\",\"startlinecolor\":\"#2a3f5f\"},\"type\":\"carpet\"}],\"choropleth\":[{\"colorbar\":{\"outlinewidth\":0,\"ticks\":\"\"},\"type\":\"choropleth\"}],\"contour\":[{\"colorbar\":{\"outlinewidth\":0,\"ticks\":\"\"},\"colorscale\":[[0.0,\"#0d0887\"],[0.1111111111111111,\"#46039f\"],[0.2222222222222222,\"#7201a8\"],[0.3333333333333333,\"#9c179e\"],[0.4444444444444444,\"#bd3786\"],[0.5555555555555556,\"#d8576b\"],[0.6666666666666666,\"#ed7953\"],[0.7777777777777778,\"#fb9f3a\"],[0.8888888888888888,\"#fdca26\"],[1.0,\"#f0f921\"]],\"type\":\"contour\"}],\"contourcarpet\":[{\"colorbar\":{\"outlinewidth\":0,\"ticks\":\"\"},\"type\":\"contourcarpet\"}],\"heatmap\":[{\"colorbar\":{\"outlinewidth\":0,\"ticks\":\"\"},\"colorscale\":[[0.0,\"#0d0887\"],[0.1111111111111111,\"#46039f\"],[0.2222222222222222,\"#7201a8\"],[0.3333333333333333,\"#9c179e\"],[0.4444444444444444,\"#bd3786\"],[0.5555555555555556,\"#d8576b\"],[0.6666666666666666,\"#ed7953\"],[0.7777777777777778,\"#fb9f3a\"],[0.8888888888888888,\"#fdca26\"],[1.0,\"#f0f921\"]],\"type\":\"heatmap\"}],\"heatmapgl\":[{\"colorbar\":{\"outlinewidth\":0,\"ticks\":\"\"},\"colorscale\":[[0.0,\"#0d0887\"],[0.1111111111111111,\"#46039f\"],[0.2222222222222222,\"#7201a8\"],[0.3333333333333333,\"#9c179e\"],[0.4444444444444444,\"#bd3786\"],[0.5555555555555556,\"#d8576b\"],[0.6666666666666666,\"#ed7953\"],[0.7777777777777778,\"#fb9f3a\"],[0.8888888888888888,\"#fdca26\"],[1.0,\"#f0f921\"]],\"type\":\"heatmapgl\"}],\"histogram\":[{\"marker\":{\"pattern\":{\"fillmode\":\"overlay\",\"size\":10,\"solidity\":0.2}},\"type\":\"histogram\"}],\"histogram2d\":[{\"colorbar\":{\"outlinewidth\":0,\"ticks\":\"\"},\"colorscale\":[[0.0,\"#0d0887\"],[0.1111111111111111,\"#46039f\"],[0.2222222222222222,\"#7201a8\"],[0.3333333333333333,\"#9c179e\"],[0.4444444444444444,\"#bd3786\"],[0.5555555555555556,\"#d8576b\"],[0.6666666666666666,\"#ed7953\"],[0.7777777777777778,\"#fb9f3a\"],[0.8888888888888888,\"#fdca26\"],[1.0,\"#f0f921\"]],\"type\":\"histogram2d\"}],\"histogram2dcontour\":[{\"colorbar\":{\"outlinewidth\":0,\"ticks\":\"\"},\"colorscale\":[[0.0,\"#0d0887\"],[0.1111111111111111,\"#46039f\"],[0.2222222222222222,\"#7201a8\"],[0.3333333333333333,\"#9c179e\"],[0.4444444444444444,\"#bd3786\"],[0.5555555555555556,\"#d8576b\"],[0.6666666666666666,\"#ed7953\"],[0.7777777777777778,\"#fb9f3a\"],[0.8888888888888888,\"#fdca26\"],[1.0,\"#f0f921\"]],\"type\":\"histogram2dcontour\"}],\"mesh3d\":[{\"colorbar\":{\"outlinewidth\":0,\"ticks\":\"\"},\"type\":\"mesh3d\"}],\"parcoords\":[{\"line\":{\"colorbar\":{\"outlinewidth\":0,\"ticks\":\"\"}},\"type\":\"parcoords\"}],\"pie\":[{\"automargin\":true,\"type\":\"pie\"}],\"scatter\":[{\"marker\":{\"colorbar\":{\"outlinewidth\":0,\"ticks\":\"\"}},\"type\":\"scatter\"}],\"scatter3d\":[{\"line\":{\"colorbar\":{\"outlinewidth\":0,\"ticks\":\"\"}},\"marker\":{\"colorbar\":{\"outlinewidth\":0,\"ticks\":\"\"}},\"type\":\"scatter3d\"}],\"scattercarpet\":[{\"marker\":{\"colorbar\":{\"outlinewidth\":0,\"ticks\":\"\"}},\"type\":\"scattercarpet\"}],\"scattergeo\":[{\"marker\":{\"colorbar\":{\"outlinewidth\":0,\"ticks\":\"\"}},\"type\":\"scattergeo\"}],\"scattergl\":[{\"marker\":{\"colorbar\":{\"outlinewidth\":0,\"ticks\":\"\"}},\"type\":\"scattergl\"}],\"scattermapbox\":[{\"marker\":{\"colorbar\":{\"outlinewidth\":0,\"ticks\":\"\"}},\"type\":\"scattermapbox\"}],\"scatterpolar\":[{\"marker\":{\"colorbar\":{\"outlinewidth\":0,\"ticks\":\"\"}},\"type\":\"scatterpolar\"}],\"scatterpolargl\":[{\"marker\":{\"colorbar\":{\"outlinewidth\":0,\"ticks\":\"\"}},\"type\":\"scatterpolargl\"}],\"scatterternary\":[{\"marker\":{\"colorbar\":{\"outlinewidth\":0,\"ticks\":\"\"}},\"type\":\"scatterternary\"}],\"surface\":[{\"colorbar\":{\"outlinewidth\":0,\"ticks\":\"\"},\"colorscale\":[[0.0,\"#0d0887\"],[0.1111111111111111,\"#46039f\"],[0.2222222222222222,\"#7201a8\"],[0.3333333333333333,\"#9c179e\"],[0.4444444444444444,\"#bd3786\"],[0.5555555555555556,\"#d8576b\"],[0.6666666666666666,\"#ed7953\"],[0.7777777777777778,\"#fb9f3a\"],[0.8888888888888888,\"#fdca26\"],[1.0,\"#f0f921\"]],\"type\":\"surface\"}],\"table\":[{\"cells\":{\"fill\":{\"color\":\"#EBF0F8\"},\"line\":{\"color\":\"white\"}},\"header\":{\"fill\":{\"color\":\"#C8D4E3\"},\"line\":{\"color\":\"white\"}},\"type\":\"table\"}]},\"layout\":{\"annotationdefaults\":{\"arrowcolor\":\"#2a3f5f\",\"arrowhead\":0,\"arrowwidth\":1},\"autotypenumbers\":\"strict\",\"coloraxis\":{\"colorbar\":{\"outlinewidth\":0,\"ticks\":\"\"}},\"colorscale\":{\"diverging\":[[0,\"#8e0152\"],[0.1,\"#c51b7d\"],[0.2,\"#de77ae\"],[0.3,\"#f1b6da\"],[0.4,\"#fde0ef\"],[0.5,\"#f7f7f7\"],[0.6,\"#e6f5d0\"],[0.7,\"#b8e186\"],[0.8,\"#7fbc41\"],[0.9,\"#4d9221\"],[1,\"#276419\"]],\"sequential\":[[0.0,\"#0d0887\"],[0.1111111111111111,\"#46039f\"],[0.2222222222222222,\"#7201a8\"],[0.3333333333333333,\"#9c179e\"],[0.4444444444444444,\"#bd3786\"],[0.5555555555555556,\"#d8576b\"],[0.6666666666666666,\"#ed7953\"],[0.7777777777777778,\"#fb9f3a\"],[0.8888888888888888,\"#fdca26\"],[1.0,\"#f0f921\"]],\"sequentialminus\":[[0.0,\"#0d0887\"],[0.1111111111111111,\"#46039f\"],[0.2222222222222222,\"#7201a8\"],[0.3333333333333333,\"#9c179e\"],[0.4444444444444444,\"#bd3786\"],[0.5555555555555556,\"#d8576b\"],[0.6666666666666666,\"#ed7953\"],[0.7777777777777778,\"#fb9f3a\"],[0.8888888888888888,\"#fdca26\"],[1.0,\"#f0f921\"]]},\"colorway\":[\"#636efa\",\"#EF553B\",\"#00cc96\",\"#ab63fa\",\"#FFA15A\",\"#19d3f3\",\"#FF6692\",\"#B6E880\",\"#FF97FF\",\"#FECB52\"],\"font\":{\"color\":\"#2a3f5f\"},\"geo\":{\"bgcolor\":\"white\",\"lakecolor\":\"white\",\"landcolor\":\"#E5ECF6\",\"showlakes\":true,\"showland\":true,\"subunitcolor\":\"white\"},\"hoverlabel\":{\"align\":\"left\"},\"hovermode\":\"closest\",\"mapbox\":{\"style\":\"light\"},\"paper_bgcolor\":\"white\",\"plot_bgcolor\":\"#E5ECF6\",\"polar\":{\"angularaxis\":{\"gridcolor\":\"white\",\"linecolor\":\"white\",\"ticks\":\"\"},\"bgcolor\":\"#E5ECF6\",\"radialaxis\":{\"gridcolor\":\"white\",\"linecolor\":\"white\",\"ticks\":\"\"}},\"scene\":{\"xaxis\":{\"backgroundcolor\":\"#E5ECF6\",\"gridcolor\":\"white\",\"gridwidth\":2,\"linecolor\":\"white\",\"showbackground\":true,\"ticks\":\"\",\"zerolinecolor\":\"white\"},\"yaxis\":{\"backgroundcolor\":\"#E5ECF6\",\"gridcolor\":\"white\",\"gridwidth\":2,\"linecolor\":\"white\",\"showbackground\":true,\"ticks\":\"\",\"zerolinecolor\":\"white\"},\"zaxis\":{\"backgroundcolor\":\"#E5ECF6\",\"gridcolor\":\"white\",\"gridwidth\":2,\"linecolor\":\"white\",\"showbackground\":true,\"ticks\":\"\",\"zerolinecolor\":\"white\"}},\"shapedefaults\":{\"line\":{\"color\":\"#2a3f5f\"}},\"ternary\":{\"aaxis\":{\"gridcolor\":\"white\",\"linecolor\":\"white\",\"ticks\":\"\"},\"baxis\":{\"gridcolor\":\"white\",\"linecolor\":\"white\",\"ticks\":\"\"},\"bgcolor\":\"#E5ECF6\",\"caxis\":{\"gridcolor\":\"white\",\"linecolor\":\"white\",\"ticks\":\"\"}},\"title\":{\"x\":0.05},\"xaxis\":{\"automargin\":true,\"gridcolor\":\"white\",\"linecolor\":\"white\",\"ticks\":\"\",\"title\":{\"standoff\":15},\"zerolinecolor\":\"white\",\"zerolinewidth\":2},\"yaxis\":{\"automargin\":true,\"gridcolor\":\"white\",\"linecolor\":\"white\",\"ticks\":\"\",\"title\":{\"standoff\":15},\"zerolinecolor\":\"white\",\"zerolinewidth\":2}}},\"scene\":{\"domain\":{\"x\":[0.0,1.0],\"y\":[0.0,1.0]},\"xaxis\":{\"title\":{\"text\":\"PC1\"}},\"yaxis\":{\"title\":{\"text\":\"PC2\"}},\"zaxis\":{\"title\":{\"text\":\"PC3\"}}},\"coloraxis\":{\"colorbar\":{\"title\":{\"text\":\"color\"}},\"colorscale\":[[0.0,\"#0d0887\"],[0.1111111111111111,\"#46039f\"],[0.2222222222222222,\"#7201a8\"],[0.3333333333333333,\"#9c179e\"],[0.4444444444444444,\"#bd3786\"],[0.5555555555555556,\"#d8576b\"],[0.6666666666666666,\"#ed7953\"],[0.7777777777777778,\"#fb9f3a\"],[0.8888888888888888,\"#fdca26\"],[1.0,\"#f0f921\"]]},\"legend\":{\"tracegroupgap\":0},\"title\":{\"text\":\"Affinity Propagation\"}},                        {\"responsive\": true}                    ).then(function(){\n",
       "                            \n",
       "var gd = document.getElementById('0bca0d25-2a02-4d9b-a228-5ca41aba3d84');\n",
       "var x = new MutationObserver(function (mutations, observer) {{\n",
       "        var display = window.getComputedStyle(gd).display;\n",
       "        if (!display || display === 'none') {{\n",
       "            console.log([gd, 'removed!']);\n",
       "            Plotly.purge(gd);\n",
       "            observer.disconnect();\n",
       "        }}\n",
       "}});\n",
       "\n",
       "// Listen for the removal of the full notebook cells\n",
       "var notebookContainer = gd.closest('#notebook-container');\n",
       "if (notebookContainer) {{\n",
       "    x.observe(notebookContainer, {childList: true});\n",
       "}}\n",
       "\n",
       "// Listen for the clearing of the current output cell\n",
       "var outputEl = gd.closest('.output');\n",
       "if (outputEl) {{\n",
       "    x.observe(outputEl, {childList: true});\n",
       "}}\n",
       "\n",
       "                        })                };                });            </script>        </div>"
      ]
     },
     "metadata": {},
     "output_type": "display_data"
    },
    {
     "data": {
      "application/vnd.plotly.v1+json": {
       "config": {
        "plotlyServerURL": "https://plot.ly"
       },
       "data": [
        {
         "hovertemplate": "PC1=%{x}<br>PC2=%{y}<br>PC3=%{z}<br>color=%{marker.color}<extra></extra>",
         "legendgroup": "",
         "marker": {
          "color": [
           0,
           2,
           1,
           0,
           2,
           2,
           1,
           0,
           2,
           0,
           2,
           1,
           0,
           2,
           0,
           1,
           2,
           1,
           0,
           2,
           0,
           2,
           2,
           2,
           1,
           2,
           2,
           2,
           2,
           1,
           0,
           0,
           2,
           2,
           0,
           0,
           2,
           0,
           2,
           0,
           1,
           1,
           2,
           2,
           0,
           2,
           0,
           0,
           2,
           2,
           2,
           2,
           2,
           1,
           2,
           0,
           1,
           0,
           0,
           2,
           2,
           2,
           2,
           0,
           0,
           1,
           1,
           2,
           2,
           2,
           2,
           2,
           2,
           0,
           2,
           0,
           1,
           2,
           0,
           1,
           2,
           2,
           2,
           1,
           0,
           0,
           0,
           2,
           2,
           2,
           2,
           0,
           2,
           0,
           2,
           2,
           0,
           2,
           2,
           2
          ],
          "coloraxis": "coloraxis",
          "symbol": "circle"
         },
         "mode": "markers",
         "name": "",
         "scene": "scene",
         "showlegend": false,
         "type": "scatter3d",
         "x": [
          1.0149083392966256,
          -0.3130428010587717,
          -0.45146178939282683,
          0.7005507580900646,
          0.07257440058436636,
          -0.4882325056578478,
          -0.6568893465727057,
          0.6415282147133622,
          -0.1179576912111683,
          1.0873935168900546,
          -0.05146086994807354,
          -0.5740836157485354,
          1.2723421394364716,
          -0.575252193452425,
          0.20463061484303552,
          -0.451461789392827,
          -0.43765090726748845,
          -0.656889346572705,
          0.7398744951826123,
          -0.3628767305235811,
          1.4224486984594111,
          0.1514753767384692,
          -0.38681689153707915,
          -0.29715821895457295,
          -0.3031208959842476,
          -0.6123239093830027,
          -0.31929178214860904,
          -0.43052698100335873,
          -0.3550585485162153,
          -0.37575989033270984,
          0.2671492960514589,
          0.3244724043164433,
          -0.43200793390176206,
          -0.3689843727417128,
          0.27576893904064576,
          1.148069384612407,
          -0.46098242377386955,
          1.6073973210058283,
          -0.6682363416338494,
          1.4955884063198501,
          -0.451461789392827,
          -0.5342675202169963,
          0.25468545591337344,
          -0.5345727099403836,
          1.1139745215118753,
          -0.7358897080705509,
          1.0356059396594217,
          0.198413913595318,
          -0.6103195545466079,
          -0.3820967676546399,
          -0.19034373792075016,
          -0.9469402168747866,
          -0.20299155201169208,
          -0.3031208959842476,
          0.09460648689134596,
          0.6415282147133625,
          -0.5342675202169963,
          0.23817480617935138,
          0.6280655804966342,
          -0.08209673511888334,
          -0.22721417754569806,
          0.25468545591337344,
          -0.1162819709289515,
          0.6280655804966342,
          1.3499635208659804,
          -0.6590173246734197,
          -0.3031208959842476,
          -0.14654105051657978,
          0.004568823044083487,
          -0.20983272188386706,
          -0.27185652563282703,
          -0.2837713475605639,
          -0.46212820337450117,
          0.5421831401654698,
          -0.2255955522883314,
          0.6539920548514482,
          -0.43413817624444095,
          0.3646744036925476,
          0.18299469537208118,
          -0.311516349888732,
          -1.084257248798442,
          -1.1277741037899585,
          -0.4371402785824909,
          -0.342936991515787,
          1.0749296767519692,
          0.7146679225738009,
          1.3624273610040651,
          -0.8852473682935964,
          0.13800426129357,
          0.25468545591337344,
          -0.6568735091179451,
          0.5815068772580168,
          -0.2509211511771291,
          0.6539920548514482,
          -0.025816253729114436,
          -0.15379879488051196,
          0.6880869179519798,
          -0.39864147098195646,
          -0.5233171055715434,
          -0.8870203689216862
         ],
         "y": [
          0.1577644064878873,
          0.019267901261709453,
          1.0081137570644738,
          0.006002383752602541,
          -0.4943517103835355,
          -0.7611759531438241,
          1.477536728450557,
          0.10147699258114266,
          -0.5915469879012744,
          0.03996909577661817,
          -0.5216886837905665,
          1.2085982537601738,
          0.04221354848981329,
          -0.44149042331685484,
          0.034460428911103666,
          1.008113757064473,
          -0.0812823985779111,
          1.4775367284505563,
          0.15550539844777259,
          -0.29122225246645017,
          -0.06774760176049505,
          -0.037543704713095864,
          -0.378549057605865,
          -0.5814915488340242,
          0.8795931193514881,
          -0.4561935860435776,
          -0.013632694635634487,
          -0.03285759021958937,
          -0.2108119375820624,
          0.5813805643833144,
          0.059690675423084226,
          -0.3024841771349627,
          -0.3605733298482958,
          -1.067115058385582,
          0.17661309022130384,
          0.018325449639957893,
          -0.3565377101250818,
          -0.06550314904729866,
          -0.25973589455053686,
          -0.09721085303119768,
          1.0081137570644734,
          1.2770522317548552,
          0.06751028055712814,
          -0.5413752980972327,
          0.09816084820041057,
          -0.9459556791395503,
          -0.10171431378450942,
          -0.15359480969466377,
          -0.16279856348639332,
          0.25605261738033464,
          0.1249191980664801,
          -1.2123228457254138,
          0.37571147478994016,
          0.8795931193514881,
          -1.242986874878973,
          0.10147699258114276,
          1.2770522317548552,
          0.06372629514629834,
          0.12379769446387366,
          -0.5528052239602276,
          -0.28878688311049855,
          0.06751028055712814,
          -0.24968118880918566,
          0.12379769446387366,
          0.050047708950776565,
          0.535507266507506,
          0.8795931193514881,
          0.1722063736430748,
          -0.6623171881201189,
          0.12432188653193336,
          0.08299376231114149,
          0.0817410757182372,
          -0.6789769739818338,
          0.061949683463199894,
          -0.1599068460197561,
          0.0936573874470989,
          0.7731705871933073,
          -0.8114036022428254,
          0.11496745404204858,
          0.5726860904976069,
          -0.2711626084640894,
          -0.07555197536364382,
          -0.23879138518171508,
          0.8111391413568064,
          0.04778870091066093,
          0.07201374131043972,
          0.0422281038167327,
          0.18356541020321976,
          0.05352964916992127,
          0.06751028055712814,
          -0.7091104923077988,
          0.21145269815837006,
          0.013302258206746884,
          0.0936573874470989,
          -0.4381587751920797,
          -0.6063698884095213,
          0.01382198888664633,
          -0.33914798195357015,
          -0.43649520028610955,
          -1.0993278500240786
         ],
         "z": [
          -0.520467926686968,
          -0.12652132712289557,
          0.28101904183476245,
          -0.05644189483094558,
          0.8359163381037934,
          0.476577970194797,
          0.4248229145627804,
          0.08923143306461133,
          0.01325008975439689,
          -0.20652610165098642,
          -0.5453094586272011,
          0.27408699097096056,
          -0.19040895138279318,
          -0.5777455821592077,
          -0.8002907841007966,
          0.2810190418347623,
          -0.5023256212769788,
          0.42482291456278004,
          -0.5032729076326224,
          -0.2157229972951423,
          0.029965855972844707,
          0.34368965820480346,
          0.16254683694809105,
          -0.8152221872264273,
          0.37516661651741934,
          -0.2108435266257632,
          -0.13501212200379967,
          -0.9220030456215491,
          -0.1168926323931191,
          -0.17178975119387876,
          0.2995704882424566,
          0.6317754617756468,
          -0.38892926466027533,
          0.8263038616689081,
          -0.3246117262380942,
          -0.11777461197490087,
          -0.4439017019839333,
          0.04608300624103846,
          -0.46452589856542964,
          0.1789721940067347,
          0.2810190418347624,
          0.43175496542658204,
          0.23931563988465282,
          0.07024543700400525,
          0.14840841263626411,
          0.47033584892405406,
          0.18005006279288607,
          0.6626924182906491,
          -0.8185173384926676,
          -0.6285616535700705,
          -0.44842333534113515,
          0.47786847203201654,
          -0.004108368602980793,
          0.37516661651741934,
          1.1425432065253804,
          0.08923143306461155,
          0.43175496542658204,
          0.24459805091879896,
          -0.3703837198669265,
          0.4488870572225543,
          0.341734998864806,
          0.23931563988465282,
          -0.8440540004098899,
          -0.3703837198669265,
          -0.283975969063136,
          0.3881624355571157,
          0.37516661651741934,
          -0.08009698707669632,
          -0.18383685139553552,
          -0.23089534544304544,
          -0.14926820829996487,
          -0.19702144176961392,
          0.4360805231067688,
          0.2823754691881116,
          0.11682639531074722,
          0.14948628142241527,
          0.05247998030618198,
          1.0889754878378863,
          0.09259656846605475,
          0.05941203116998368,
          -0.3635787591400758,
          -0.9686162731460941,
          0.17974667239897152,
          0.21749864206179786,
          -0.2667809500087907,
          0.23823777109850136,
          -0.22372112070533198,
          -0.7606989935482324,
          -0.9820604521560773,
          0.23931563988465282,
          0.36330202881602036,
          -0.16445554361356546,
          -0.0672950102420444,
          0.14948628142241527,
          -0.5859341642681556,
          0.15498051262352142,
          -0.11669674318874944,
          0.24508970734483027,
          0.3562672210256728,
          0.010675723198081237
         ]
        }
       ],
       "layout": {
        "coloraxis": {
         "colorbar": {
          "title": {
           "text": "color"
          }
         },
         "colorscale": [
          [
           0,
           "#0d0887"
          ],
          [
           0.1111111111111111,
           "#46039f"
          ],
          [
           0.2222222222222222,
           "#7201a8"
          ],
          [
           0.3333333333333333,
           "#9c179e"
          ],
          [
           0.4444444444444444,
           "#bd3786"
          ],
          [
           0.5555555555555556,
           "#d8576b"
          ],
          [
           0.6666666666666666,
           "#ed7953"
          ],
          [
           0.7777777777777778,
           "#fb9f3a"
          ],
          [
           0.8888888888888888,
           "#fdca26"
          ],
          [
           1,
           "#f0f921"
          ]
         ]
        },
        "legend": {
         "tracegroupgap": 0
        },
        "scene": {
         "domain": {
          "x": [
           0,
           1
          ],
          "y": [
           0,
           1
          ]
         },
         "xaxis": {
          "title": {
           "text": "PC1"
          }
         },
         "yaxis": {
          "title": {
           "text": "PC2"
          }
         },
         "zaxis": {
          "title": {
           "text": "PC3"
          }
         }
        },
        "template": {
         "data": {
          "bar": [
           {
            "error_x": {
             "color": "#2a3f5f"
            },
            "error_y": {
             "color": "#2a3f5f"
            },
            "marker": {
             "line": {
              "color": "#E5ECF6",
              "width": 0.5
             },
             "pattern": {
              "fillmode": "overlay",
              "size": 10,
              "solidity": 0.2
             }
            },
            "type": "bar"
           }
          ],
          "barpolar": [
           {
            "marker": {
             "line": {
              "color": "#E5ECF6",
              "width": 0.5
             },
             "pattern": {
              "fillmode": "overlay",
              "size": 10,
              "solidity": 0.2
             }
            },
            "type": "barpolar"
           }
          ],
          "carpet": [
           {
            "aaxis": {
             "endlinecolor": "#2a3f5f",
             "gridcolor": "white",
             "linecolor": "white",
             "minorgridcolor": "white",
             "startlinecolor": "#2a3f5f"
            },
            "baxis": {
             "endlinecolor": "#2a3f5f",
             "gridcolor": "white",
             "linecolor": "white",
             "minorgridcolor": "white",
             "startlinecolor": "#2a3f5f"
            },
            "type": "carpet"
           }
          ],
          "choropleth": [
           {
            "colorbar": {
             "outlinewidth": 0,
             "ticks": ""
            },
            "type": "choropleth"
           }
          ],
          "contour": [
           {
            "colorbar": {
             "outlinewidth": 0,
             "ticks": ""
            },
            "colorscale": [
             [
              0,
              "#0d0887"
             ],
             [
              0.1111111111111111,
              "#46039f"
             ],
             [
              0.2222222222222222,
              "#7201a8"
             ],
             [
              0.3333333333333333,
              "#9c179e"
             ],
             [
              0.4444444444444444,
              "#bd3786"
             ],
             [
              0.5555555555555556,
              "#d8576b"
             ],
             [
              0.6666666666666666,
              "#ed7953"
             ],
             [
              0.7777777777777778,
              "#fb9f3a"
             ],
             [
              0.8888888888888888,
              "#fdca26"
             ],
             [
              1,
              "#f0f921"
             ]
            ],
            "type": "contour"
           }
          ],
          "contourcarpet": [
           {
            "colorbar": {
             "outlinewidth": 0,
             "ticks": ""
            },
            "type": "contourcarpet"
           }
          ],
          "heatmap": [
           {
            "colorbar": {
             "outlinewidth": 0,
             "ticks": ""
            },
            "colorscale": [
             [
              0,
              "#0d0887"
             ],
             [
              0.1111111111111111,
              "#46039f"
             ],
             [
              0.2222222222222222,
              "#7201a8"
             ],
             [
              0.3333333333333333,
              "#9c179e"
             ],
             [
              0.4444444444444444,
              "#bd3786"
             ],
             [
              0.5555555555555556,
              "#d8576b"
             ],
             [
              0.6666666666666666,
              "#ed7953"
             ],
             [
              0.7777777777777778,
              "#fb9f3a"
             ],
             [
              0.8888888888888888,
              "#fdca26"
             ],
             [
              1,
              "#f0f921"
             ]
            ],
            "type": "heatmap"
           }
          ],
          "heatmapgl": [
           {
            "colorbar": {
             "outlinewidth": 0,
             "ticks": ""
            },
            "colorscale": [
             [
              0,
              "#0d0887"
             ],
             [
              0.1111111111111111,
              "#46039f"
             ],
             [
              0.2222222222222222,
              "#7201a8"
             ],
             [
              0.3333333333333333,
              "#9c179e"
             ],
             [
              0.4444444444444444,
              "#bd3786"
             ],
             [
              0.5555555555555556,
              "#d8576b"
             ],
             [
              0.6666666666666666,
              "#ed7953"
             ],
             [
              0.7777777777777778,
              "#fb9f3a"
             ],
             [
              0.8888888888888888,
              "#fdca26"
             ],
             [
              1,
              "#f0f921"
             ]
            ],
            "type": "heatmapgl"
           }
          ],
          "histogram": [
           {
            "marker": {
             "pattern": {
              "fillmode": "overlay",
              "size": 10,
              "solidity": 0.2
             }
            },
            "type": "histogram"
           }
          ],
          "histogram2d": [
           {
            "colorbar": {
             "outlinewidth": 0,
             "ticks": ""
            },
            "colorscale": [
             [
              0,
              "#0d0887"
             ],
             [
              0.1111111111111111,
              "#46039f"
             ],
             [
              0.2222222222222222,
              "#7201a8"
             ],
             [
              0.3333333333333333,
              "#9c179e"
             ],
             [
              0.4444444444444444,
              "#bd3786"
             ],
             [
              0.5555555555555556,
              "#d8576b"
             ],
             [
              0.6666666666666666,
              "#ed7953"
             ],
             [
              0.7777777777777778,
              "#fb9f3a"
             ],
             [
              0.8888888888888888,
              "#fdca26"
             ],
             [
              1,
              "#f0f921"
             ]
            ],
            "type": "histogram2d"
           }
          ],
          "histogram2dcontour": [
           {
            "colorbar": {
             "outlinewidth": 0,
             "ticks": ""
            },
            "colorscale": [
             [
              0,
              "#0d0887"
             ],
             [
              0.1111111111111111,
              "#46039f"
             ],
             [
              0.2222222222222222,
              "#7201a8"
             ],
             [
              0.3333333333333333,
              "#9c179e"
             ],
             [
              0.4444444444444444,
              "#bd3786"
             ],
             [
              0.5555555555555556,
              "#d8576b"
             ],
             [
              0.6666666666666666,
              "#ed7953"
             ],
             [
              0.7777777777777778,
              "#fb9f3a"
             ],
             [
              0.8888888888888888,
              "#fdca26"
             ],
             [
              1,
              "#f0f921"
             ]
            ],
            "type": "histogram2dcontour"
           }
          ],
          "mesh3d": [
           {
            "colorbar": {
             "outlinewidth": 0,
             "ticks": ""
            },
            "type": "mesh3d"
           }
          ],
          "parcoords": [
           {
            "line": {
             "colorbar": {
              "outlinewidth": 0,
              "ticks": ""
             }
            },
            "type": "parcoords"
           }
          ],
          "pie": [
           {
            "automargin": true,
            "type": "pie"
           }
          ],
          "scatter": [
           {
            "marker": {
             "colorbar": {
              "outlinewidth": 0,
              "ticks": ""
             }
            },
            "type": "scatter"
           }
          ],
          "scatter3d": [
           {
            "line": {
             "colorbar": {
              "outlinewidth": 0,
              "ticks": ""
             }
            },
            "marker": {
             "colorbar": {
              "outlinewidth": 0,
              "ticks": ""
             }
            },
            "type": "scatter3d"
           }
          ],
          "scattercarpet": [
           {
            "marker": {
             "colorbar": {
              "outlinewidth": 0,
              "ticks": ""
             }
            },
            "type": "scattercarpet"
           }
          ],
          "scattergeo": [
           {
            "marker": {
             "colorbar": {
              "outlinewidth": 0,
              "ticks": ""
             }
            },
            "type": "scattergeo"
           }
          ],
          "scattergl": [
           {
            "marker": {
             "colorbar": {
              "outlinewidth": 0,
              "ticks": ""
             }
            },
            "type": "scattergl"
           }
          ],
          "scattermapbox": [
           {
            "marker": {
             "colorbar": {
              "outlinewidth": 0,
              "ticks": ""
             }
            },
            "type": "scattermapbox"
           }
          ],
          "scatterpolar": [
           {
            "marker": {
             "colorbar": {
              "outlinewidth": 0,
              "ticks": ""
             }
            },
            "type": "scatterpolar"
           }
          ],
          "scatterpolargl": [
           {
            "marker": {
             "colorbar": {
              "outlinewidth": 0,
              "ticks": ""
             }
            },
            "type": "scatterpolargl"
           }
          ],
          "scatterternary": [
           {
            "marker": {
             "colorbar": {
              "outlinewidth": 0,
              "ticks": ""
             }
            },
            "type": "scatterternary"
           }
          ],
          "surface": [
           {
            "colorbar": {
             "outlinewidth": 0,
             "ticks": ""
            },
            "colorscale": [
             [
              0,
              "#0d0887"
             ],
             [
              0.1111111111111111,
              "#46039f"
             ],
             [
              0.2222222222222222,
              "#7201a8"
             ],
             [
              0.3333333333333333,
              "#9c179e"
             ],
             [
              0.4444444444444444,
              "#bd3786"
             ],
             [
              0.5555555555555556,
              "#d8576b"
             ],
             [
              0.6666666666666666,
              "#ed7953"
             ],
             [
              0.7777777777777778,
              "#fb9f3a"
             ],
             [
              0.8888888888888888,
              "#fdca26"
             ],
             [
              1,
              "#f0f921"
             ]
            ],
            "type": "surface"
           }
          ],
          "table": [
           {
            "cells": {
             "fill": {
              "color": "#EBF0F8"
             },
             "line": {
              "color": "white"
             }
            },
            "header": {
             "fill": {
              "color": "#C8D4E3"
             },
             "line": {
              "color": "white"
             }
            },
            "type": "table"
           }
          ]
         },
         "layout": {
          "annotationdefaults": {
           "arrowcolor": "#2a3f5f",
           "arrowhead": 0,
           "arrowwidth": 1
          },
          "autotypenumbers": "strict",
          "coloraxis": {
           "colorbar": {
            "outlinewidth": 0,
            "ticks": ""
           }
          },
          "colorscale": {
           "diverging": [
            [
             0,
             "#8e0152"
            ],
            [
             0.1,
             "#c51b7d"
            ],
            [
             0.2,
             "#de77ae"
            ],
            [
             0.3,
             "#f1b6da"
            ],
            [
             0.4,
             "#fde0ef"
            ],
            [
             0.5,
             "#f7f7f7"
            ],
            [
             0.6,
             "#e6f5d0"
            ],
            [
             0.7,
             "#b8e186"
            ],
            [
             0.8,
             "#7fbc41"
            ],
            [
             0.9,
             "#4d9221"
            ],
            [
             1,
             "#276419"
            ]
           ],
           "sequential": [
            [
             0,
             "#0d0887"
            ],
            [
             0.1111111111111111,
             "#46039f"
            ],
            [
             0.2222222222222222,
             "#7201a8"
            ],
            [
             0.3333333333333333,
             "#9c179e"
            ],
            [
             0.4444444444444444,
             "#bd3786"
            ],
            [
             0.5555555555555556,
             "#d8576b"
            ],
            [
             0.6666666666666666,
             "#ed7953"
            ],
            [
             0.7777777777777778,
             "#fb9f3a"
            ],
            [
             0.8888888888888888,
             "#fdca26"
            ],
            [
             1,
             "#f0f921"
            ]
           ],
           "sequentialminus": [
            [
             0,
             "#0d0887"
            ],
            [
             0.1111111111111111,
             "#46039f"
            ],
            [
             0.2222222222222222,
             "#7201a8"
            ],
            [
             0.3333333333333333,
             "#9c179e"
            ],
            [
             0.4444444444444444,
             "#bd3786"
            ],
            [
             0.5555555555555556,
             "#d8576b"
            ],
            [
             0.6666666666666666,
             "#ed7953"
            ],
            [
             0.7777777777777778,
             "#fb9f3a"
            ],
            [
             0.8888888888888888,
             "#fdca26"
            ],
            [
             1,
             "#f0f921"
            ]
           ]
          },
          "colorway": [
           "#636efa",
           "#EF553B",
           "#00cc96",
           "#ab63fa",
           "#FFA15A",
           "#19d3f3",
           "#FF6692",
           "#B6E880",
           "#FF97FF",
           "#FECB52"
          ],
          "font": {
           "color": "#2a3f5f"
          },
          "geo": {
           "bgcolor": "white",
           "lakecolor": "white",
           "landcolor": "#E5ECF6",
           "showlakes": true,
           "showland": true,
           "subunitcolor": "white"
          },
          "hoverlabel": {
           "align": "left"
          },
          "hovermode": "closest",
          "mapbox": {
           "style": "light"
          },
          "paper_bgcolor": "white",
          "plot_bgcolor": "#E5ECF6",
          "polar": {
           "angularaxis": {
            "gridcolor": "white",
            "linecolor": "white",
            "ticks": ""
           },
           "bgcolor": "#E5ECF6",
           "radialaxis": {
            "gridcolor": "white",
            "linecolor": "white",
            "ticks": ""
           }
          },
          "scene": {
           "xaxis": {
            "backgroundcolor": "#E5ECF6",
            "gridcolor": "white",
            "gridwidth": 2,
            "linecolor": "white",
            "showbackground": true,
            "ticks": "",
            "zerolinecolor": "white"
           },
           "yaxis": {
            "backgroundcolor": "#E5ECF6",
            "gridcolor": "white",
            "gridwidth": 2,
            "linecolor": "white",
            "showbackground": true,
            "ticks": "",
            "zerolinecolor": "white"
           },
           "zaxis": {
            "backgroundcolor": "#E5ECF6",
            "gridcolor": "white",
            "gridwidth": 2,
            "linecolor": "white",
            "showbackground": true,
            "ticks": "",
            "zerolinecolor": "white"
           }
          },
          "shapedefaults": {
           "line": {
            "color": "#2a3f5f"
           }
          },
          "ternary": {
           "aaxis": {
            "gridcolor": "white",
            "linecolor": "white",
            "ticks": ""
           },
           "baxis": {
            "gridcolor": "white",
            "linecolor": "white",
            "ticks": ""
           },
           "bgcolor": "#E5ECF6",
           "caxis": {
            "gridcolor": "white",
            "linecolor": "white",
            "ticks": ""
           }
          },
          "title": {
           "x": 0.05
          },
          "xaxis": {
           "automargin": true,
           "gridcolor": "white",
           "linecolor": "white",
           "ticks": "",
           "title": {
            "standoff": 15
           },
           "zerolinecolor": "white",
           "zerolinewidth": 2
          },
          "yaxis": {
           "automargin": true,
           "gridcolor": "white",
           "linecolor": "white",
           "ticks": "",
           "title": {
            "standoff": 15
           },
           "zerolinecolor": "white",
           "zerolinewidth": 2
          }
         }
        },
        "title": {
         "text": "Spectral Clustering"
        }
       }
      },
      "text/html": [
       "<div>                            <div id=\"e970e59d-bb43-4f91-aab5-4c3ce27dc74a\" class=\"plotly-graph-div\" style=\"height:525px; width:100%;\"></div>            <script type=\"text/javascript\">                require([\"plotly\"], function(Plotly) {                    window.PLOTLYENV=window.PLOTLYENV || {};                                    if (document.getElementById(\"e970e59d-bb43-4f91-aab5-4c3ce27dc74a\")) {                    Plotly.newPlot(                        \"e970e59d-bb43-4f91-aab5-4c3ce27dc74a\",                        [{\"hovertemplate\":\"PC1=%{x}<br>PC2=%{y}<br>PC3=%{z}<br>color=%{marker.color}<extra></extra>\",\"legendgroup\":\"\",\"marker\":{\"color\":[0,2,1,0,2,2,1,0,2,0,2,1,0,2,0,1,2,1,0,2,0,2,2,2,1,2,2,2,2,1,0,0,2,2,0,0,2,0,2,0,1,1,2,2,0,2,0,0,2,2,2,2,2,1,2,0,1,0,0,2,2,2,2,0,0,1,1,2,2,2,2,2,2,0,2,0,1,2,0,1,2,2,2,1,0,0,0,2,2,2,2,0,2,0,2,2,0,2,2,2],\"coloraxis\":\"coloraxis\",\"symbol\":\"circle\"},\"mode\":\"markers\",\"name\":\"\",\"scene\":\"scene\",\"showlegend\":false,\"x\":[1.0149083392966256,-0.3130428010587717,-0.45146178939282683,0.7005507580900646,0.07257440058436636,-0.4882325056578478,-0.6568893465727057,0.6415282147133622,-0.1179576912111683,1.0873935168900546,-0.05146086994807354,-0.5740836157485354,1.2723421394364716,-0.575252193452425,0.20463061484303552,-0.451461789392827,-0.43765090726748845,-0.656889346572705,0.7398744951826123,-0.3628767305235811,1.4224486984594111,0.1514753767384692,-0.38681689153707915,-0.29715821895457295,-0.3031208959842476,-0.6123239093830027,-0.31929178214860904,-0.43052698100335873,-0.3550585485162153,-0.37575989033270984,0.2671492960514589,0.3244724043164433,-0.43200793390176206,-0.3689843727417128,0.27576893904064576,1.148069384612407,-0.46098242377386955,1.6073973210058283,-0.6682363416338494,1.4955884063198501,-0.451461789392827,-0.5342675202169963,0.25468545591337344,-0.5345727099403836,1.1139745215118753,-0.7358897080705509,1.0356059396594217,0.198413913595318,-0.6103195545466079,-0.3820967676546399,-0.19034373792075016,-0.9469402168747866,-0.20299155201169208,-0.3031208959842476,0.09460648689134596,0.6415282147133625,-0.5342675202169963,0.23817480617935138,0.6280655804966342,-0.08209673511888334,-0.22721417754569806,0.25468545591337344,-0.1162819709289515,0.6280655804966342,1.3499635208659804,-0.6590173246734197,-0.3031208959842476,-0.14654105051657978,0.004568823044083487,-0.20983272188386706,-0.27185652563282703,-0.2837713475605639,-0.46212820337450117,0.5421831401654698,-0.2255955522883314,0.6539920548514482,-0.43413817624444095,0.3646744036925476,0.18299469537208118,-0.311516349888732,-1.084257248798442,-1.1277741037899585,-0.4371402785824909,-0.342936991515787,1.0749296767519692,0.7146679225738009,1.3624273610040651,-0.8852473682935964,0.13800426129357,0.25468545591337344,-0.6568735091179451,0.5815068772580168,-0.2509211511771291,0.6539920548514482,-0.025816253729114436,-0.15379879488051196,0.6880869179519798,-0.39864147098195646,-0.5233171055715434,-0.8870203689216862],\"y\":[0.1577644064878873,0.019267901261709453,1.0081137570644738,0.006002383752602541,-0.4943517103835355,-0.7611759531438241,1.477536728450557,0.10147699258114266,-0.5915469879012744,0.03996909577661817,-0.5216886837905665,1.2085982537601738,0.04221354848981329,-0.44149042331685484,0.034460428911103666,1.008113757064473,-0.0812823985779111,1.4775367284505563,0.15550539844777259,-0.29122225246645017,-0.06774760176049505,-0.037543704713095864,-0.378549057605865,-0.5814915488340242,0.8795931193514881,-0.4561935860435776,-0.013632694635634487,-0.03285759021958937,-0.2108119375820624,0.5813805643833144,0.059690675423084226,-0.3024841771349627,-0.3605733298482958,-1.067115058385582,0.17661309022130384,0.018325449639957893,-0.3565377101250818,-0.06550314904729866,-0.25973589455053686,-0.09721085303119768,1.0081137570644734,1.2770522317548552,0.06751028055712814,-0.5413752980972327,0.09816084820041057,-0.9459556791395503,-0.10171431378450942,-0.15359480969466377,-0.16279856348639332,0.25605261738033464,0.1249191980664801,-1.2123228457254138,0.37571147478994016,0.8795931193514881,-1.242986874878973,0.10147699258114276,1.2770522317548552,0.06372629514629834,0.12379769446387366,-0.5528052239602276,-0.28878688311049855,0.06751028055712814,-0.24968118880918566,0.12379769446387366,0.050047708950776565,0.535507266507506,0.8795931193514881,0.1722063736430748,-0.6623171881201189,0.12432188653193336,0.08299376231114149,0.0817410757182372,-0.6789769739818338,0.061949683463199894,-0.1599068460197561,0.0936573874470989,0.7731705871933073,-0.8114036022428254,0.11496745404204858,0.5726860904976069,-0.2711626084640894,-0.07555197536364382,-0.23879138518171508,0.8111391413568064,0.04778870091066093,0.07201374131043972,0.0422281038167327,0.18356541020321976,0.05352964916992127,0.06751028055712814,-0.7091104923077988,0.21145269815837006,0.013302258206746884,0.0936573874470989,-0.4381587751920797,-0.6063698884095213,0.01382198888664633,-0.33914798195357015,-0.43649520028610955,-1.0993278500240786],\"z\":[-0.520467926686968,-0.12652132712289557,0.28101904183476245,-0.05644189483094558,0.8359163381037934,0.476577970194797,0.4248229145627804,0.08923143306461133,0.01325008975439689,-0.20652610165098642,-0.5453094586272011,0.27408699097096056,-0.19040895138279318,-0.5777455821592077,-0.8002907841007966,0.2810190418347623,-0.5023256212769788,0.42482291456278004,-0.5032729076326224,-0.2157229972951423,0.029965855972844707,0.34368965820480346,0.16254683694809105,-0.8152221872264273,0.37516661651741934,-0.2108435266257632,-0.13501212200379967,-0.9220030456215491,-0.1168926323931191,-0.17178975119387876,0.2995704882424566,0.6317754617756468,-0.38892926466027533,0.8263038616689081,-0.3246117262380942,-0.11777461197490087,-0.4439017019839333,0.04608300624103846,-0.46452589856542964,0.1789721940067347,0.2810190418347624,0.43175496542658204,0.23931563988465282,0.07024543700400525,0.14840841263626411,0.47033584892405406,0.18005006279288607,0.6626924182906491,-0.8185173384926676,-0.6285616535700705,-0.44842333534113515,0.47786847203201654,-0.004108368602980793,0.37516661651741934,1.1425432065253804,0.08923143306461155,0.43175496542658204,0.24459805091879896,-0.3703837198669265,0.4488870572225543,0.341734998864806,0.23931563988465282,-0.8440540004098899,-0.3703837198669265,-0.283975969063136,0.3881624355571157,0.37516661651741934,-0.08009698707669632,-0.18383685139553552,-0.23089534544304544,-0.14926820829996487,-0.19702144176961392,0.4360805231067688,0.2823754691881116,0.11682639531074722,0.14948628142241527,0.05247998030618198,1.0889754878378863,0.09259656846605475,0.05941203116998368,-0.3635787591400758,-0.9686162731460941,0.17974667239897152,0.21749864206179786,-0.2667809500087907,0.23823777109850136,-0.22372112070533198,-0.7606989935482324,-0.9820604521560773,0.23931563988465282,0.36330202881602036,-0.16445554361356546,-0.0672950102420444,0.14948628142241527,-0.5859341642681556,0.15498051262352142,-0.11669674318874944,0.24508970734483027,0.3562672210256728,0.010675723198081237],\"type\":\"scatter3d\"}],                        {\"template\":{\"data\":{\"bar\":[{\"error_x\":{\"color\":\"#2a3f5f\"},\"error_y\":{\"color\":\"#2a3f5f\"},\"marker\":{\"line\":{\"color\":\"#E5ECF6\",\"width\":0.5},\"pattern\":{\"fillmode\":\"overlay\",\"size\":10,\"solidity\":0.2}},\"type\":\"bar\"}],\"barpolar\":[{\"marker\":{\"line\":{\"color\":\"#E5ECF6\",\"width\":0.5},\"pattern\":{\"fillmode\":\"overlay\",\"size\":10,\"solidity\":0.2}},\"type\":\"barpolar\"}],\"carpet\":[{\"aaxis\":{\"endlinecolor\":\"#2a3f5f\",\"gridcolor\":\"white\",\"linecolor\":\"white\",\"minorgridcolor\":\"white\",\"startlinecolor\":\"#2a3f5f\"},\"baxis\":{\"endlinecolor\":\"#2a3f5f\",\"gridcolor\":\"white\",\"linecolor\":\"white\",\"minorgridcolor\":\"white\",\"startlinecolor\":\"#2a3f5f\"},\"type\":\"carpet\"}],\"choropleth\":[{\"colorbar\":{\"outlinewidth\":0,\"ticks\":\"\"},\"type\":\"choropleth\"}],\"contour\":[{\"colorbar\":{\"outlinewidth\":0,\"ticks\":\"\"},\"colorscale\":[[0.0,\"#0d0887\"],[0.1111111111111111,\"#46039f\"],[0.2222222222222222,\"#7201a8\"],[0.3333333333333333,\"#9c179e\"],[0.4444444444444444,\"#bd3786\"],[0.5555555555555556,\"#d8576b\"],[0.6666666666666666,\"#ed7953\"],[0.7777777777777778,\"#fb9f3a\"],[0.8888888888888888,\"#fdca26\"],[1.0,\"#f0f921\"]],\"type\":\"contour\"}],\"contourcarpet\":[{\"colorbar\":{\"outlinewidth\":0,\"ticks\":\"\"},\"type\":\"contourcarpet\"}],\"heatmap\":[{\"colorbar\":{\"outlinewidth\":0,\"ticks\":\"\"},\"colorscale\":[[0.0,\"#0d0887\"],[0.1111111111111111,\"#46039f\"],[0.2222222222222222,\"#7201a8\"],[0.3333333333333333,\"#9c179e\"],[0.4444444444444444,\"#bd3786\"],[0.5555555555555556,\"#d8576b\"],[0.6666666666666666,\"#ed7953\"],[0.7777777777777778,\"#fb9f3a\"],[0.8888888888888888,\"#fdca26\"],[1.0,\"#f0f921\"]],\"type\":\"heatmap\"}],\"heatmapgl\":[{\"colorbar\":{\"outlinewidth\":0,\"ticks\":\"\"},\"colorscale\":[[0.0,\"#0d0887\"],[0.1111111111111111,\"#46039f\"],[0.2222222222222222,\"#7201a8\"],[0.3333333333333333,\"#9c179e\"],[0.4444444444444444,\"#bd3786\"],[0.5555555555555556,\"#d8576b\"],[0.6666666666666666,\"#ed7953\"],[0.7777777777777778,\"#fb9f3a\"],[0.8888888888888888,\"#fdca26\"],[1.0,\"#f0f921\"]],\"type\":\"heatmapgl\"}],\"histogram\":[{\"marker\":{\"pattern\":{\"fillmode\":\"overlay\",\"size\":10,\"solidity\":0.2}},\"type\":\"histogram\"}],\"histogram2d\":[{\"colorbar\":{\"outlinewidth\":0,\"ticks\":\"\"},\"colorscale\":[[0.0,\"#0d0887\"],[0.1111111111111111,\"#46039f\"],[0.2222222222222222,\"#7201a8\"],[0.3333333333333333,\"#9c179e\"],[0.4444444444444444,\"#bd3786\"],[0.5555555555555556,\"#d8576b\"],[0.6666666666666666,\"#ed7953\"],[0.7777777777777778,\"#fb9f3a\"],[0.8888888888888888,\"#fdca26\"],[1.0,\"#f0f921\"]],\"type\":\"histogram2d\"}],\"histogram2dcontour\":[{\"colorbar\":{\"outlinewidth\":0,\"ticks\":\"\"},\"colorscale\":[[0.0,\"#0d0887\"],[0.1111111111111111,\"#46039f\"],[0.2222222222222222,\"#7201a8\"],[0.3333333333333333,\"#9c179e\"],[0.4444444444444444,\"#bd3786\"],[0.5555555555555556,\"#d8576b\"],[0.6666666666666666,\"#ed7953\"],[0.7777777777777778,\"#fb9f3a\"],[0.8888888888888888,\"#fdca26\"],[1.0,\"#f0f921\"]],\"type\":\"histogram2dcontour\"}],\"mesh3d\":[{\"colorbar\":{\"outlinewidth\":0,\"ticks\":\"\"},\"type\":\"mesh3d\"}],\"parcoords\":[{\"line\":{\"colorbar\":{\"outlinewidth\":0,\"ticks\":\"\"}},\"type\":\"parcoords\"}],\"pie\":[{\"automargin\":true,\"type\":\"pie\"}],\"scatter\":[{\"marker\":{\"colorbar\":{\"outlinewidth\":0,\"ticks\":\"\"}},\"type\":\"scatter\"}],\"scatter3d\":[{\"line\":{\"colorbar\":{\"outlinewidth\":0,\"ticks\":\"\"}},\"marker\":{\"colorbar\":{\"outlinewidth\":0,\"ticks\":\"\"}},\"type\":\"scatter3d\"}],\"scattercarpet\":[{\"marker\":{\"colorbar\":{\"outlinewidth\":0,\"ticks\":\"\"}},\"type\":\"scattercarpet\"}],\"scattergeo\":[{\"marker\":{\"colorbar\":{\"outlinewidth\":0,\"ticks\":\"\"}},\"type\":\"scattergeo\"}],\"scattergl\":[{\"marker\":{\"colorbar\":{\"outlinewidth\":0,\"ticks\":\"\"}},\"type\":\"scattergl\"}],\"scattermapbox\":[{\"marker\":{\"colorbar\":{\"outlinewidth\":0,\"ticks\":\"\"}},\"type\":\"scattermapbox\"}],\"scatterpolar\":[{\"marker\":{\"colorbar\":{\"outlinewidth\":0,\"ticks\":\"\"}},\"type\":\"scatterpolar\"}],\"scatterpolargl\":[{\"marker\":{\"colorbar\":{\"outlinewidth\":0,\"ticks\":\"\"}},\"type\":\"scatterpolargl\"}],\"scatterternary\":[{\"marker\":{\"colorbar\":{\"outlinewidth\":0,\"ticks\":\"\"}},\"type\":\"scatterternary\"}],\"surface\":[{\"colorbar\":{\"outlinewidth\":0,\"ticks\":\"\"},\"colorscale\":[[0.0,\"#0d0887\"],[0.1111111111111111,\"#46039f\"],[0.2222222222222222,\"#7201a8\"],[0.3333333333333333,\"#9c179e\"],[0.4444444444444444,\"#bd3786\"],[0.5555555555555556,\"#d8576b\"],[0.6666666666666666,\"#ed7953\"],[0.7777777777777778,\"#fb9f3a\"],[0.8888888888888888,\"#fdca26\"],[1.0,\"#f0f921\"]],\"type\":\"surface\"}],\"table\":[{\"cells\":{\"fill\":{\"color\":\"#EBF0F8\"},\"line\":{\"color\":\"white\"}},\"header\":{\"fill\":{\"color\":\"#C8D4E3\"},\"line\":{\"color\":\"white\"}},\"type\":\"table\"}]},\"layout\":{\"annotationdefaults\":{\"arrowcolor\":\"#2a3f5f\",\"arrowhead\":0,\"arrowwidth\":1},\"autotypenumbers\":\"strict\",\"coloraxis\":{\"colorbar\":{\"outlinewidth\":0,\"ticks\":\"\"}},\"colorscale\":{\"diverging\":[[0,\"#8e0152\"],[0.1,\"#c51b7d\"],[0.2,\"#de77ae\"],[0.3,\"#f1b6da\"],[0.4,\"#fde0ef\"],[0.5,\"#f7f7f7\"],[0.6,\"#e6f5d0\"],[0.7,\"#b8e186\"],[0.8,\"#7fbc41\"],[0.9,\"#4d9221\"],[1,\"#276419\"]],\"sequential\":[[0.0,\"#0d0887\"],[0.1111111111111111,\"#46039f\"],[0.2222222222222222,\"#7201a8\"],[0.3333333333333333,\"#9c179e\"],[0.4444444444444444,\"#bd3786\"],[0.5555555555555556,\"#d8576b\"],[0.6666666666666666,\"#ed7953\"],[0.7777777777777778,\"#fb9f3a\"],[0.8888888888888888,\"#fdca26\"],[1.0,\"#f0f921\"]],\"sequentialminus\":[[0.0,\"#0d0887\"],[0.1111111111111111,\"#46039f\"],[0.2222222222222222,\"#7201a8\"],[0.3333333333333333,\"#9c179e\"],[0.4444444444444444,\"#bd3786\"],[0.5555555555555556,\"#d8576b\"],[0.6666666666666666,\"#ed7953\"],[0.7777777777777778,\"#fb9f3a\"],[0.8888888888888888,\"#fdca26\"],[1.0,\"#f0f921\"]]},\"colorway\":[\"#636efa\",\"#EF553B\",\"#00cc96\",\"#ab63fa\",\"#FFA15A\",\"#19d3f3\",\"#FF6692\",\"#B6E880\",\"#FF97FF\",\"#FECB52\"],\"font\":{\"color\":\"#2a3f5f\"},\"geo\":{\"bgcolor\":\"white\",\"lakecolor\":\"white\",\"landcolor\":\"#E5ECF6\",\"showlakes\":true,\"showland\":true,\"subunitcolor\":\"white\"},\"hoverlabel\":{\"align\":\"left\"},\"hovermode\":\"closest\",\"mapbox\":{\"style\":\"light\"},\"paper_bgcolor\":\"white\",\"plot_bgcolor\":\"#E5ECF6\",\"polar\":{\"angularaxis\":{\"gridcolor\":\"white\",\"linecolor\":\"white\",\"ticks\":\"\"},\"bgcolor\":\"#E5ECF6\",\"radialaxis\":{\"gridcolor\":\"white\",\"linecolor\":\"white\",\"ticks\":\"\"}},\"scene\":{\"xaxis\":{\"backgroundcolor\":\"#E5ECF6\",\"gridcolor\":\"white\",\"gridwidth\":2,\"linecolor\":\"white\",\"showbackground\":true,\"ticks\":\"\",\"zerolinecolor\":\"white\"},\"yaxis\":{\"backgroundcolor\":\"#E5ECF6\",\"gridcolor\":\"white\",\"gridwidth\":2,\"linecolor\":\"white\",\"showbackground\":true,\"ticks\":\"\",\"zerolinecolor\":\"white\"},\"zaxis\":{\"backgroundcolor\":\"#E5ECF6\",\"gridcolor\":\"white\",\"gridwidth\":2,\"linecolor\":\"white\",\"showbackground\":true,\"ticks\":\"\",\"zerolinecolor\":\"white\"}},\"shapedefaults\":{\"line\":{\"color\":\"#2a3f5f\"}},\"ternary\":{\"aaxis\":{\"gridcolor\":\"white\",\"linecolor\":\"white\",\"ticks\":\"\"},\"baxis\":{\"gridcolor\":\"white\",\"linecolor\":\"white\",\"ticks\":\"\"},\"bgcolor\":\"#E5ECF6\",\"caxis\":{\"gridcolor\":\"white\",\"linecolor\":\"white\",\"ticks\":\"\"}},\"title\":{\"x\":0.05},\"xaxis\":{\"automargin\":true,\"gridcolor\":\"white\",\"linecolor\":\"white\",\"ticks\":\"\",\"title\":{\"standoff\":15},\"zerolinecolor\":\"white\",\"zerolinewidth\":2},\"yaxis\":{\"automargin\":true,\"gridcolor\":\"white\",\"linecolor\":\"white\",\"ticks\":\"\",\"title\":{\"standoff\":15},\"zerolinecolor\":\"white\",\"zerolinewidth\":2}}},\"scene\":{\"domain\":{\"x\":[0.0,1.0],\"y\":[0.0,1.0]},\"xaxis\":{\"title\":{\"text\":\"PC1\"}},\"yaxis\":{\"title\":{\"text\":\"PC2\"}},\"zaxis\":{\"title\":{\"text\":\"PC3\"}}},\"coloraxis\":{\"colorbar\":{\"title\":{\"text\":\"color\"}},\"colorscale\":[[0.0,\"#0d0887\"],[0.1111111111111111,\"#46039f\"],[0.2222222222222222,\"#7201a8\"],[0.3333333333333333,\"#9c179e\"],[0.4444444444444444,\"#bd3786\"],[0.5555555555555556,\"#d8576b\"],[0.6666666666666666,\"#ed7953\"],[0.7777777777777778,\"#fb9f3a\"],[0.8888888888888888,\"#fdca26\"],[1.0,\"#f0f921\"]]},\"legend\":{\"tracegroupgap\":0},\"title\":{\"text\":\"Spectral Clustering\"}},                        {\"responsive\": true}                    ).then(function(){\n",
       "                            \n",
       "var gd = document.getElementById('e970e59d-bb43-4f91-aab5-4c3ce27dc74a');\n",
       "var x = new MutationObserver(function (mutations, observer) {{\n",
       "        var display = window.getComputedStyle(gd).display;\n",
       "        if (!display || display === 'none') {{\n",
       "            console.log([gd, 'removed!']);\n",
       "            Plotly.purge(gd);\n",
       "            observer.disconnect();\n",
       "        }}\n",
       "}});\n",
       "\n",
       "// Listen for the removal of the full notebook cells\n",
       "var notebookContainer = gd.closest('#notebook-container');\n",
       "if (notebookContainer) {{\n",
       "    x.observe(notebookContainer, {childList: true});\n",
       "}}\n",
       "\n",
       "// Listen for the clearing of the current output cell\n",
       "var outputEl = gd.closest('.output');\n",
       "if (outputEl) {{\n",
       "    x.observe(outputEl, {childList: true});\n",
       "}}\n",
       "\n",
       "                        })                };                });            </script>        </div>"
      ]
     },
     "metadata": {},
     "output_type": "display_data"
    },
    {
     "data": {
      "application/vnd.plotly.v1+json": {
       "config": {
        "plotlyServerURL": "https://plot.ly"
       },
       "data": [
        {
         "hovertemplate": "PC1=%{x}<br>PC2=%{y}<br>PC3=%{z}<br>color=%{marker.color}<extra></extra>",
         "legendgroup": "",
         "marker": {
          "color": [
           1,
           0,
           2,
           1,
           1,
           0,
           2,
           1,
           0,
           1,
           0,
           2,
           1,
           0,
           1,
           2,
           0,
           2,
           1,
           0,
           1,
           1,
           0,
           0,
           2,
           0,
           0,
           0,
           0,
           2,
           1,
           1,
           0,
           0,
           1,
           1,
           0,
           1,
           0,
           1,
           2,
           2,
           1,
           0,
           1,
           0,
           1,
           1,
           0,
           0,
           0,
           0,
           2,
           2,
           0,
           1,
           2,
           1,
           1,
           0,
           0,
           1,
           0,
           1,
           1,
           2,
           2,
           0,
           0,
           0,
           0,
           0,
           0,
           1,
           0,
           1,
           2,
           0,
           1,
           2,
           0,
           0,
           0,
           2,
           1,
           1,
           1,
           0,
           0,
           1,
           0,
           1,
           0,
           1,
           0,
           0,
           1,
           0,
           0,
           0
          ],
          "coloraxis": "coloraxis",
          "symbol": "circle"
         },
         "mode": "markers",
         "name": "",
         "scene": "scene",
         "showlegend": false,
         "type": "scatter3d",
         "x": [
          1.0149083392966256,
          -0.3130428010587717,
          -0.45146178939282683,
          0.7005507580900646,
          0.07257440058436636,
          -0.4882325056578478,
          -0.6568893465727057,
          0.6415282147133622,
          -0.1179576912111683,
          1.0873935168900546,
          -0.05146086994807354,
          -0.5740836157485354,
          1.2723421394364716,
          -0.575252193452425,
          0.20463061484303552,
          -0.451461789392827,
          -0.43765090726748845,
          -0.656889346572705,
          0.7398744951826123,
          -0.3628767305235811,
          1.4224486984594111,
          0.1514753767384692,
          -0.38681689153707915,
          -0.29715821895457295,
          -0.3031208959842476,
          -0.6123239093830027,
          -0.31929178214860904,
          -0.43052698100335873,
          -0.3550585485162153,
          -0.37575989033270984,
          0.2671492960514589,
          0.3244724043164433,
          -0.43200793390176206,
          -0.3689843727417128,
          0.27576893904064576,
          1.148069384612407,
          -0.46098242377386955,
          1.6073973210058283,
          -0.6682363416338494,
          1.4955884063198501,
          -0.451461789392827,
          -0.5342675202169963,
          0.25468545591337344,
          -0.5345727099403836,
          1.1139745215118753,
          -0.7358897080705509,
          1.0356059396594217,
          0.198413913595318,
          -0.6103195545466079,
          -0.3820967676546399,
          -0.19034373792075016,
          -0.9469402168747866,
          -0.20299155201169208,
          -0.3031208959842476,
          0.09460648689134596,
          0.6415282147133625,
          -0.5342675202169963,
          0.23817480617935138,
          0.6280655804966342,
          -0.08209673511888334,
          -0.22721417754569806,
          0.25468545591337344,
          -0.1162819709289515,
          0.6280655804966342,
          1.3499635208659804,
          -0.6590173246734197,
          -0.3031208959842476,
          -0.14654105051657978,
          0.004568823044083487,
          -0.20983272188386706,
          -0.27185652563282703,
          -0.2837713475605639,
          -0.46212820337450117,
          0.5421831401654698,
          -0.2255955522883314,
          0.6539920548514482,
          -0.43413817624444095,
          0.3646744036925476,
          0.18299469537208118,
          -0.311516349888732,
          -1.084257248798442,
          -1.1277741037899585,
          -0.4371402785824909,
          -0.342936991515787,
          1.0749296767519692,
          0.7146679225738009,
          1.3624273610040651,
          -0.8852473682935964,
          0.13800426129357,
          0.25468545591337344,
          -0.6568735091179451,
          0.5815068772580168,
          -0.2509211511771291,
          0.6539920548514482,
          -0.025816253729114436,
          -0.15379879488051196,
          0.6880869179519798,
          -0.39864147098195646,
          -0.5233171055715434,
          -0.8870203689216862
         ],
         "y": [
          0.1577644064878873,
          0.019267901261709453,
          1.0081137570644738,
          0.006002383752602541,
          -0.4943517103835355,
          -0.7611759531438241,
          1.477536728450557,
          0.10147699258114266,
          -0.5915469879012744,
          0.03996909577661817,
          -0.5216886837905665,
          1.2085982537601738,
          0.04221354848981329,
          -0.44149042331685484,
          0.034460428911103666,
          1.008113757064473,
          -0.0812823985779111,
          1.4775367284505563,
          0.15550539844777259,
          -0.29122225246645017,
          -0.06774760176049505,
          -0.037543704713095864,
          -0.378549057605865,
          -0.5814915488340242,
          0.8795931193514881,
          -0.4561935860435776,
          -0.013632694635634487,
          -0.03285759021958937,
          -0.2108119375820624,
          0.5813805643833144,
          0.059690675423084226,
          -0.3024841771349627,
          -0.3605733298482958,
          -1.067115058385582,
          0.17661309022130384,
          0.018325449639957893,
          -0.3565377101250818,
          -0.06550314904729866,
          -0.25973589455053686,
          -0.09721085303119768,
          1.0081137570644734,
          1.2770522317548552,
          0.06751028055712814,
          -0.5413752980972327,
          0.09816084820041057,
          -0.9459556791395503,
          -0.10171431378450942,
          -0.15359480969466377,
          -0.16279856348639332,
          0.25605261738033464,
          0.1249191980664801,
          -1.2123228457254138,
          0.37571147478994016,
          0.8795931193514881,
          -1.242986874878973,
          0.10147699258114276,
          1.2770522317548552,
          0.06372629514629834,
          0.12379769446387366,
          -0.5528052239602276,
          -0.28878688311049855,
          0.06751028055712814,
          -0.24968118880918566,
          0.12379769446387366,
          0.050047708950776565,
          0.535507266507506,
          0.8795931193514881,
          0.1722063736430748,
          -0.6623171881201189,
          0.12432188653193336,
          0.08299376231114149,
          0.0817410757182372,
          -0.6789769739818338,
          0.061949683463199894,
          -0.1599068460197561,
          0.0936573874470989,
          0.7731705871933073,
          -0.8114036022428254,
          0.11496745404204858,
          0.5726860904976069,
          -0.2711626084640894,
          -0.07555197536364382,
          -0.23879138518171508,
          0.8111391413568064,
          0.04778870091066093,
          0.07201374131043972,
          0.0422281038167327,
          0.18356541020321976,
          0.05352964916992127,
          0.06751028055712814,
          -0.7091104923077988,
          0.21145269815837006,
          0.013302258206746884,
          0.0936573874470989,
          -0.4381587751920797,
          -0.6063698884095213,
          0.01382198888664633,
          -0.33914798195357015,
          -0.43649520028610955,
          -1.0993278500240786
         ],
         "z": [
          -0.520467926686968,
          -0.12652132712289557,
          0.28101904183476245,
          -0.05644189483094558,
          0.8359163381037934,
          0.476577970194797,
          0.4248229145627804,
          0.08923143306461133,
          0.01325008975439689,
          -0.20652610165098642,
          -0.5453094586272011,
          0.27408699097096056,
          -0.19040895138279318,
          -0.5777455821592077,
          -0.8002907841007966,
          0.2810190418347623,
          -0.5023256212769788,
          0.42482291456278004,
          -0.5032729076326224,
          -0.2157229972951423,
          0.029965855972844707,
          0.34368965820480346,
          0.16254683694809105,
          -0.8152221872264273,
          0.37516661651741934,
          -0.2108435266257632,
          -0.13501212200379967,
          -0.9220030456215491,
          -0.1168926323931191,
          -0.17178975119387876,
          0.2995704882424566,
          0.6317754617756468,
          -0.38892926466027533,
          0.8263038616689081,
          -0.3246117262380942,
          -0.11777461197490087,
          -0.4439017019839333,
          0.04608300624103846,
          -0.46452589856542964,
          0.1789721940067347,
          0.2810190418347624,
          0.43175496542658204,
          0.23931563988465282,
          0.07024543700400525,
          0.14840841263626411,
          0.47033584892405406,
          0.18005006279288607,
          0.6626924182906491,
          -0.8185173384926676,
          -0.6285616535700705,
          -0.44842333534113515,
          0.47786847203201654,
          -0.004108368602980793,
          0.37516661651741934,
          1.1425432065253804,
          0.08923143306461155,
          0.43175496542658204,
          0.24459805091879896,
          -0.3703837198669265,
          0.4488870572225543,
          0.341734998864806,
          0.23931563988465282,
          -0.8440540004098899,
          -0.3703837198669265,
          -0.283975969063136,
          0.3881624355571157,
          0.37516661651741934,
          -0.08009698707669632,
          -0.18383685139553552,
          -0.23089534544304544,
          -0.14926820829996487,
          -0.19702144176961392,
          0.4360805231067688,
          0.2823754691881116,
          0.11682639531074722,
          0.14948628142241527,
          0.05247998030618198,
          1.0889754878378863,
          0.09259656846605475,
          0.05941203116998368,
          -0.3635787591400758,
          -0.9686162731460941,
          0.17974667239897152,
          0.21749864206179786,
          -0.2667809500087907,
          0.23823777109850136,
          -0.22372112070533198,
          -0.7606989935482324,
          -0.9820604521560773,
          0.23931563988465282,
          0.36330202881602036,
          -0.16445554361356546,
          -0.0672950102420444,
          0.14948628142241527,
          -0.5859341642681556,
          0.15498051262352142,
          -0.11669674318874944,
          0.24508970734483027,
          0.3562672210256728,
          0.010675723198081237
         ]
        }
       ],
       "layout": {
        "coloraxis": {
         "colorbar": {
          "title": {
           "text": "color"
          }
         },
         "colorscale": [
          [
           0,
           "#0d0887"
          ],
          [
           0.1111111111111111,
           "#46039f"
          ],
          [
           0.2222222222222222,
           "#7201a8"
          ],
          [
           0.3333333333333333,
           "#9c179e"
          ],
          [
           0.4444444444444444,
           "#bd3786"
          ],
          [
           0.5555555555555556,
           "#d8576b"
          ],
          [
           0.6666666666666666,
           "#ed7953"
          ],
          [
           0.7777777777777778,
           "#fb9f3a"
          ],
          [
           0.8888888888888888,
           "#fdca26"
          ],
          [
           1,
           "#f0f921"
          ]
         ]
        },
        "legend": {
         "tracegroupgap": 0
        },
        "scene": {
         "domain": {
          "x": [
           0,
           1
          ],
          "y": [
           0,
           1
          ]
         },
         "xaxis": {
          "title": {
           "text": "PC1"
          }
         },
         "yaxis": {
          "title": {
           "text": "PC2"
          }
         },
         "zaxis": {
          "title": {
           "text": "PC3"
          }
         }
        },
        "template": {
         "data": {
          "bar": [
           {
            "error_x": {
             "color": "#2a3f5f"
            },
            "error_y": {
             "color": "#2a3f5f"
            },
            "marker": {
             "line": {
              "color": "#E5ECF6",
              "width": 0.5
             },
             "pattern": {
              "fillmode": "overlay",
              "size": 10,
              "solidity": 0.2
             }
            },
            "type": "bar"
           }
          ],
          "barpolar": [
           {
            "marker": {
             "line": {
              "color": "#E5ECF6",
              "width": 0.5
             },
             "pattern": {
              "fillmode": "overlay",
              "size": 10,
              "solidity": 0.2
             }
            },
            "type": "barpolar"
           }
          ],
          "carpet": [
           {
            "aaxis": {
             "endlinecolor": "#2a3f5f",
             "gridcolor": "white",
             "linecolor": "white",
             "minorgridcolor": "white",
             "startlinecolor": "#2a3f5f"
            },
            "baxis": {
             "endlinecolor": "#2a3f5f",
             "gridcolor": "white",
             "linecolor": "white",
             "minorgridcolor": "white",
             "startlinecolor": "#2a3f5f"
            },
            "type": "carpet"
           }
          ],
          "choropleth": [
           {
            "colorbar": {
             "outlinewidth": 0,
             "ticks": ""
            },
            "type": "choropleth"
           }
          ],
          "contour": [
           {
            "colorbar": {
             "outlinewidth": 0,
             "ticks": ""
            },
            "colorscale": [
             [
              0,
              "#0d0887"
             ],
             [
              0.1111111111111111,
              "#46039f"
             ],
             [
              0.2222222222222222,
              "#7201a8"
             ],
             [
              0.3333333333333333,
              "#9c179e"
             ],
             [
              0.4444444444444444,
              "#bd3786"
             ],
             [
              0.5555555555555556,
              "#d8576b"
             ],
             [
              0.6666666666666666,
              "#ed7953"
             ],
             [
              0.7777777777777778,
              "#fb9f3a"
             ],
             [
              0.8888888888888888,
              "#fdca26"
             ],
             [
              1,
              "#f0f921"
             ]
            ],
            "type": "contour"
           }
          ],
          "contourcarpet": [
           {
            "colorbar": {
             "outlinewidth": 0,
             "ticks": ""
            },
            "type": "contourcarpet"
           }
          ],
          "heatmap": [
           {
            "colorbar": {
             "outlinewidth": 0,
             "ticks": ""
            },
            "colorscale": [
             [
              0,
              "#0d0887"
             ],
             [
              0.1111111111111111,
              "#46039f"
             ],
             [
              0.2222222222222222,
              "#7201a8"
             ],
             [
              0.3333333333333333,
              "#9c179e"
             ],
             [
              0.4444444444444444,
              "#bd3786"
             ],
             [
              0.5555555555555556,
              "#d8576b"
             ],
             [
              0.6666666666666666,
              "#ed7953"
             ],
             [
              0.7777777777777778,
              "#fb9f3a"
             ],
             [
              0.8888888888888888,
              "#fdca26"
             ],
             [
              1,
              "#f0f921"
             ]
            ],
            "type": "heatmap"
           }
          ],
          "heatmapgl": [
           {
            "colorbar": {
             "outlinewidth": 0,
             "ticks": ""
            },
            "colorscale": [
             [
              0,
              "#0d0887"
             ],
             [
              0.1111111111111111,
              "#46039f"
             ],
             [
              0.2222222222222222,
              "#7201a8"
             ],
             [
              0.3333333333333333,
              "#9c179e"
             ],
             [
              0.4444444444444444,
              "#bd3786"
             ],
             [
              0.5555555555555556,
              "#d8576b"
             ],
             [
              0.6666666666666666,
              "#ed7953"
             ],
             [
              0.7777777777777778,
              "#fb9f3a"
             ],
             [
              0.8888888888888888,
              "#fdca26"
             ],
             [
              1,
              "#f0f921"
             ]
            ],
            "type": "heatmapgl"
           }
          ],
          "histogram": [
           {
            "marker": {
             "pattern": {
              "fillmode": "overlay",
              "size": 10,
              "solidity": 0.2
             }
            },
            "type": "histogram"
           }
          ],
          "histogram2d": [
           {
            "colorbar": {
             "outlinewidth": 0,
             "ticks": ""
            },
            "colorscale": [
             [
              0,
              "#0d0887"
             ],
             [
              0.1111111111111111,
              "#46039f"
             ],
             [
              0.2222222222222222,
              "#7201a8"
             ],
             [
              0.3333333333333333,
              "#9c179e"
             ],
             [
              0.4444444444444444,
              "#bd3786"
             ],
             [
              0.5555555555555556,
              "#d8576b"
             ],
             [
              0.6666666666666666,
              "#ed7953"
             ],
             [
              0.7777777777777778,
              "#fb9f3a"
             ],
             [
              0.8888888888888888,
              "#fdca26"
             ],
             [
              1,
              "#f0f921"
             ]
            ],
            "type": "histogram2d"
           }
          ],
          "histogram2dcontour": [
           {
            "colorbar": {
             "outlinewidth": 0,
             "ticks": ""
            },
            "colorscale": [
             [
              0,
              "#0d0887"
             ],
             [
              0.1111111111111111,
              "#46039f"
             ],
             [
              0.2222222222222222,
              "#7201a8"
             ],
             [
              0.3333333333333333,
              "#9c179e"
             ],
             [
              0.4444444444444444,
              "#bd3786"
             ],
             [
              0.5555555555555556,
              "#d8576b"
             ],
             [
              0.6666666666666666,
              "#ed7953"
             ],
             [
              0.7777777777777778,
              "#fb9f3a"
             ],
             [
              0.8888888888888888,
              "#fdca26"
             ],
             [
              1,
              "#f0f921"
             ]
            ],
            "type": "histogram2dcontour"
           }
          ],
          "mesh3d": [
           {
            "colorbar": {
             "outlinewidth": 0,
             "ticks": ""
            },
            "type": "mesh3d"
           }
          ],
          "parcoords": [
           {
            "line": {
             "colorbar": {
              "outlinewidth": 0,
              "ticks": ""
             }
            },
            "type": "parcoords"
           }
          ],
          "pie": [
           {
            "automargin": true,
            "type": "pie"
           }
          ],
          "scatter": [
           {
            "marker": {
             "colorbar": {
              "outlinewidth": 0,
              "ticks": ""
             }
            },
            "type": "scatter"
           }
          ],
          "scatter3d": [
           {
            "line": {
             "colorbar": {
              "outlinewidth": 0,
              "ticks": ""
             }
            },
            "marker": {
             "colorbar": {
              "outlinewidth": 0,
              "ticks": ""
             }
            },
            "type": "scatter3d"
           }
          ],
          "scattercarpet": [
           {
            "marker": {
             "colorbar": {
              "outlinewidth": 0,
              "ticks": ""
             }
            },
            "type": "scattercarpet"
           }
          ],
          "scattergeo": [
           {
            "marker": {
             "colorbar": {
              "outlinewidth": 0,
              "ticks": ""
             }
            },
            "type": "scattergeo"
           }
          ],
          "scattergl": [
           {
            "marker": {
             "colorbar": {
              "outlinewidth": 0,
              "ticks": ""
             }
            },
            "type": "scattergl"
           }
          ],
          "scattermapbox": [
           {
            "marker": {
             "colorbar": {
              "outlinewidth": 0,
              "ticks": ""
             }
            },
            "type": "scattermapbox"
           }
          ],
          "scatterpolar": [
           {
            "marker": {
             "colorbar": {
              "outlinewidth": 0,
              "ticks": ""
             }
            },
            "type": "scatterpolar"
           }
          ],
          "scatterpolargl": [
           {
            "marker": {
             "colorbar": {
              "outlinewidth": 0,
              "ticks": ""
             }
            },
            "type": "scatterpolargl"
           }
          ],
          "scatterternary": [
           {
            "marker": {
             "colorbar": {
              "outlinewidth": 0,
              "ticks": ""
             }
            },
            "type": "scatterternary"
           }
          ],
          "surface": [
           {
            "colorbar": {
             "outlinewidth": 0,
             "ticks": ""
            },
            "colorscale": [
             [
              0,
              "#0d0887"
             ],
             [
              0.1111111111111111,
              "#46039f"
             ],
             [
              0.2222222222222222,
              "#7201a8"
             ],
             [
              0.3333333333333333,
              "#9c179e"
             ],
             [
              0.4444444444444444,
              "#bd3786"
             ],
             [
              0.5555555555555556,
              "#d8576b"
             ],
             [
              0.6666666666666666,
              "#ed7953"
             ],
             [
              0.7777777777777778,
              "#fb9f3a"
             ],
             [
              0.8888888888888888,
              "#fdca26"
             ],
             [
              1,
              "#f0f921"
             ]
            ],
            "type": "surface"
           }
          ],
          "table": [
           {
            "cells": {
             "fill": {
              "color": "#EBF0F8"
             },
             "line": {
              "color": "white"
             }
            },
            "header": {
             "fill": {
              "color": "#C8D4E3"
             },
             "line": {
              "color": "white"
             }
            },
            "type": "table"
           }
          ]
         },
         "layout": {
          "annotationdefaults": {
           "arrowcolor": "#2a3f5f",
           "arrowhead": 0,
           "arrowwidth": 1
          },
          "autotypenumbers": "strict",
          "coloraxis": {
           "colorbar": {
            "outlinewidth": 0,
            "ticks": ""
           }
          },
          "colorscale": {
           "diverging": [
            [
             0,
             "#8e0152"
            ],
            [
             0.1,
             "#c51b7d"
            ],
            [
             0.2,
             "#de77ae"
            ],
            [
             0.3,
             "#f1b6da"
            ],
            [
             0.4,
             "#fde0ef"
            ],
            [
             0.5,
             "#f7f7f7"
            ],
            [
             0.6,
             "#e6f5d0"
            ],
            [
             0.7,
             "#b8e186"
            ],
            [
             0.8,
             "#7fbc41"
            ],
            [
             0.9,
             "#4d9221"
            ],
            [
             1,
             "#276419"
            ]
           ],
           "sequential": [
            [
             0,
             "#0d0887"
            ],
            [
             0.1111111111111111,
             "#46039f"
            ],
            [
             0.2222222222222222,
             "#7201a8"
            ],
            [
             0.3333333333333333,
             "#9c179e"
            ],
            [
             0.4444444444444444,
             "#bd3786"
            ],
            [
             0.5555555555555556,
             "#d8576b"
            ],
            [
             0.6666666666666666,
             "#ed7953"
            ],
            [
             0.7777777777777778,
             "#fb9f3a"
            ],
            [
             0.8888888888888888,
             "#fdca26"
            ],
            [
             1,
             "#f0f921"
            ]
           ],
           "sequentialminus": [
            [
             0,
             "#0d0887"
            ],
            [
             0.1111111111111111,
             "#46039f"
            ],
            [
             0.2222222222222222,
             "#7201a8"
            ],
            [
             0.3333333333333333,
             "#9c179e"
            ],
            [
             0.4444444444444444,
             "#bd3786"
            ],
            [
             0.5555555555555556,
             "#d8576b"
            ],
            [
             0.6666666666666666,
             "#ed7953"
            ],
            [
             0.7777777777777778,
             "#fb9f3a"
            ],
            [
             0.8888888888888888,
             "#fdca26"
            ],
            [
             1,
             "#f0f921"
            ]
           ]
          },
          "colorway": [
           "#636efa",
           "#EF553B",
           "#00cc96",
           "#ab63fa",
           "#FFA15A",
           "#19d3f3",
           "#FF6692",
           "#B6E880",
           "#FF97FF",
           "#FECB52"
          ],
          "font": {
           "color": "#2a3f5f"
          },
          "geo": {
           "bgcolor": "white",
           "lakecolor": "white",
           "landcolor": "#E5ECF6",
           "showlakes": true,
           "showland": true,
           "subunitcolor": "white"
          },
          "hoverlabel": {
           "align": "left"
          },
          "hovermode": "closest",
          "mapbox": {
           "style": "light"
          },
          "paper_bgcolor": "white",
          "plot_bgcolor": "#E5ECF6",
          "polar": {
           "angularaxis": {
            "gridcolor": "white",
            "linecolor": "white",
            "ticks": ""
           },
           "bgcolor": "#E5ECF6",
           "radialaxis": {
            "gridcolor": "white",
            "linecolor": "white",
            "ticks": ""
           }
          },
          "scene": {
           "xaxis": {
            "backgroundcolor": "#E5ECF6",
            "gridcolor": "white",
            "gridwidth": 2,
            "linecolor": "white",
            "showbackground": true,
            "ticks": "",
            "zerolinecolor": "white"
           },
           "yaxis": {
            "backgroundcolor": "#E5ECF6",
            "gridcolor": "white",
            "gridwidth": 2,
            "linecolor": "white",
            "showbackground": true,
            "ticks": "",
            "zerolinecolor": "white"
           },
           "zaxis": {
            "backgroundcolor": "#E5ECF6",
            "gridcolor": "white",
            "gridwidth": 2,
            "linecolor": "white",
            "showbackground": true,
            "ticks": "",
            "zerolinecolor": "white"
           }
          },
          "shapedefaults": {
           "line": {
            "color": "#2a3f5f"
           }
          },
          "ternary": {
           "aaxis": {
            "gridcolor": "white",
            "linecolor": "white",
            "ticks": ""
           },
           "baxis": {
            "gridcolor": "white",
            "linecolor": "white",
            "ticks": ""
           },
           "bgcolor": "#E5ECF6",
           "caxis": {
            "gridcolor": "white",
            "linecolor": "white",
            "ticks": ""
           }
          },
          "title": {
           "x": 0.05
          },
          "xaxis": {
           "automargin": true,
           "gridcolor": "white",
           "linecolor": "white",
           "ticks": "",
           "title": {
            "standoff": 15
           },
           "zerolinecolor": "white",
           "zerolinewidth": 2
          },
          "yaxis": {
           "automargin": true,
           "gridcolor": "white",
           "linecolor": "white",
           "ticks": "",
           "title": {
            "standoff": 15
           },
           "zerolinecolor": "white",
           "zerolinewidth": 2
          }
         }
        },
        "title": {
         "text": "Agglomerative Clustering"
        }
       }
      },
      "text/html": [
       "<div>                            <div id=\"733dbd44-e902-46c9-b2f9-05dfff31f33b\" class=\"plotly-graph-div\" style=\"height:525px; width:100%;\"></div>            <script type=\"text/javascript\">                require([\"plotly\"], function(Plotly) {                    window.PLOTLYENV=window.PLOTLYENV || {};                                    if (document.getElementById(\"733dbd44-e902-46c9-b2f9-05dfff31f33b\")) {                    Plotly.newPlot(                        \"733dbd44-e902-46c9-b2f9-05dfff31f33b\",                        [{\"hovertemplate\":\"PC1=%{x}<br>PC2=%{y}<br>PC3=%{z}<br>color=%{marker.color}<extra></extra>\",\"legendgroup\":\"\",\"marker\":{\"color\":[1,0,2,1,1,0,2,1,0,1,0,2,1,0,1,2,0,2,1,0,1,1,0,0,2,0,0,0,0,2,1,1,0,0,1,1,0,1,0,1,2,2,1,0,1,0,1,1,0,0,0,0,2,2,0,1,2,1,1,0,0,1,0,1,1,2,2,0,0,0,0,0,0,1,0,1,2,0,1,2,0,0,0,2,1,1,1,0,0,1,0,1,0,1,0,0,1,0,0,0],\"coloraxis\":\"coloraxis\",\"symbol\":\"circle\"},\"mode\":\"markers\",\"name\":\"\",\"scene\":\"scene\",\"showlegend\":false,\"x\":[1.0149083392966256,-0.3130428010587717,-0.45146178939282683,0.7005507580900646,0.07257440058436636,-0.4882325056578478,-0.6568893465727057,0.6415282147133622,-0.1179576912111683,1.0873935168900546,-0.05146086994807354,-0.5740836157485354,1.2723421394364716,-0.575252193452425,0.20463061484303552,-0.451461789392827,-0.43765090726748845,-0.656889346572705,0.7398744951826123,-0.3628767305235811,1.4224486984594111,0.1514753767384692,-0.38681689153707915,-0.29715821895457295,-0.3031208959842476,-0.6123239093830027,-0.31929178214860904,-0.43052698100335873,-0.3550585485162153,-0.37575989033270984,0.2671492960514589,0.3244724043164433,-0.43200793390176206,-0.3689843727417128,0.27576893904064576,1.148069384612407,-0.46098242377386955,1.6073973210058283,-0.6682363416338494,1.4955884063198501,-0.451461789392827,-0.5342675202169963,0.25468545591337344,-0.5345727099403836,1.1139745215118753,-0.7358897080705509,1.0356059396594217,0.198413913595318,-0.6103195545466079,-0.3820967676546399,-0.19034373792075016,-0.9469402168747866,-0.20299155201169208,-0.3031208959842476,0.09460648689134596,0.6415282147133625,-0.5342675202169963,0.23817480617935138,0.6280655804966342,-0.08209673511888334,-0.22721417754569806,0.25468545591337344,-0.1162819709289515,0.6280655804966342,1.3499635208659804,-0.6590173246734197,-0.3031208959842476,-0.14654105051657978,0.004568823044083487,-0.20983272188386706,-0.27185652563282703,-0.2837713475605639,-0.46212820337450117,0.5421831401654698,-0.2255955522883314,0.6539920548514482,-0.43413817624444095,0.3646744036925476,0.18299469537208118,-0.311516349888732,-1.084257248798442,-1.1277741037899585,-0.4371402785824909,-0.342936991515787,1.0749296767519692,0.7146679225738009,1.3624273610040651,-0.8852473682935964,0.13800426129357,0.25468545591337344,-0.6568735091179451,0.5815068772580168,-0.2509211511771291,0.6539920548514482,-0.025816253729114436,-0.15379879488051196,0.6880869179519798,-0.39864147098195646,-0.5233171055715434,-0.8870203689216862],\"y\":[0.1577644064878873,0.019267901261709453,1.0081137570644738,0.006002383752602541,-0.4943517103835355,-0.7611759531438241,1.477536728450557,0.10147699258114266,-0.5915469879012744,0.03996909577661817,-0.5216886837905665,1.2085982537601738,0.04221354848981329,-0.44149042331685484,0.034460428911103666,1.008113757064473,-0.0812823985779111,1.4775367284505563,0.15550539844777259,-0.29122225246645017,-0.06774760176049505,-0.037543704713095864,-0.378549057605865,-0.5814915488340242,0.8795931193514881,-0.4561935860435776,-0.013632694635634487,-0.03285759021958937,-0.2108119375820624,0.5813805643833144,0.059690675423084226,-0.3024841771349627,-0.3605733298482958,-1.067115058385582,0.17661309022130384,0.018325449639957893,-0.3565377101250818,-0.06550314904729866,-0.25973589455053686,-0.09721085303119768,1.0081137570644734,1.2770522317548552,0.06751028055712814,-0.5413752980972327,0.09816084820041057,-0.9459556791395503,-0.10171431378450942,-0.15359480969466377,-0.16279856348639332,0.25605261738033464,0.1249191980664801,-1.2123228457254138,0.37571147478994016,0.8795931193514881,-1.242986874878973,0.10147699258114276,1.2770522317548552,0.06372629514629834,0.12379769446387366,-0.5528052239602276,-0.28878688311049855,0.06751028055712814,-0.24968118880918566,0.12379769446387366,0.050047708950776565,0.535507266507506,0.8795931193514881,0.1722063736430748,-0.6623171881201189,0.12432188653193336,0.08299376231114149,0.0817410757182372,-0.6789769739818338,0.061949683463199894,-0.1599068460197561,0.0936573874470989,0.7731705871933073,-0.8114036022428254,0.11496745404204858,0.5726860904976069,-0.2711626084640894,-0.07555197536364382,-0.23879138518171508,0.8111391413568064,0.04778870091066093,0.07201374131043972,0.0422281038167327,0.18356541020321976,0.05352964916992127,0.06751028055712814,-0.7091104923077988,0.21145269815837006,0.013302258206746884,0.0936573874470989,-0.4381587751920797,-0.6063698884095213,0.01382198888664633,-0.33914798195357015,-0.43649520028610955,-1.0993278500240786],\"z\":[-0.520467926686968,-0.12652132712289557,0.28101904183476245,-0.05644189483094558,0.8359163381037934,0.476577970194797,0.4248229145627804,0.08923143306461133,0.01325008975439689,-0.20652610165098642,-0.5453094586272011,0.27408699097096056,-0.19040895138279318,-0.5777455821592077,-0.8002907841007966,0.2810190418347623,-0.5023256212769788,0.42482291456278004,-0.5032729076326224,-0.2157229972951423,0.029965855972844707,0.34368965820480346,0.16254683694809105,-0.8152221872264273,0.37516661651741934,-0.2108435266257632,-0.13501212200379967,-0.9220030456215491,-0.1168926323931191,-0.17178975119387876,0.2995704882424566,0.6317754617756468,-0.38892926466027533,0.8263038616689081,-0.3246117262380942,-0.11777461197490087,-0.4439017019839333,0.04608300624103846,-0.46452589856542964,0.1789721940067347,0.2810190418347624,0.43175496542658204,0.23931563988465282,0.07024543700400525,0.14840841263626411,0.47033584892405406,0.18005006279288607,0.6626924182906491,-0.8185173384926676,-0.6285616535700705,-0.44842333534113515,0.47786847203201654,-0.004108368602980793,0.37516661651741934,1.1425432065253804,0.08923143306461155,0.43175496542658204,0.24459805091879896,-0.3703837198669265,0.4488870572225543,0.341734998864806,0.23931563988465282,-0.8440540004098899,-0.3703837198669265,-0.283975969063136,0.3881624355571157,0.37516661651741934,-0.08009698707669632,-0.18383685139553552,-0.23089534544304544,-0.14926820829996487,-0.19702144176961392,0.4360805231067688,0.2823754691881116,0.11682639531074722,0.14948628142241527,0.05247998030618198,1.0889754878378863,0.09259656846605475,0.05941203116998368,-0.3635787591400758,-0.9686162731460941,0.17974667239897152,0.21749864206179786,-0.2667809500087907,0.23823777109850136,-0.22372112070533198,-0.7606989935482324,-0.9820604521560773,0.23931563988465282,0.36330202881602036,-0.16445554361356546,-0.0672950102420444,0.14948628142241527,-0.5859341642681556,0.15498051262352142,-0.11669674318874944,0.24508970734483027,0.3562672210256728,0.010675723198081237],\"type\":\"scatter3d\"}],                        {\"template\":{\"data\":{\"bar\":[{\"error_x\":{\"color\":\"#2a3f5f\"},\"error_y\":{\"color\":\"#2a3f5f\"},\"marker\":{\"line\":{\"color\":\"#E5ECF6\",\"width\":0.5},\"pattern\":{\"fillmode\":\"overlay\",\"size\":10,\"solidity\":0.2}},\"type\":\"bar\"}],\"barpolar\":[{\"marker\":{\"line\":{\"color\":\"#E5ECF6\",\"width\":0.5},\"pattern\":{\"fillmode\":\"overlay\",\"size\":10,\"solidity\":0.2}},\"type\":\"barpolar\"}],\"carpet\":[{\"aaxis\":{\"endlinecolor\":\"#2a3f5f\",\"gridcolor\":\"white\",\"linecolor\":\"white\",\"minorgridcolor\":\"white\",\"startlinecolor\":\"#2a3f5f\"},\"baxis\":{\"endlinecolor\":\"#2a3f5f\",\"gridcolor\":\"white\",\"linecolor\":\"white\",\"minorgridcolor\":\"white\",\"startlinecolor\":\"#2a3f5f\"},\"type\":\"carpet\"}],\"choropleth\":[{\"colorbar\":{\"outlinewidth\":0,\"ticks\":\"\"},\"type\":\"choropleth\"}],\"contour\":[{\"colorbar\":{\"outlinewidth\":0,\"ticks\":\"\"},\"colorscale\":[[0.0,\"#0d0887\"],[0.1111111111111111,\"#46039f\"],[0.2222222222222222,\"#7201a8\"],[0.3333333333333333,\"#9c179e\"],[0.4444444444444444,\"#bd3786\"],[0.5555555555555556,\"#d8576b\"],[0.6666666666666666,\"#ed7953\"],[0.7777777777777778,\"#fb9f3a\"],[0.8888888888888888,\"#fdca26\"],[1.0,\"#f0f921\"]],\"type\":\"contour\"}],\"contourcarpet\":[{\"colorbar\":{\"outlinewidth\":0,\"ticks\":\"\"},\"type\":\"contourcarpet\"}],\"heatmap\":[{\"colorbar\":{\"outlinewidth\":0,\"ticks\":\"\"},\"colorscale\":[[0.0,\"#0d0887\"],[0.1111111111111111,\"#46039f\"],[0.2222222222222222,\"#7201a8\"],[0.3333333333333333,\"#9c179e\"],[0.4444444444444444,\"#bd3786\"],[0.5555555555555556,\"#d8576b\"],[0.6666666666666666,\"#ed7953\"],[0.7777777777777778,\"#fb9f3a\"],[0.8888888888888888,\"#fdca26\"],[1.0,\"#f0f921\"]],\"type\":\"heatmap\"}],\"heatmapgl\":[{\"colorbar\":{\"outlinewidth\":0,\"ticks\":\"\"},\"colorscale\":[[0.0,\"#0d0887\"],[0.1111111111111111,\"#46039f\"],[0.2222222222222222,\"#7201a8\"],[0.3333333333333333,\"#9c179e\"],[0.4444444444444444,\"#bd3786\"],[0.5555555555555556,\"#d8576b\"],[0.6666666666666666,\"#ed7953\"],[0.7777777777777778,\"#fb9f3a\"],[0.8888888888888888,\"#fdca26\"],[1.0,\"#f0f921\"]],\"type\":\"heatmapgl\"}],\"histogram\":[{\"marker\":{\"pattern\":{\"fillmode\":\"overlay\",\"size\":10,\"solidity\":0.2}},\"type\":\"histogram\"}],\"histogram2d\":[{\"colorbar\":{\"outlinewidth\":0,\"ticks\":\"\"},\"colorscale\":[[0.0,\"#0d0887\"],[0.1111111111111111,\"#46039f\"],[0.2222222222222222,\"#7201a8\"],[0.3333333333333333,\"#9c179e\"],[0.4444444444444444,\"#bd3786\"],[0.5555555555555556,\"#d8576b\"],[0.6666666666666666,\"#ed7953\"],[0.7777777777777778,\"#fb9f3a\"],[0.8888888888888888,\"#fdca26\"],[1.0,\"#f0f921\"]],\"type\":\"histogram2d\"}],\"histogram2dcontour\":[{\"colorbar\":{\"outlinewidth\":0,\"ticks\":\"\"},\"colorscale\":[[0.0,\"#0d0887\"],[0.1111111111111111,\"#46039f\"],[0.2222222222222222,\"#7201a8\"],[0.3333333333333333,\"#9c179e\"],[0.4444444444444444,\"#bd3786\"],[0.5555555555555556,\"#d8576b\"],[0.6666666666666666,\"#ed7953\"],[0.7777777777777778,\"#fb9f3a\"],[0.8888888888888888,\"#fdca26\"],[1.0,\"#f0f921\"]],\"type\":\"histogram2dcontour\"}],\"mesh3d\":[{\"colorbar\":{\"outlinewidth\":0,\"ticks\":\"\"},\"type\":\"mesh3d\"}],\"parcoords\":[{\"line\":{\"colorbar\":{\"outlinewidth\":0,\"ticks\":\"\"}},\"type\":\"parcoords\"}],\"pie\":[{\"automargin\":true,\"type\":\"pie\"}],\"scatter\":[{\"marker\":{\"colorbar\":{\"outlinewidth\":0,\"ticks\":\"\"}},\"type\":\"scatter\"}],\"scatter3d\":[{\"line\":{\"colorbar\":{\"outlinewidth\":0,\"ticks\":\"\"}},\"marker\":{\"colorbar\":{\"outlinewidth\":0,\"ticks\":\"\"}},\"type\":\"scatter3d\"}],\"scattercarpet\":[{\"marker\":{\"colorbar\":{\"outlinewidth\":0,\"ticks\":\"\"}},\"type\":\"scattercarpet\"}],\"scattergeo\":[{\"marker\":{\"colorbar\":{\"outlinewidth\":0,\"ticks\":\"\"}},\"type\":\"scattergeo\"}],\"scattergl\":[{\"marker\":{\"colorbar\":{\"outlinewidth\":0,\"ticks\":\"\"}},\"type\":\"scattergl\"}],\"scattermapbox\":[{\"marker\":{\"colorbar\":{\"outlinewidth\":0,\"ticks\":\"\"}},\"type\":\"scattermapbox\"}],\"scatterpolar\":[{\"marker\":{\"colorbar\":{\"outlinewidth\":0,\"ticks\":\"\"}},\"type\":\"scatterpolar\"}],\"scatterpolargl\":[{\"marker\":{\"colorbar\":{\"outlinewidth\":0,\"ticks\":\"\"}},\"type\":\"scatterpolargl\"}],\"scatterternary\":[{\"marker\":{\"colorbar\":{\"outlinewidth\":0,\"ticks\":\"\"}},\"type\":\"scatterternary\"}],\"surface\":[{\"colorbar\":{\"outlinewidth\":0,\"ticks\":\"\"},\"colorscale\":[[0.0,\"#0d0887\"],[0.1111111111111111,\"#46039f\"],[0.2222222222222222,\"#7201a8\"],[0.3333333333333333,\"#9c179e\"],[0.4444444444444444,\"#bd3786\"],[0.5555555555555556,\"#d8576b\"],[0.6666666666666666,\"#ed7953\"],[0.7777777777777778,\"#fb9f3a\"],[0.8888888888888888,\"#fdca26\"],[1.0,\"#f0f921\"]],\"type\":\"surface\"}],\"table\":[{\"cells\":{\"fill\":{\"color\":\"#EBF0F8\"},\"line\":{\"color\":\"white\"}},\"header\":{\"fill\":{\"color\":\"#C8D4E3\"},\"line\":{\"color\":\"white\"}},\"type\":\"table\"}]},\"layout\":{\"annotationdefaults\":{\"arrowcolor\":\"#2a3f5f\",\"arrowhead\":0,\"arrowwidth\":1},\"autotypenumbers\":\"strict\",\"coloraxis\":{\"colorbar\":{\"outlinewidth\":0,\"ticks\":\"\"}},\"colorscale\":{\"diverging\":[[0,\"#8e0152\"],[0.1,\"#c51b7d\"],[0.2,\"#de77ae\"],[0.3,\"#f1b6da\"],[0.4,\"#fde0ef\"],[0.5,\"#f7f7f7\"],[0.6,\"#e6f5d0\"],[0.7,\"#b8e186\"],[0.8,\"#7fbc41\"],[0.9,\"#4d9221\"],[1,\"#276419\"]],\"sequential\":[[0.0,\"#0d0887\"],[0.1111111111111111,\"#46039f\"],[0.2222222222222222,\"#7201a8\"],[0.3333333333333333,\"#9c179e\"],[0.4444444444444444,\"#bd3786\"],[0.5555555555555556,\"#d8576b\"],[0.6666666666666666,\"#ed7953\"],[0.7777777777777778,\"#fb9f3a\"],[0.8888888888888888,\"#fdca26\"],[1.0,\"#f0f921\"]],\"sequentialminus\":[[0.0,\"#0d0887\"],[0.1111111111111111,\"#46039f\"],[0.2222222222222222,\"#7201a8\"],[0.3333333333333333,\"#9c179e\"],[0.4444444444444444,\"#bd3786\"],[0.5555555555555556,\"#d8576b\"],[0.6666666666666666,\"#ed7953\"],[0.7777777777777778,\"#fb9f3a\"],[0.8888888888888888,\"#fdca26\"],[1.0,\"#f0f921\"]]},\"colorway\":[\"#636efa\",\"#EF553B\",\"#00cc96\",\"#ab63fa\",\"#FFA15A\",\"#19d3f3\",\"#FF6692\",\"#B6E880\",\"#FF97FF\",\"#FECB52\"],\"font\":{\"color\":\"#2a3f5f\"},\"geo\":{\"bgcolor\":\"white\",\"lakecolor\":\"white\",\"landcolor\":\"#E5ECF6\",\"showlakes\":true,\"showland\":true,\"subunitcolor\":\"white\"},\"hoverlabel\":{\"align\":\"left\"},\"hovermode\":\"closest\",\"mapbox\":{\"style\":\"light\"},\"paper_bgcolor\":\"white\",\"plot_bgcolor\":\"#E5ECF6\",\"polar\":{\"angularaxis\":{\"gridcolor\":\"white\",\"linecolor\":\"white\",\"ticks\":\"\"},\"bgcolor\":\"#E5ECF6\",\"radialaxis\":{\"gridcolor\":\"white\",\"linecolor\":\"white\",\"ticks\":\"\"}},\"scene\":{\"xaxis\":{\"backgroundcolor\":\"#E5ECF6\",\"gridcolor\":\"white\",\"gridwidth\":2,\"linecolor\":\"white\",\"showbackground\":true,\"ticks\":\"\",\"zerolinecolor\":\"white\"},\"yaxis\":{\"backgroundcolor\":\"#E5ECF6\",\"gridcolor\":\"white\",\"gridwidth\":2,\"linecolor\":\"white\",\"showbackground\":true,\"ticks\":\"\",\"zerolinecolor\":\"white\"},\"zaxis\":{\"backgroundcolor\":\"#E5ECF6\",\"gridcolor\":\"white\",\"gridwidth\":2,\"linecolor\":\"white\",\"showbackground\":true,\"ticks\":\"\",\"zerolinecolor\":\"white\"}},\"shapedefaults\":{\"line\":{\"color\":\"#2a3f5f\"}},\"ternary\":{\"aaxis\":{\"gridcolor\":\"white\",\"linecolor\":\"white\",\"ticks\":\"\"},\"baxis\":{\"gridcolor\":\"white\",\"linecolor\":\"white\",\"ticks\":\"\"},\"bgcolor\":\"#E5ECF6\",\"caxis\":{\"gridcolor\":\"white\",\"linecolor\":\"white\",\"ticks\":\"\"}},\"title\":{\"x\":0.05},\"xaxis\":{\"automargin\":true,\"gridcolor\":\"white\",\"linecolor\":\"white\",\"ticks\":\"\",\"title\":{\"standoff\":15},\"zerolinecolor\":\"white\",\"zerolinewidth\":2},\"yaxis\":{\"automargin\":true,\"gridcolor\":\"white\",\"linecolor\":\"white\",\"ticks\":\"\",\"title\":{\"standoff\":15},\"zerolinecolor\":\"white\",\"zerolinewidth\":2}}},\"scene\":{\"domain\":{\"x\":[0.0,1.0],\"y\":[0.0,1.0]},\"xaxis\":{\"title\":{\"text\":\"PC1\"}},\"yaxis\":{\"title\":{\"text\":\"PC2\"}},\"zaxis\":{\"title\":{\"text\":\"PC3\"}}},\"coloraxis\":{\"colorbar\":{\"title\":{\"text\":\"color\"}},\"colorscale\":[[0.0,\"#0d0887\"],[0.1111111111111111,\"#46039f\"],[0.2222222222222222,\"#7201a8\"],[0.3333333333333333,\"#9c179e\"],[0.4444444444444444,\"#bd3786\"],[0.5555555555555556,\"#d8576b\"],[0.6666666666666666,\"#ed7953\"],[0.7777777777777778,\"#fb9f3a\"],[0.8888888888888888,\"#fdca26\"],[1.0,\"#f0f921\"]]},\"legend\":{\"tracegroupgap\":0},\"title\":{\"text\":\"Agglomerative Clustering\"}},                        {\"responsive\": true}                    ).then(function(){\n",
       "                            \n",
       "var gd = document.getElementById('733dbd44-e902-46c9-b2f9-05dfff31f33b');\n",
       "var x = new MutationObserver(function (mutations, observer) {{\n",
       "        var display = window.getComputedStyle(gd).display;\n",
       "        if (!display || display === 'none') {{\n",
       "            console.log([gd, 'removed!']);\n",
       "            Plotly.purge(gd);\n",
       "            observer.disconnect();\n",
       "        }}\n",
       "}});\n",
       "\n",
       "// Listen for the removal of the full notebook cells\n",
       "var notebookContainer = gd.closest('#notebook-container');\n",
       "if (notebookContainer) {{\n",
       "    x.observe(notebookContainer, {childList: true});\n",
       "}}\n",
       "\n",
       "// Listen for the clearing of the current output cell\n",
       "var outputEl = gd.closest('.output');\n",
       "if (outputEl) {{\n",
       "    x.observe(outputEl, {childList: true});\n",
       "}}\n",
       "\n",
       "                        })                };                });            </script>        </div>"
      ]
     },
     "metadata": {},
     "output_type": "display_data"
    },
    {
     "data": {
      "application/vnd.plotly.v1+json": {
       "config": {
        "plotlyServerURL": "https://plot.ly"
       },
       "data": [
        {
         "hovertemplate": "PC1=%{x}<br>PC2=%{y}<br>PC3=%{z}<br>color=%{marker.color}<extra></extra>",
         "legendgroup": "",
         "marker": {
          "color": [
           0,
           -1,
           1,
           2,
           -1,
           -1,
           1,
           2,
           -1,
           2,
           -1,
           1,
           2,
           -1,
           -1,
           1,
           -1,
           1,
           0,
           -1,
           2,
           2,
           -1,
           -1,
           1,
           -1,
           -1,
           -1,
           -1,
           -1,
           3,
           -1,
           -1,
           -1,
           -1,
           -1,
           -1,
           2,
           -1,
           -1,
           1,
           1,
           2,
           -1,
           -1,
           -1,
           2,
           -1,
           -1,
           -1,
           -1,
           -1,
           -1,
           1,
           -1,
           2,
           1,
           3,
           0,
           -1,
           -1,
           2,
           -1,
           0,
           0,
           -1,
           1,
           -1,
           -1,
           -1,
           -1,
           -1,
           -1,
           3,
           -1,
           2,
           1,
           -1,
           -1,
           1,
           -1,
           -1,
           -1,
           1,
           2,
           -1,
           0,
           -1,
           -1,
           2,
           -1,
           0,
           -1,
           2,
           -1,
           -1,
           2,
           -1,
           -1,
           -1
          ],
          "coloraxis": "coloraxis",
          "symbol": "circle"
         },
         "mode": "markers",
         "name": "",
         "scene": "scene",
         "showlegend": false,
         "type": "scatter3d",
         "x": [
          1.0149083392966256,
          -0.3130428010587717,
          -0.45146178939282683,
          0.7005507580900646,
          0.07257440058436636,
          -0.4882325056578478,
          -0.6568893465727057,
          0.6415282147133622,
          -0.1179576912111683,
          1.0873935168900546,
          -0.05146086994807354,
          -0.5740836157485354,
          1.2723421394364716,
          -0.575252193452425,
          0.20463061484303552,
          -0.451461789392827,
          -0.43765090726748845,
          -0.656889346572705,
          0.7398744951826123,
          -0.3628767305235811,
          1.4224486984594111,
          0.1514753767384692,
          -0.38681689153707915,
          -0.29715821895457295,
          -0.3031208959842476,
          -0.6123239093830027,
          -0.31929178214860904,
          -0.43052698100335873,
          -0.3550585485162153,
          -0.37575989033270984,
          0.2671492960514589,
          0.3244724043164433,
          -0.43200793390176206,
          -0.3689843727417128,
          0.27576893904064576,
          1.148069384612407,
          -0.46098242377386955,
          1.6073973210058283,
          -0.6682363416338494,
          1.4955884063198501,
          -0.451461789392827,
          -0.5342675202169963,
          0.25468545591337344,
          -0.5345727099403836,
          1.1139745215118753,
          -0.7358897080705509,
          1.0356059396594217,
          0.198413913595318,
          -0.6103195545466079,
          -0.3820967676546399,
          -0.19034373792075016,
          -0.9469402168747866,
          -0.20299155201169208,
          -0.3031208959842476,
          0.09460648689134596,
          0.6415282147133625,
          -0.5342675202169963,
          0.23817480617935138,
          0.6280655804966342,
          -0.08209673511888334,
          -0.22721417754569806,
          0.25468545591337344,
          -0.1162819709289515,
          0.6280655804966342,
          1.3499635208659804,
          -0.6590173246734197,
          -0.3031208959842476,
          -0.14654105051657978,
          0.004568823044083487,
          -0.20983272188386706,
          -0.27185652563282703,
          -0.2837713475605639,
          -0.46212820337450117,
          0.5421831401654698,
          -0.2255955522883314,
          0.6539920548514482,
          -0.43413817624444095,
          0.3646744036925476,
          0.18299469537208118,
          -0.311516349888732,
          -1.084257248798442,
          -1.1277741037899585,
          -0.4371402785824909,
          -0.342936991515787,
          1.0749296767519692,
          0.7146679225738009,
          1.3624273610040651,
          -0.8852473682935964,
          0.13800426129357,
          0.25468545591337344,
          -0.6568735091179451,
          0.5815068772580168,
          -0.2509211511771291,
          0.6539920548514482,
          -0.025816253729114436,
          -0.15379879488051196,
          0.6880869179519798,
          -0.39864147098195646,
          -0.5233171055715434,
          -0.8870203689216862
         ],
         "y": [
          0.1577644064878873,
          0.019267901261709453,
          1.0081137570644738,
          0.006002383752602541,
          -0.4943517103835355,
          -0.7611759531438241,
          1.477536728450557,
          0.10147699258114266,
          -0.5915469879012744,
          0.03996909577661817,
          -0.5216886837905665,
          1.2085982537601738,
          0.04221354848981329,
          -0.44149042331685484,
          0.034460428911103666,
          1.008113757064473,
          -0.0812823985779111,
          1.4775367284505563,
          0.15550539844777259,
          -0.29122225246645017,
          -0.06774760176049505,
          -0.037543704713095864,
          -0.378549057605865,
          -0.5814915488340242,
          0.8795931193514881,
          -0.4561935860435776,
          -0.013632694635634487,
          -0.03285759021958937,
          -0.2108119375820624,
          0.5813805643833144,
          0.059690675423084226,
          -0.3024841771349627,
          -0.3605733298482958,
          -1.067115058385582,
          0.17661309022130384,
          0.018325449639957893,
          -0.3565377101250818,
          -0.06550314904729866,
          -0.25973589455053686,
          -0.09721085303119768,
          1.0081137570644734,
          1.2770522317548552,
          0.06751028055712814,
          -0.5413752980972327,
          0.09816084820041057,
          -0.9459556791395503,
          -0.10171431378450942,
          -0.15359480969466377,
          -0.16279856348639332,
          0.25605261738033464,
          0.1249191980664801,
          -1.2123228457254138,
          0.37571147478994016,
          0.8795931193514881,
          -1.242986874878973,
          0.10147699258114276,
          1.2770522317548552,
          0.06372629514629834,
          0.12379769446387366,
          -0.5528052239602276,
          -0.28878688311049855,
          0.06751028055712814,
          -0.24968118880918566,
          0.12379769446387366,
          0.050047708950776565,
          0.535507266507506,
          0.8795931193514881,
          0.1722063736430748,
          -0.6623171881201189,
          0.12432188653193336,
          0.08299376231114149,
          0.0817410757182372,
          -0.6789769739818338,
          0.061949683463199894,
          -0.1599068460197561,
          0.0936573874470989,
          0.7731705871933073,
          -0.8114036022428254,
          0.11496745404204858,
          0.5726860904976069,
          -0.2711626084640894,
          -0.07555197536364382,
          -0.23879138518171508,
          0.8111391413568064,
          0.04778870091066093,
          0.07201374131043972,
          0.0422281038167327,
          0.18356541020321976,
          0.05352964916992127,
          0.06751028055712814,
          -0.7091104923077988,
          0.21145269815837006,
          0.013302258206746884,
          0.0936573874470989,
          -0.4381587751920797,
          -0.6063698884095213,
          0.01382198888664633,
          -0.33914798195357015,
          -0.43649520028610955,
          -1.0993278500240786
         ],
         "z": [
          -0.520467926686968,
          -0.12652132712289557,
          0.28101904183476245,
          -0.05644189483094558,
          0.8359163381037934,
          0.476577970194797,
          0.4248229145627804,
          0.08923143306461133,
          0.01325008975439689,
          -0.20652610165098642,
          -0.5453094586272011,
          0.27408699097096056,
          -0.19040895138279318,
          -0.5777455821592077,
          -0.8002907841007966,
          0.2810190418347623,
          -0.5023256212769788,
          0.42482291456278004,
          -0.5032729076326224,
          -0.2157229972951423,
          0.029965855972844707,
          0.34368965820480346,
          0.16254683694809105,
          -0.8152221872264273,
          0.37516661651741934,
          -0.2108435266257632,
          -0.13501212200379967,
          -0.9220030456215491,
          -0.1168926323931191,
          -0.17178975119387876,
          0.2995704882424566,
          0.6317754617756468,
          -0.38892926466027533,
          0.8263038616689081,
          -0.3246117262380942,
          -0.11777461197490087,
          -0.4439017019839333,
          0.04608300624103846,
          -0.46452589856542964,
          0.1789721940067347,
          0.2810190418347624,
          0.43175496542658204,
          0.23931563988465282,
          0.07024543700400525,
          0.14840841263626411,
          0.47033584892405406,
          0.18005006279288607,
          0.6626924182906491,
          -0.8185173384926676,
          -0.6285616535700705,
          -0.44842333534113515,
          0.47786847203201654,
          -0.004108368602980793,
          0.37516661651741934,
          1.1425432065253804,
          0.08923143306461155,
          0.43175496542658204,
          0.24459805091879896,
          -0.3703837198669265,
          0.4488870572225543,
          0.341734998864806,
          0.23931563988465282,
          -0.8440540004098899,
          -0.3703837198669265,
          -0.283975969063136,
          0.3881624355571157,
          0.37516661651741934,
          -0.08009698707669632,
          -0.18383685139553552,
          -0.23089534544304544,
          -0.14926820829996487,
          -0.19702144176961392,
          0.4360805231067688,
          0.2823754691881116,
          0.11682639531074722,
          0.14948628142241527,
          0.05247998030618198,
          1.0889754878378863,
          0.09259656846605475,
          0.05941203116998368,
          -0.3635787591400758,
          -0.9686162731460941,
          0.17974667239897152,
          0.21749864206179786,
          -0.2667809500087907,
          0.23823777109850136,
          -0.22372112070533198,
          -0.7606989935482324,
          -0.9820604521560773,
          0.23931563988465282,
          0.36330202881602036,
          -0.16445554361356546,
          -0.0672950102420444,
          0.14948628142241527,
          -0.5859341642681556,
          0.15498051262352142,
          -0.11669674318874944,
          0.24508970734483027,
          0.3562672210256728,
          0.010675723198081237
         ]
        }
       ],
       "layout": {
        "coloraxis": {
         "colorbar": {
          "title": {
           "text": "color"
          }
         },
         "colorscale": [
          [
           0,
           "#0d0887"
          ],
          [
           0.1111111111111111,
           "#46039f"
          ],
          [
           0.2222222222222222,
           "#7201a8"
          ],
          [
           0.3333333333333333,
           "#9c179e"
          ],
          [
           0.4444444444444444,
           "#bd3786"
          ],
          [
           0.5555555555555556,
           "#d8576b"
          ],
          [
           0.6666666666666666,
           "#ed7953"
          ],
          [
           0.7777777777777778,
           "#fb9f3a"
          ],
          [
           0.8888888888888888,
           "#fdca26"
          ],
          [
           1,
           "#f0f921"
          ]
         ]
        },
        "legend": {
         "tracegroupgap": 0
        },
        "scene": {
         "domain": {
          "x": [
           0,
           1
          ],
          "y": [
           0,
           1
          ]
         },
         "xaxis": {
          "title": {
           "text": "PC1"
          }
         },
         "yaxis": {
          "title": {
           "text": "PC2"
          }
         },
         "zaxis": {
          "title": {
           "text": "PC3"
          }
         }
        },
        "template": {
         "data": {
          "bar": [
           {
            "error_x": {
             "color": "#2a3f5f"
            },
            "error_y": {
             "color": "#2a3f5f"
            },
            "marker": {
             "line": {
              "color": "#E5ECF6",
              "width": 0.5
             },
             "pattern": {
              "fillmode": "overlay",
              "size": 10,
              "solidity": 0.2
             }
            },
            "type": "bar"
           }
          ],
          "barpolar": [
           {
            "marker": {
             "line": {
              "color": "#E5ECF6",
              "width": 0.5
             },
             "pattern": {
              "fillmode": "overlay",
              "size": 10,
              "solidity": 0.2
             }
            },
            "type": "barpolar"
           }
          ],
          "carpet": [
           {
            "aaxis": {
             "endlinecolor": "#2a3f5f",
             "gridcolor": "white",
             "linecolor": "white",
             "minorgridcolor": "white",
             "startlinecolor": "#2a3f5f"
            },
            "baxis": {
             "endlinecolor": "#2a3f5f",
             "gridcolor": "white",
             "linecolor": "white",
             "minorgridcolor": "white",
             "startlinecolor": "#2a3f5f"
            },
            "type": "carpet"
           }
          ],
          "choropleth": [
           {
            "colorbar": {
             "outlinewidth": 0,
             "ticks": ""
            },
            "type": "choropleth"
           }
          ],
          "contour": [
           {
            "colorbar": {
             "outlinewidth": 0,
             "ticks": ""
            },
            "colorscale": [
             [
              0,
              "#0d0887"
             ],
             [
              0.1111111111111111,
              "#46039f"
             ],
             [
              0.2222222222222222,
              "#7201a8"
             ],
             [
              0.3333333333333333,
              "#9c179e"
             ],
             [
              0.4444444444444444,
              "#bd3786"
             ],
             [
              0.5555555555555556,
              "#d8576b"
             ],
             [
              0.6666666666666666,
              "#ed7953"
             ],
             [
              0.7777777777777778,
              "#fb9f3a"
             ],
             [
              0.8888888888888888,
              "#fdca26"
             ],
             [
              1,
              "#f0f921"
             ]
            ],
            "type": "contour"
           }
          ],
          "contourcarpet": [
           {
            "colorbar": {
             "outlinewidth": 0,
             "ticks": ""
            },
            "type": "contourcarpet"
           }
          ],
          "heatmap": [
           {
            "colorbar": {
             "outlinewidth": 0,
             "ticks": ""
            },
            "colorscale": [
             [
              0,
              "#0d0887"
             ],
             [
              0.1111111111111111,
              "#46039f"
             ],
             [
              0.2222222222222222,
              "#7201a8"
             ],
             [
              0.3333333333333333,
              "#9c179e"
             ],
             [
              0.4444444444444444,
              "#bd3786"
             ],
             [
              0.5555555555555556,
              "#d8576b"
             ],
             [
              0.6666666666666666,
              "#ed7953"
             ],
             [
              0.7777777777777778,
              "#fb9f3a"
             ],
             [
              0.8888888888888888,
              "#fdca26"
             ],
             [
              1,
              "#f0f921"
             ]
            ],
            "type": "heatmap"
           }
          ],
          "heatmapgl": [
           {
            "colorbar": {
             "outlinewidth": 0,
             "ticks": ""
            },
            "colorscale": [
             [
              0,
              "#0d0887"
             ],
             [
              0.1111111111111111,
              "#46039f"
             ],
             [
              0.2222222222222222,
              "#7201a8"
             ],
             [
              0.3333333333333333,
              "#9c179e"
             ],
             [
              0.4444444444444444,
              "#bd3786"
             ],
             [
              0.5555555555555556,
              "#d8576b"
             ],
             [
              0.6666666666666666,
              "#ed7953"
             ],
             [
              0.7777777777777778,
              "#fb9f3a"
             ],
             [
              0.8888888888888888,
              "#fdca26"
             ],
             [
              1,
              "#f0f921"
             ]
            ],
            "type": "heatmapgl"
           }
          ],
          "histogram": [
           {
            "marker": {
             "pattern": {
              "fillmode": "overlay",
              "size": 10,
              "solidity": 0.2
             }
            },
            "type": "histogram"
           }
          ],
          "histogram2d": [
           {
            "colorbar": {
             "outlinewidth": 0,
             "ticks": ""
            },
            "colorscale": [
             [
              0,
              "#0d0887"
             ],
             [
              0.1111111111111111,
              "#46039f"
             ],
             [
              0.2222222222222222,
              "#7201a8"
             ],
             [
              0.3333333333333333,
              "#9c179e"
             ],
             [
              0.4444444444444444,
              "#bd3786"
             ],
             [
              0.5555555555555556,
              "#d8576b"
             ],
             [
              0.6666666666666666,
              "#ed7953"
             ],
             [
              0.7777777777777778,
              "#fb9f3a"
             ],
             [
              0.8888888888888888,
              "#fdca26"
             ],
             [
              1,
              "#f0f921"
             ]
            ],
            "type": "histogram2d"
           }
          ],
          "histogram2dcontour": [
           {
            "colorbar": {
             "outlinewidth": 0,
             "ticks": ""
            },
            "colorscale": [
             [
              0,
              "#0d0887"
             ],
             [
              0.1111111111111111,
              "#46039f"
             ],
             [
              0.2222222222222222,
              "#7201a8"
             ],
             [
              0.3333333333333333,
              "#9c179e"
             ],
             [
              0.4444444444444444,
              "#bd3786"
             ],
             [
              0.5555555555555556,
              "#d8576b"
             ],
             [
              0.6666666666666666,
              "#ed7953"
             ],
             [
              0.7777777777777778,
              "#fb9f3a"
             ],
             [
              0.8888888888888888,
              "#fdca26"
             ],
             [
              1,
              "#f0f921"
             ]
            ],
            "type": "histogram2dcontour"
           }
          ],
          "mesh3d": [
           {
            "colorbar": {
             "outlinewidth": 0,
             "ticks": ""
            },
            "type": "mesh3d"
           }
          ],
          "parcoords": [
           {
            "line": {
             "colorbar": {
              "outlinewidth": 0,
              "ticks": ""
             }
            },
            "type": "parcoords"
           }
          ],
          "pie": [
           {
            "automargin": true,
            "type": "pie"
           }
          ],
          "scatter": [
           {
            "marker": {
             "colorbar": {
              "outlinewidth": 0,
              "ticks": ""
             }
            },
            "type": "scatter"
           }
          ],
          "scatter3d": [
           {
            "line": {
             "colorbar": {
              "outlinewidth": 0,
              "ticks": ""
             }
            },
            "marker": {
             "colorbar": {
              "outlinewidth": 0,
              "ticks": ""
             }
            },
            "type": "scatter3d"
           }
          ],
          "scattercarpet": [
           {
            "marker": {
             "colorbar": {
              "outlinewidth": 0,
              "ticks": ""
             }
            },
            "type": "scattercarpet"
           }
          ],
          "scattergeo": [
           {
            "marker": {
             "colorbar": {
              "outlinewidth": 0,
              "ticks": ""
             }
            },
            "type": "scattergeo"
           }
          ],
          "scattergl": [
           {
            "marker": {
             "colorbar": {
              "outlinewidth": 0,
              "ticks": ""
             }
            },
            "type": "scattergl"
           }
          ],
          "scattermapbox": [
           {
            "marker": {
             "colorbar": {
              "outlinewidth": 0,
              "ticks": ""
             }
            },
            "type": "scattermapbox"
           }
          ],
          "scatterpolar": [
           {
            "marker": {
             "colorbar": {
              "outlinewidth": 0,
              "ticks": ""
             }
            },
            "type": "scatterpolar"
           }
          ],
          "scatterpolargl": [
           {
            "marker": {
             "colorbar": {
              "outlinewidth": 0,
              "ticks": ""
             }
            },
            "type": "scatterpolargl"
           }
          ],
          "scatterternary": [
           {
            "marker": {
             "colorbar": {
              "outlinewidth": 0,
              "ticks": ""
             }
            },
            "type": "scatterternary"
           }
          ],
          "surface": [
           {
            "colorbar": {
             "outlinewidth": 0,
             "ticks": ""
            },
            "colorscale": [
             [
              0,
              "#0d0887"
             ],
             [
              0.1111111111111111,
              "#46039f"
             ],
             [
              0.2222222222222222,
              "#7201a8"
             ],
             [
              0.3333333333333333,
              "#9c179e"
             ],
             [
              0.4444444444444444,
              "#bd3786"
             ],
             [
              0.5555555555555556,
              "#d8576b"
             ],
             [
              0.6666666666666666,
              "#ed7953"
             ],
             [
              0.7777777777777778,
              "#fb9f3a"
             ],
             [
              0.8888888888888888,
              "#fdca26"
             ],
             [
              1,
              "#f0f921"
             ]
            ],
            "type": "surface"
           }
          ],
          "table": [
           {
            "cells": {
             "fill": {
              "color": "#EBF0F8"
             },
             "line": {
              "color": "white"
             }
            },
            "header": {
             "fill": {
              "color": "#C8D4E3"
             },
             "line": {
              "color": "white"
             }
            },
            "type": "table"
           }
          ]
         },
         "layout": {
          "annotationdefaults": {
           "arrowcolor": "#2a3f5f",
           "arrowhead": 0,
           "arrowwidth": 1
          },
          "autotypenumbers": "strict",
          "coloraxis": {
           "colorbar": {
            "outlinewidth": 0,
            "ticks": ""
           }
          },
          "colorscale": {
           "diverging": [
            [
             0,
             "#8e0152"
            ],
            [
             0.1,
             "#c51b7d"
            ],
            [
             0.2,
             "#de77ae"
            ],
            [
             0.3,
             "#f1b6da"
            ],
            [
             0.4,
             "#fde0ef"
            ],
            [
             0.5,
             "#f7f7f7"
            ],
            [
             0.6,
             "#e6f5d0"
            ],
            [
             0.7,
             "#b8e186"
            ],
            [
             0.8,
             "#7fbc41"
            ],
            [
             0.9,
             "#4d9221"
            ],
            [
             1,
             "#276419"
            ]
           ],
           "sequential": [
            [
             0,
             "#0d0887"
            ],
            [
             0.1111111111111111,
             "#46039f"
            ],
            [
             0.2222222222222222,
             "#7201a8"
            ],
            [
             0.3333333333333333,
             "#9c179e"
            ],
            [
             0.4444444444444444,
             "#bd3786"
            ],
            [
             0.5555555555555556,
             "#d8576b"
            ],
            [
             0.6666666666666666,
             "#ed7953"
            ],
            [
             0.7777777777777778,
             "#fb9f3a"
            ],
            [
             0.8888888888888888,
             "#fdca26"
            ],
            [
             1,
             "#f0f921"
            ]
           ],
           "sequentialminus": [
            [
             0,
             "#0d0887"
            ],
            [
             0.1111111111111111,
             "#46039f"
            ],
            [
             0.2222222222222222,
             "#7201a8"
            ],
            [
             0.3333333333333333,
             "#9c179e"
            ],
            [
             0.4444444444444444,
             "#bd3786"
            ],
            [
             0.5555555555555556,
             "#d8576b"
            ],
            [
             0.6666666666666666,
             "#ed7953"
            ],
            [
             0.7777777777777778,
             "#fb9f3a"
            ],
            [
             0.8888888888888888,
             "#fdca26"
            ],
            [
             1,
             "#f0f921"
            ]
           ]
          },
          "colorway": [
           "#636efa",
           "#EF553B",
           "#00cc96",
           "#ab63fa",
           "#FFA15A",
           "#19d3f3",
           "#FF6692",
           "#B6E880",
           "#FF97FF",
           "#FECB52"
          ],
          "font": {
           "color": "#2a3f5f"
          },
          "geo": {
           "bgcolor": "white",
           "lakecolor": "white",
           "landcolor": "#E5ECF6",
           "showlakes": true,
           "showland": true,
           "subunitcolor": "white"
          },
          "hoverlabel": {
           "align": "left"
          },
          "hovermode": "closest",
          "mapbox": {
           "style": "light"
          },
          "paper_bgcolor": "white",
          "plot_bgcolor": "#E5ECF6",
          "polar": {
           "angularaxis": {
            "gridcolor": "white",
            "linecolor": "white",
            "ticks": ""
           },
           "bgcolor": "#E5ECF6",
           "radialaxis": {
            "gridcolor": "white",
            "linecolor": "white",
            "ticks": ""
           }
          },
          "scene": {
           "xaxis": {
            "backgroundcolor": "#E5ECF6",
            "gridcolor": "white",
            "gridwidth": 2,
            "linecolor": "white",
            "showbackground": true,
            "ticks": "",
            "zerolinecolor": "white"
           },
           "yaxis": {
            "backgroundcolor": "#E5ECF6",
            "gridcolor": "white",
            "gridwidth": 2,
            "linecolor": "white",
            "showbackground": true,
            "ticks": "",
            "zerolinecolor": "white"
           },
           "zaxis": {
            "backgroundcolor": "#E5ECF6",
            "gridcolor": "white",
            "gridwidth": 2,
            "linecolor": "white",
            "showbackground": true,
            "ticks": "",
            "zerolinecolor": "white"
           }
          },
          "shapedefaults": {
           "line": {
            "color": "#2a3f5f"
           }
          },
          "ternary": {
           "aaxis": {
            "gridcolor": "white",
            "linecolor": "white",
            "ticks": ""
           },
           "baxis": {
            "gridcolor": "white",
            "linecolor": "white",
            "ticks": ""
           },
           "bgcolor": "#E5ECF6",
           "caxis": {
            "gridcolor": "white",
            "linecolor": "white",
            "ticks": ""
           }
          },
          "title": {
           "x": 0.05
          },
          "xaxis": {
           "automargin": true,
           "gridcolor": "white",
           "linecolor": "white",
           "ticks": "",
           "title": {
            "standoff": 15
           },
           "zerolinecolor": "white",
           "zerolinewidth": 2
          },
          "yaxis": {
           "automargin": true,
           "gridcolor": "white",
           "linecolor": "white",
           "ticks": "",
           "title": {
            "standoff": 15
           },
           "zerolinecolor": "white",
           "zerolinewidth": 2
          }
         }
        },
        "title": {
         "text": "DBSCAN"
        }
       }
      },
      "text/html": [
       "<div>                            <div id=\"94405196-3ffe-4581-b1fe-e48e7b045853\" class=\"plotly-graph-div\" style=\"height:525px; width:100%;\"></div>            <script type=\"text/javascript\">                require([\"plotly\"], function(Plotly) {                    window.PLOTLYENV=window.PLOTLYENV || {};                                    if (document.getElementById(\"94405196-3ffe-4581-b1fe-e48e7b045853\")) {                    Plotly.newPlot(                        \"94405196-3ffe-4581-b1fe-e48e7b045853\",                        [{\"hovertemplate\":\"PC1=%{x}<br>PC2=%{y}<br>PC3=%{z}<br>color=%{marker.color}<extra></extra>\",\"legendgroup\":\"\",\"marker\":{\"color\":[0,-1,1,2,-1,-1,1,2,-1,2,-1,1,2,-1,-1,1,-1,1,0,-1,2,2,-1,-1,1,-1,-1,-1,-1,-1,3,-1,-1,-1,-1,-1,-1,2,-1,-1,1,1,2,-1,-1,-1,2,-1,-1,-1,-1,-1,-1,1,-1,2,1,3,0,-1,-1,2,-1,0,0,-1,1,-1,-1,-1,-1,-1,-1,3,-1,2,1,-1,-1,1,-1,-1,-1,1,2,-1,0,-1,-1,2,-1,0,-1,2,-1,-1,2,-1,-1,-1],\"coloraxis\":\"coloraxis\",\"symbol\":\"circle\"},\"mode\":\"markers\",\"name\":\"\",\"scene\":\"scene\",\"showlegend\":false,\"x\":[1.0149083392966256,-0.3130428010587717,-0.45146178939282683,0.7005507580900646,0.07257440058436636,-0.4882325056578478,-0.6568893465727057,0.6415282147133622,-0.1179576912111683,1.0873935168900546,-0.05146086994807354,-0.5740836157485354,1.2723421394364716,-0.575252193452425,0.20463061484303552,-0.451461789392827,-0.43765090726748845,-0.656889346572705,0.7398744951826123,-0.3628767305235811,1.4224486984594111,0.1514753767384692,-0.38681689153707915,-0.29715821895457295,-0.3031208959842476,-0.6123239093830027,-0.31929178214860904,-0.43052698100335873,-0.3550585485162153,-0.37575989033270984,0.2671492960514589,0.3244724043164433,-0.43200793390176206,-0.3689843727417128,0.27576893904064576,1.148069384612407,-0.46098242377386955,1.6073973210058283,-0.6682363416338494,1.4955884063198501,-0.451461789392827,-0.5342675202169963,0.25468545591337344,-0.5345727099403836,1.1139745215118753,-0.7358897080705509,1.0356059396594217,0.198413913595318,-0.6103195545466079,-0.3820967676546399,-0.19034373792075016,-0.9469402168747866,-0.20299155201169208,-0.3031208959842476,0.09460648689134596,0.6415282147133625,-0.5342675202169963,0.23817480617935138,0.6280655804966342,-0.08209673511888334,-0.22721417754569806,0.25468545591337344,-0.1162819709289515,0.6280655804966342,1.3499635208659804,-0.6590173246734197,-0.3031208959842476,-0.14654105051657978,0.004568823044083487,-0.20983272188386706,-0.27185652563282703,-0.2837713475605639,-0.46212820337450117,0.5421831401654698,-0.2255955522883314,0.6539920548514482,-0.43413817624444095,0.3646744036925476,0.18299469537208118,-0.311516349888732,-1.084257248798442,-1.1277741037899585,-0.4371402785824909,-0.342936991515787,1.0749296767519692,0.7146679225738009,1.3624273610040651,-0.8852473682935964,0.13800426129357,0.25468545591337344,-0.6568735091179451,0.5815068772580168,-0.2509211511771291,0.6539920548514482,-0.025816253729114436,-0.15379879488051196,0.6880869179519798,-0.39864147098195646,-0.5233171055715434,-0.8870203689216862],\"y\":[0.1577644064878873,0.019267901261709453,1.0081137570644738,0.006002383752602541,-0.4943517103835355,-0.7611759531438241,1.477536728450557,0.10147699258114266,-0.5915469879012744,0.03996909577661817,-0.5216886837905665,1.2085982537601738,0.04221354848981329,-0.44149042331685484,0.034460428911103666,1.008113757064473,-0.0812823985779111,1.4775367284505563,0.15550539844777259,-0.29122225246645017,-0.06774760176049505,-0.037543704713095864,-0.378549057605865,-0.5814915488340242,0.8795931193514881,-0.4561935860435776,-0.013632694635634487,-0.03285759021958937,-0.2108119375820624,0.5813805643833144,0.059690675423084226,-0.3024841771349627,-0.3605733298482958,-1.067115058385582,0.17661309022130384,0.018325449639957893,-0.3565377101250818,-0.06550314904729866,-0.25973589455053686,-0.09721085303119768,1.0081137570644734,1.2770522317548552,0.06751028055712814,-0.5413752980972327,0.09816084820041057,-0.9459556791395503,-0.10171431378450942,-0.15359480969466377,-0.16279856348639332,0.25605261738033464,0.1249191980664801,-1.2123228457254138,0.37571147478994016,0.8795931193514881,-1.242986874878973,0.10147699258114276,1.2770522317548552,0.06372629514629834,0.12379769446387366,-0.5528052239602276,-0.28878688311049855,0.06751028055712814,-0.24968118880918566,0.12379769446387366,0.050047708950776565,0.535507266507506,0.8795931193514881,0.1722063736430748,-0.6623171881201189,0.12432188653193336,0.08299376231114149,0.0817410757182372,-0.6789769739818338,0.061949683463199894,-0.1599068460197561,0.0936573874470989,0.7731705871933073,-0.8114036022428254,0.11496745404204858,0.5726860904976069,-0.2711626084640894,-0.07555197536364382,-0.23879138518171508,0.8111391413568064,0.04778870091066093,0.07201374131043972,0.0422281038167327,0.18356541020321976,0.05352964916992127,0.06751028055712814,-0.7091104923077988,0.21145269815837006,0.013302258206746884,0.0936573874470989,-0.4381587751920797,-0.6063698884095213,0.01382198888664633,-0.33914798195357015,-0.43649520028610955,-1.0993278500240786],\"z\":[-0.520467926686968,-0.12652132712289557,0.28101904183476245,-0.05644189483094558,0.8359163381037934,0.476577970194797,0.4248229145627804,0.08923143306461133,0.01325008975439689,-0.20652610165098642,-0.5453094586272011,0.27408699097096056,-0.19040895138279318,-0.5777455821592077,-0.8002907841007966,0.2810190418347623,-0.5023256212769788,0.42482291456278004,-0.5032729076326224,-0.2157229972951423,0.029965855972844707,0.34368965820480346,0.16254683694809105,-0.8152221872264273,0.37516661651741934,-0.2108435266257632,-0.13501212200379967,-0.9220030456215491,-0.1168926323931191,-0.17178975119387876,0.2995704882424566,0.6317754617756468,-0.38892926466027533,0.8263038616689081,-0.3246117262380942,-0.11777461197490087,-0.4439017019839333,0.04608300624103846,-0.46452589856542964,0.1789721940067347,0.2810190418347624,0.43175496542658204,0.23931563988465282,0.07024543700400525,0.14840841263626411,0.47033584892405406,0.18005006279288607,0.6626924182906491,-0.8185173384926676,-0.6285616535700705,-0.44842333534113515,0.47786847203201654,-0.004108368602980793,0.37516661651741934,1.1425432065253804,0.08923143306461155,0.43175496542658204,0.24459805091879896,-0.3703837198669265,0.4488870572225543,0.341734998864806,0.23931563988465282,-0.8440540004098899,-0.3703837198669265,-0.283975969063136,0.3881624355571157,0.37516661651741934,-0.08009698707669632,-0.18383685139553552,-0.23089534544304544,-0.14926820829996487,-0.19702144176961392,0.4360805231067688,0.2823754691881116,0.11682639531074722,0.14948628142241527,0.05247998030618198,1.0889754878378863,0.09259656846605475,0.05941203116998368,-0.3635787591400758,-0.9686162731460941,0.17974667239897152,0.21749864206179786,-0.2667809500087907,0.23823777109850136,-0.22372112070533198,-0.7606989935482324,-0.9820604521560773,0.23931563988465282,0.36330202881602036,-0.16445554361356546,-0.0672950102420444,0.14948628142241527,-0.5859341642681556,0.15498051262352142,-0.11669674318874944,0.24508970734483027,0.3562672210256728,0.010675723198081237],\"type\":\"scatter3d\"}],                        {\"template\":{\"data\":{\"bar\":[{\"error_x\":{\"color\":\"#2a3f5f\"},\"error_y\":{\"color\":\"#2a3f5f\"},\"marker\":{\"line\":{\"color\":\"#E5ECF6\",\"width\":0.5},\"pattern\":{\"fillmode\":\"overlay\",\"size\":10,\"solidity\":0.2}},\"type\":\"bar\"}],\"barpolar\":[{\"marker\":{\"line\":{\"color\":\"#E5ECF6\",\"width\":0.5},\"pattern\":{\"fillmode\":\"overlay\",\"size\":10,\"solidity\":0.2}},\"type\":\"barpolar\"}],\"carpet\":[{\"aaxis\":{\"endlinecolor\":\"#2a3f5f\",\"gridcolor\":\"white\",\"linecolor\":\"white\",\"minorgridcolor\":\"white\",\"startlinecolor\":\"#2a3f5f\"},\"baxis\":{\"endlinecolor\":\"#2a3f5f\",\"gridcolor\":\"white\",\"linecolor\":\"white\",\"minorgridcolor\":\"white\",\"startlinecolor\":\"#2a3f5f\"},\"type\":\"carpet\"}],\"choropleth\":[{\"colorbar\":{\"outlinewidth\":0,\"ticks\":\"\"},\"type\":\"choropleth\"}],\"contour\":[{\"colorbar\":{\"outlinewidth\":0,\"ticks\":\"\"},\"colorscale\":[[0.0,\"#0d0887\"],[0.1111111111111111,\"#46039f\"],[0.2222222222222222,\"#7201a8\"],[0.3333333333333333,\"#9c179e\"],[0.4444444444444444,\"#bd3786\"],[0.5555555555555556,\"#d8576b\"],[0.6666666666666666,\"#ed7953\"],[0.7777777777777778,\"#fb9f3a\"],[0.8888888888888888,\"#fdca26\"],[1.0,\"#f0f921\"]],\"type\":\"contour\"}],\"contourcarpet\":[{\"colorbar\":{\"outlinewidth\":0,\"ticks\":\"\"},\"type\":\"contourcarpet\"}],\"heatmap\":[{\"colorbar\":{\"outlinewidth\":0,\"ticks\":\"\"},\"colorscale\":[[0.0,\"#0d0887\"],[0.1111111111111111,\"#46039f\"],[0.2222222222222222,\"#7201a8\"],[0.3333333333333333,\"#9c179e\"],[0.4444444444444444,\"#bd3786\"],[0.5555555555555556,\"#d8576b\"],[0.6666666666666666,\"#ed7953\"],[0.7777777777777778,\"#fb9f3a\"],[0.8888888888888888,\"#fdca26\"],[1.0,\"#f0f921\"]],\"type\":\"heatmap\"}],\"heatmapgl\":[{\"colorbar\":{\"outlinewidth\":0,\"ticks\":\"\"},\"colorscale\":[[0.0,\"#0d0887\"],[0.1111111111111111,\"#46039f\"],[0.2222222222222222,\"#7201a8\"],[0.3333333333333333,\"#9c179e\"],[0.4444444444444444,\"#bd3786\"],[0.5555555555555556,\"#d8576b\"],[0.6666666666666666,\"#ed7953\"],[0.7777777777777778,\"#fb9f3a\"],[0.8888888888888888,\"#fdca26\"],[1.0,\"#f0f921\"]],\"type\":\"heatmapgl\"}],\"histogram\":[{\"marker\":{\"pattern\":{\"fillmode\":\"overlay\",\"size\":10,\"solidity\":0.2}},\"type\":\"histogram\"}],\"histogram2d\":[{\"colorbar\":{\"outlinewidth\":0,\"ticks\":\"\"},\"colorscale\":[[0.0,\"#0d0887\"],[0.1111111111111111,\"#46039f\"],[0.2222222222222222,\"#7201a8\"],[0.3333333333333333,\"#9c179e\"],[0.4444444444444444,\"#bd3786\"],[0.5555555555555556,\"#d8576b\"],[0.6666666666666666,\"#ed7953\"],[0.7777777777777778,\"#fb9f3a\"],[0.8888888888888888,\"#fdca26\"],[1.0,\"#f0f921\"]],\"type\":\"histogram2d\"}],\"histogram2dcontour\":[{\"colorbar\":{\"outlinewidth\":0,\"ticks\":\"\"},\"colorscale\":[[0.0,\"#0d0887\"],[0.1111111111111111,\"#46039f\"],[0.2222222222222222,\"#7201a8\"],[0.3333333333333333,\"#9c179e\"],[0.4444444444444444,\"#bd3786\"],[0.5555555555555556,\"#d8576b\"],[0.6666666666666666,\"#ed7953\"],[0.7777777777777778,\"#fb9f3a\"],[0.8888888888888888,\"#fdca26\"],[1.0,\"#f0f921\"]],\"type\":\"histogram2dcontour\"}],\"mesh3d\":[{\"colorbar\":{\"outlinewidth\":0,\"ticks\":\"\"},\"type\":\"mesh3d\"}],\"parcoords\":[{\"line\":{\"colorbar\":{\"outlinewidth\":0,\"ticks\":\"\"}},\"type\":\"parcoords\"}],\"pie\":[{\"automargin\":true,\"type\":\"pie\"}],\"scatter\":[{\"marker\":{\"colorbar\":{\"outlinewidth\":0,\"ticks\":\"\"}},\"type\":\"scatter\"}],\"scatter3d\":[{\"line\":{\"colorbar\":{\"outlinewidth\":0,\"ticks\":\"\"}},\"marker\":{\"colorbar\":{\"outlinewidth\":0,\"ticks\":\"\"}},\"type\":\"scatter3d\"}],\"scattercarpet\":[{\"marker\":{\"colorbar\":{\"outlinewidth\":0,\"ticks\":\"\"}},\"type\":\"scattercarpet\"}],\"scattergeo\":[{\"marker\":{\"colorbar\":{\"outlinewidth\":0,\"ticks\":\"\"}},\"type\":\"scattergeo\"}],\"scattergl\":[{\"marker\":{\"colorbar\":{\"outlinewidth\":0,\"ticks\":\"\"}},\"type\":\"scattergl\"}],\"scattermapbox\":[{\"marker\":{\"colorbar\":{\"outlinewidth\":0,\"ticks\":\"\"}},\"type\":\"scattermapbox\"}],\"scatterpolar\":[{\"marker\":{\"colorbar\":{\"outlinewidth\":0,\"ticks\":\"\"}},\"type\":\"scatterpolar\"}],\"scatterpolargl\":[{\"marker\":{\"colorbar\":{\"outlinewidth\":0,\"ticks\":\"\"}},\"type\":\"scatterpolargl\"}],\"scatterternary\":[{\"marker\":{\"colorbar\":{\"outlinewidth\":0,\"ticks\":\"\"}},\"type\":\"scatterternary\"}],\"surface\":[{\"colorbar\":{\"outlinewidth\":0,\"ticks\":\"\"},\"colorscale\":[[0.0,\"#0d0887\"],[0.1111111111111111,\"#46039f\"],[0.2222222222222222,\"#7201a8\"],[0.3333333333333333,\"#9c179e\"],[0.4444444444444444,\"#bd3786\"],[0.5555555555555556,\"#d8576b\"],[0.6666666666666666,\"#ed7953\"],[0.7777777777777778,\"#fb9f3a\"],[0.8888888888888888,\"#fdca26\"],[1.0,\"#f0f921\"]],\"type\":\"surface\"}],\"table\":[{\"cells\":{\"fill\":{\"color\":\"#EBF0F8\"},\"line\":{\"color\":\"white\"}},\"header\":{\"fill\":{\"color\":\"#C8D4E3\"},\"line\":{\"color\":\"white\"}},\"type\":\"table\"}]},\"layout\":{\"annotationdefaults\":{\"arrowcolor\":\"#2a3f5f\",\"arrowhead\":0,\"arrowwidth\":1},\"autotypenumbers\":\"strict\",\"coloraxis\":{\"colorbar\":{\"outlinewidth\":0,\"ticks\":\"\"}},\"colorscale\":{\"diverging\":[[0,\"#8e0152\"],[0.1,\"#c51b7d\"],[0.2,\"#de77ae\"],[0.3,\"#f1b6da\"],[0.4,\"#fde0ef\"],[0.5,\"#f7f7f7\"],[0.6,\"#e6f5d0\"],[0.7,\"#b8e186\"],[0.8,\"#7fbc41\"],[0.9,\"#4d9221\"],[1,\"#276419\"]],\"sequential\":[[0.0,\"#0d0887\"],[0.1111111111111111,\"#46039f\"],[0.2222222222222222,\"#7201a8\"],[0.3333333333333333,\"#9c179e\"],[0.4444444444444444,\"#bd3786\"],[0.5555555555555556,\"#d8576b\"],[0.6666666666666666,\"#ed7953\"],[0.7777777777777778,\"#fb9f3a\"],[0.8888888888888888,\"#fdca26\"],[1.0,\"#f0f921\"]],\"sequentialminus\":[[0.0,\"#0d0887\"],[0.1111111111111111,\"#46039f\"],[0.2222222222222222,\"#7201a8\"],[0.3333333333333333,\"#9c179e\"],[0.4444444444444444,\"#bd3786\"],[0.5555555555555556,\"#d8576b\"],[0.6666666666666666,\"#ed7953\"],[0.7777777777777778,\"#fb9f3a\"],[0.8888888888888888,\"#fdca26\"],[1.0,\"#f0f921\"]]},\"colorway\":[\"#636efa\",\"#EF553B\",\"#00cc96\",\"#ab63fa\",\"#FFA15A\",\"#19d3f3\",\"#FF6692\",\"#B6E880\",\"#FF97FF\",\"#FECB52\"],\"font\":{\"color\":\"#2a3f5f\"},\"geo\":{\"bgcolor\":\"white\",\"lakecolor\":\"white\",\"landcolor\":\"#E5ECF6\",\"showlakes\":true,\"showland\":true,\"subunitcolor\":\"white\"},\"hoverlabel\":{\"align\":\"left\"},\"hovermode\":\"closest\",\"mapbox\":{\"style\":\"light\"},\"paper_bgcolor\":\"white\",\"plot_bgcolor\":\"#E5ECF6\",\"polar\":{\"angularaxis\":{\"gridcolor\":\"white\",\"linecolor\":\"white\",\"ticks\":\"\"},\"bgcolor\":\"#E5ECF6\",\"radialaxis\":{\"gridcolor\":\"white\",\"linecolor\":\"white\",\"ticks\":\"\"}},\"scene\":{\"xaxis\":{\"backgroundcolor\":\"#E5ECF6\",\"gridcolor\":\"white\",\"gridwidth\":2,\"linecolor\":\"white\",\"showbackground\":true,\"ticks\":\"\",\"zerolinecolor\":\"white\"},\"yaxis\":{\"backgroundcolor\":\"#E5ECF6\",\"gridcolor\":\"white\",\"gridwidth\":2,\"linecolor\":\"white\",\"showbackground\":true,\"ticks\":\"\",\"zerolinecolor\":\"white\"},\"zaxis\":{\"backgroundcolor\":\"#E5ECF6\",\"gridcolor\":\"white\",\"gridwidth\":2,\"linecolor\":\"white\",\"showbackground\":true,\"ticks\":\"\",\"zerolinecolor\":\"white\"}},\"shapedefaults\":{\"line\":{\"color\":\"#2a3f5f\"}},\"ternary\":{\"aaxis\":{\"gridcolor\":\"white\",\"linecolor\":\"white\",\"ticks\":\"\"},\"baxis\":{\"gridcolor\":\"white\",\"linecolor\":\"white\",\"ticks\":\"\"},\"bgcolor\":\"#E5ECF6\",\"caxis\":{\"gridcolor\":\"white\",\"linecolor\":\"white\",\"ticks\":\"\"}},\"title\":{\"x\":0.05},\"xaxis\":{\"automargin\":true,\"gridcolor\":\"white\",\"linecolor\":\"white\",\"ticks\":\"\",\"title\":{\"standoff\":15},\"zerolinecolor\":\"white\",\"zerolinewidth\":2},\"yaxis\":{\"automargin\":true,\"gridcolor\":\"white\",\"linecolor\":\"white\",\"ticks\":\"\",\"title\":{\"standoff\":15},\"zerolinecolor\":\"white\",\"zerolinewidth\":2}}},\"scene\":{\"domain\":{\"x\":[0.0,1.0],\"y\":[0.0,1.0]},\"xaxis\":{\"title\":{\"text\":\"PC1\"}},\"yaxis\":{\"title\":{\"text\":\"PC2\"}},\"zaxis\":{\"title\":{\"text\":\"PC3\"}}},\"coloraxis\":{\"colorbar\":{\"title\":{\"text\":\"color\"}},\"colorscale\":[[0.0,\"#0d0887\"],[0.1111111111111111,\"#46039f\"],[0.2222222222222222,\"#7201a8\"],[0.3333333333333333,\"#9c179e\"],[0.4444444444444444,\"#bd3786\"],[0.5555555555555556,\"#d8576b\"],[0.6666666666666666,\"#ed7953\"],[0.7777777777777778,\"#fb9f3a\"],[0.8888888888888888,\"#fdca26\"],[1.0,\"#f0f921\"]]},\"legend\":{\"tracegroupgap\":0},\"title\":{\"text\":\"DBSCAN\"}},                        {\"responsive\": true}                    ).then(function(){\n",
       "                            \n",
       "var gd = document.getElementById('94405196-3ffe-4581-b1fe-e48e7b045853');\n",
       "var x = new MutationObserver(function (mutations, observer) {{\n",
       "        var display = window.getComputedStyle(gd).display;\n",
       "        if (!display || display === 'none') {{\n",
       "            console.log([gd, 'removed!']);\n",
       "            Plotly.purge(gd);\n",
       "            observer.disconnect();\n",
       "        }}\n",
       "}});\n",
       "\n",
       "// Listen for the removal of the full notebook cells\n",
       "var notebookContainer = gd.closest('#notebook-container');\n",
       "if (notebookContainer) {{\n",
       "    x.observe(notebookContainer, {childList: true});\n",
       "}}\n",
       "\n",
       "// Listen for the clearing of the current output cell\n",
       "var outputEl = gd.closest('.output');\n",
       "if (outputEl) {{\n",
       "    x.observe(outputEl, {childList: true});\n",
       "}}\n",
       "\n",
       "                        })                };                });            </script>        </div>"
      ]
     },
     "metadata": {},
     "output_type": "display_data"
    }
   ],
   "source": [
    "# Your turn\n",
    "#adapted from Frank Fletcher's notebook\n",
    "#https://github.com/frankfletcher/Springboard-Data-Science/blob/master/Module%2015.6%20-%20PCA%20and%20K-Means/Clustering%20Case%20Study%20-%20Customer%20Segmentation%20with%20K-Means%20-%20Tier%203.ipynb\n",
    "\n",
    "import plotly.express as px\n",
    "\n",
    "# 3 components as per explained_variance_\n",
    "pca = PCA(n_components=3, random_state=42)\n",
    "X_train = pca.fit_transform(x_cols)\n",
    "\n",
    "# use a 3d scatter plot for the 3 components\n",
    "def draw_cluster(pred, title):\n",
    "    df = pd.DataFrame({'PC1': X_train[:,0],\n",
    "                      'PC2': X_train[:,1],\n",
    "                      'PC3': X_train[:,2],\n",
    "                      'pred': pred})\n",
    "    \n",
    "    fig=px.scatter_3d(df, x='PC1', y='PC2', z='PC3', color=pred, title=title)\n",
    "    fig.show()\n",
    "\n",
    "from sklearn.cluster import AffinityPropagation, SpectralClustering, AgglomerativeClustering, DBSCAN\n",
    "\n",
    "draw_cluster(KMeans(random_state=42, n_clusters=3).fit_predict(x_cols), \"KMeans\")\n",
    "draw_cluster(AffinityPropagation(random_state=42,damping=0.97).fit_predict(x_cols), \"Affinity Propagation\")\n",
    "draw_cluster(SpectralClustering(random_state=42, n_clusters=3).fit_predict(x_cols), 'Spectral Clustering')\n",
    "draw_cluster(AgglomerativeClustering(n_clusters=3).fit_predict(x_cols), 'Agglomerative Clustering')\n",
    "draw_cluster(DBSCAN(eps=1).fit_predict(x_cols), 'DBSCAN')\n"
   ]
  },
  {
   "cell_type": "markdown",
   "metadata": {},
   "source": [
    "<font color='blue'>Spectral Clustering and Agglomerative Clustering do pretty well but Affinity Propogation and DBSCAN do not do very well at all.  KMeans seems to perform better than all four of the other models here.  "
   ]
  },
  {
   "cell_type": "code",
   "execution_count": null,
   "metadata": {},
   "outputs": [],
   "source": []
  }
 ],
 "metadata": {
  "anaconda-cloud": {},
  "colab": {
   "name": "Clustering Case Study - Customer Segmentation with K-Means - Tier 3.ipynb",
   "provenance": []
  },
  "kernelspec": {
   "display_name": "Python 3 (ipykernel)",
   "language": "python",
   "name": "python3"
  },
  "language_info": {
   "codemirror_mode": {
    "name": "ipython",
    "version": 3
   },
   "file_extension": ".py",
   "mimetype": "text/x-python",
   "name": "python",
   "nbconvert_exporter": "python",
   "pygments_lexer": "ipython3",
   "version": "3.9.12"
  }
 },
 "nbformat": 4,
 "nbformat_minor": 4
}
